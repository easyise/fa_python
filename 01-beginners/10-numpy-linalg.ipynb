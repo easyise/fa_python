{
 "cells": [
  {
   "cell_type": "markdown",
   "id": "sitting-watch",
   "metadata": {},
   "source": [
    "# Алгоритмы и структуры данных в Python\n",
    "\n",
    "## Модуль 10. Numpy, линейная алгебра"
   ]
  },
  {
   "cell_type": "markdown",
   "id": "interim-arkansas",
   "metadata": {},
   "source": [
    "1. Возможности библиотеки numpy\n",
    "2. Линейная алгебра и numpy"
   ]
  },
  {
   "cell_type": "code",
   "execution_count": null,
   "id": "prime-uganda",
   "metadata": {},
   "outputs": [],
   "source": [
    "import numpy as np\n",
    "import matplotlib.pyplot as plt\n",
    "%matplotlib inline"
   ]
  },
  {
   "cell_type": "markdown",
   "id": "received-preference",
   "metadata": {},
   "source": [
    "### Библиотека numpy\n",
    "\n",
    "Объекты numpy принято называть массивами.\n",
    "\n",
    "Главные отличия от списков:\n",
    "1. Массивы numpy хранят данные одного типа (как правило, числа)\n",
    "2. Данные хранятся не разрозненно, а \"массивом\"\n",
    "3. Доступ к элементам массива выполняется путем нехитрых математических операций:\n",
    "```\n",
    "    адрес ячейки в памяти = адрес начала массива + номер ячейки * размер ячейки\n",
    " ```\n",
    " \\- это дает значительный выигрыш в производительности.\n",
    "4. Такие объекты можно без потерь и конвертации передавать в другие программы и библиотеки (например, TensorFlow, PyTorch, другое)\n",
    "2. Несколько различных объектов/переменных могут ссылаться на одну область памяти\n",
    "6. Нативная многомерность (не через рекурсивно вложенные структуры)\n",
    "7. Поддерживается индексация булевыми масками и списком индексов\n",
    "8. Поддерживаются \"веторизованные\" вычисления \n",
    "9. Операция ```+``` - это поэлементное сложение, а не конкатенация\n",
    "10. Агрегатные функции - встроенные, использовать их совместно со стандартными ```sum()```, ```max()``` и т.д. крайне не рекомендуется\\\n",
    "и т. д.\n",
    "\n",
    "\n",
    "Но они, также как и списки:\n",
    "1. Могут быть перебраны в цикле ```for ...```\n",
    "2. Поддерживают срезы типа ```array[:-5]```\n",
    "3. Являются mutable (могут быть изменены внутри функций)\n"
   ]
  },
  {
   "cell_type": "code",
   "execution_count": null,
   "id": "offshore-taste",
   "metadata": {},
   "outputs": [],
   "source": [
    "# обычный список python\n",
    "list_ = [1,2,3]\n",
    "print(type(list_))\n",
    "print(list_)"
   ]
  },
  {
   "cell_type": "code",
   "execution_count": null,
   "id": "viral-samuel",
   "metadata": {},
   "outputs": [],
   "source": [
    "# массив numpy с теми же данными\n",
    "a = np.array([1, 2, 3])   # Создаем вектор как массив numpy, из списка\n",
    "print(a)                  # выведет на экран \"[5, 2, 3]\"\n",
    "print(type(a))            # выведет на экран \"<class 'numpy.ndarray'>\"\n",
    "print(a.shape)            # выведет на экран \"(3,)\"\n",
    "print(a[0], a[1], a[2])   # выведет на экран \"1 2 3\"\n",
    "a[0] = 5                  # Запишем что-нибудь в первый элемент\n"
   ]
  },
  {
   "cell_type": "markdown",
   "id": "cleared-consortium",
   "metadata": {},
   "source": [
    "Создание матриц"
   ]
  },
  {
   "cell_type": "code",
   "execution_count": null,
   "id": "concerned-wilson",
   "metadata": {},
   "outputs": [],
   "source": [
    "b = np.array([[1,2,3],[4,5,6]])    # Создаем матрицу размера 2х3 из двух списков\n",
    "print(b.shape)                     # выведет на экран \"(2, 3)\"\n",
    "print(b[0, 0], b[0, 1], b[1, 0])   # выведет на экран \"1 2 4\""
   ]
  },
  {
   "cell_type": "code",
   "execution_count": null,
   "id": "mediterranean-region",
   "metadata": {},
   "outputs": [],
   "source": [
    "# некоторые встроенные функции для создания специфических матриц\n",
    "nat_nums = np.arange(10) # вектор из натуральных чисел\n",
    "all_zeros_2x2 = np.zeros((2,2))   # Создаем нулевую матрицу размером 2x2\n",
    "all_ones_1x2 = np.ones((1,2))    # Единичная матрица размера 1x2\n",
    "all_sevens_2x2 = np.full((2,2), 7)  # Матрица 2х2, заполненная числом 7\n",
    "identity_matrix = np.eye(3)         # Матрица идентичности 3x3 (все эелементы - 0, главная диагональ - 1)\n",
    "\n",
    "print(nat_nums)\n",
    "print(all_zeros_2x2)\n",
    "print(all_ones_1x2)\n",
    "print(all_sevens_2x2)\n",
    "print(identity_matrix)"
   ]
  },
  {
   "cell_type": "markdown",
   "id": "herbal-fundamentals",
   "metadata": {},
   "source": [
    "#### Случайные числа\n",
    "\n",
    "Используем подмодуль ```np.random```, его специально устанавливать не нужно."
   ]
  },
  {
   "cell_type": "code",
   "execution_count": null,
   "id": "proud-produce",
   "metadata": {},
   "outputs": [],
   "source": [
    "random_matrix = np.random.random((2,2))  # Матрица 2x2 со случайно заданными вещ. числами от 0 до 1\n",
    "print(random_matrix)\n",
    "\n",
    "print('-----')\n",
    "\n",
    "randint_matrix_3x3 = np.random.randint(0,10, (3,3)) # Матрица 3х3 со случайнами целыми числами\n",
    "print(randint_matrix_3x3)\n",
    "\n",
    "print('-----')\n",
    "\n",
    "vec = np.arange(42) * 10\n",
    "print(vec)\n",
    "choice = np.random.choice(vec, 3, replace=False) # выберет случаные 3 элемента из массива (не индекса!)\n",
    "print(choice)\n",
    "\n",
    "print(np.random.choice(random_matrix, 2)) # работает только с векторами\n"
   ]
  },
  {
   "cell_type": "markdown",
   "id": "photographic-nylon",
   "metadata": {},
   "source": [
    "#### Обращения к элементам массивов, срезы"
   ]
  },
  {
   "cell_type": "code",
   "execution_count": null,
   "id": "honey-anatomy",
   "metadata": {},
   "outputs": [],
   "source": [
    "a = np.array([[1,2,3,4], [5,6,7,8], [9,10,11,12]])\n",
    "# [[ 1  2  3  4]\n",
    "#  [ 5  6  7  8]\n",
    "#  [ 9 10 11 12]]\n",
    "\n",
    "# Эти выражения эквивалентны\n",
    "print(a[0][2])\n",
    "print(a[0, 2]) # лучше использовать это, т.к. оно выполняется оптимальнее\n",
    "\n",
    "# Срежем: возьмем ряды с 0-го до 2-го и колонки с 1-й до 3-ей\n",
    "b = a[:2, 1:3]\n",
    "# [[2 3]\n",
    "#  [6 7]]\n",
    "\n",
    "## ВНИМАНИЕ: нулевое измерение - всегда \"по вертикали\", первое - по \"горизонтали\"!\n",
    "\n",
    "# Срез массива numpy - это представление оригинального массива\n",
    "# Попытка изменить там данные приведет к изменению оригинального массива\n",
    "print(a[0, 1])   # Выведет \"2\"\n",
    "b[0, 0] = 77     # b[0, 0] - то же самое, что и a[0, 1]\n",
    "print(a[0, 1])   # выведет на экран \"77\"\n",
    "\n",
    "# Срезы матриц можно получать как в виде векторов, так и 2-мерных матриц с размерностью 1xn или nx1\n",
    "print(a[1, :]) ## выведет на экран \"[5 6 7 8]\"\n",
    "print(a[1:2, :]) ## выведет на экран \"[[5 6 7 8]]\" \n",
    "print(a[:, 1]) ## выведет на экран \"[77  6 10]\"\n",
    "# print(a[:, 1:2]) ## ВОПРОС: что эта команда выведет на экран?"
   ]
  },
  {
   "cell_type": "markdown",
   "id": "nearby-alberta",
   "metadata": {},
   "source": [
    "#### ПРАКТИКА\n",
    "\n",
    "Выполните следующие упражнения:"
   ]
  },
  {
   "cell_type": "code",
   "execution_count": null,
   "id": "cooked-mandate",
   "metadata": {},
   "outputs": [],
   "source": [
    "a = np.array([[1,2,3,4], [5,6,7,8], [9,10,11,12]])\n",
    "print(a)\n",
    "\n",
    "# для матрицы a - сделайте срез в виде квадратных матриц 2x2 из левого верхнего левого и правого нижнего углов\n",
    "a_upper_left_2x2 = ?\n",
    "\n",
    "a_lower_right_2x2 = ?\n",
    "\n",
    "# для той же матрицы получите в виде векторов\n",
    "# 2-й с конца столбец\n",
    "a_col_2 = ?\n",
    "\n",
    "# последнюю строку\n",
    "a_last_row = ?"
   ]
  },
  {
   "cell_type": "markdown",
   "id": "altered-surname",
   "metadata": {},
   "source": [
    "### Индексирование: булев индекс и индекс массивом целых чисел\n",
    "\n",
    "Для доступа к элементам массивов numpy можно использовать \"маску\" - матрицу булевых элементов, а также список целых чисел."
   ]
  },
  {
   "cell_type": "code",
   "execution_count": null,
   "id": "practical-approval",
   "metadata": {},
   "outputs": [],
   "source": [
    "a = np.array([[1,2], [3, 4], [5, 6]])\n",
    "\n",
    "bool_idx = (a > 2)   # Эта команда возвращает массив numpy из булевых элементов\n",
    "                     # той же размерности, что и a. Его элементы True, если\n",
    "                     # соотв. элементы a > 2 \n",
    "\n",
    "print(bool_idx)      # выведет на экран \"[[False False]\n",
    "                     #                   [ True  True]\n",
    "                     #                   [ True  True]]\"\n",
    "\n",
    "# Используя эту матрицу, мы можем получить вектор из элементов матрицы a, которые соответсвуют условию\n",
    "print(a[bool_idx])  # выведет на экран \"[3 4 5 6]\"\n",
    "\n",
    "# ...и все это - одной строкой:\n",
    "print(a[a > 2])     # выведет на экран \"[3 4 5 6]\""
   ]
  },
  {
   "cell_type": "markdown",
   "id": "noticed-glass",
   "metadata": {},
   "source": [
    "Для булевых масок определены следующие логические операции:\n",
    "- ```&``` - побитовое логическое \"и\"\n",
    "- ```|``` - побитовое логическое \"или\"\n",
    "- ```~``` - побитовое логическое отрицание.\n",
    "\n",
    "**Обратите внимание:** каждый операнд в логическом выражении порождает свою булеву маску, далее эти операторы работают как битовые, выполняя логические операции для каждого элемента масок-операндов."
   ]
  },
  {
   "cell_type": "code",
   "execution_count": null,
   "id": "expanded-double",
   "metadata": {},
   "outputs": [],
   "source": [
    "a = np.array([[1,2], [3, 4], [5, 6]])\n",
    "bm_1 = (a>2)\n",
    "bm_2 = (a<5)\n",
    "print( bm_1)\n",
    "print( bm_2 )\n",
    "print( bm_1 & bm_2 ) # \"&\" работает как \"and\" для каждого элемента маски-операнда\n",
    "\n",
    "print('-----')\n",
    "\n",
    "print(a[ bm_1 & bm_2 ])\n",
    "\n",
    "print('-----')\n",
    "\n",
    "print( a[ (a<2) | (a>5) ] ) # не забывайте про скобки для каждой анонимной булевой маски!"
   ]
  },
  {
   "cell_type": "markdown",
   "id": "southwest-subscription",
   "metadata": {},
   "source": [
    "\"Fancy indexing\" - индексирование массивом целых чисел (можно также списком, но не кортежем и не множеством!)."
   ]
  },
  {
   "cell_type": "code",
   "execution_count": null,
   "id": "unusual-injury",
   "metadata": {},
   "outputs": [],
   "source": [
    "a = np.arange(0, 100, 10)\n",
    "print(a) # [ 0 10 20 30 40 50 60 70 80 90]\n",
    "\n",
    "b = a[ [2, 3, 2, 4, 2] ] \n",
    "print(b) # [20 30 20 40 20]\n",
    "\n",
    "print( a[ tuple([2, 3, 2, 4, 2]) ] ) # так нельзя"
   ]
  },
  {
   "cell_type": "markdown",
   "id": "geographic-puppy",
   "metadata": {},
   "source": [
    "#### Практика\n",
    "\n",
    "Выполните следующие упражнения:\n",
    "\n",
    "1. Из среза в виде квадратной матрицы 3x3, взятой с правого конца, выберите следующие элементы:"
   ]
  },
  {
   "cell_type": "code",
   "execution_count": null,
   "id": "infrared-planet",
   "metadata": {},
   "outputs": [],
   "source": [
    "a = np.array([[1,2,3,4], [5,6,7,8], [9,10,11,12]])\n",
    "\n",
    "a_3x3_last = a[-3:,-3:]\n",
    "print(a_3x3_last)\n",
    "\n",
    "# 1. те, которые меньше 10\n",
    "\n",
    "\n",
    "# 2. нечетные элементы\n",
    "\n",
    "\n"
   ]
  },
  {
   "cell_type": "markdown",
   "id": "separate-participant",
   "metadata": {},
   "source": [
    "\n",
    "2. Создайте массив из 10 натуральных чисел и присвойте 3-м случайным элементам из этого массива число 5000."
   ]
  },
  {
   "cell_type": "code",
   "execution_count": null,
   "id": "hungry-gibson",
   "metadata": {},
   "outputs": [],
   "source": [
    "a = np.arange(0, 1000, 100)\n",
    "print(a)\n",
    "\n",
    "# ваш код здесь"
   ]
  },
  {
   "cell_type": "markdown",
   "id": "human-conviction",
   "metadata": {},
   "source": [
    "### Изменение форм и размерностей массивов numpy\n",
    "\n",
    "Изменить форму массива можно функцией ```reshape( dim )```, где dim - кортеж с новой размерностью массива. Будет возвращена копия объекта, но область данных останется неизменной, а изменения в оригинальном массиве будут отражены в порожденной копии. При этом, если одна из размерностей массива неизвестна, на ее месте можно указать ```-1```.\n",
    "\n",
    "Кортеж с текущей размерностью массива находится в его свойстве ```shape```.\n",
    "\n",
    "\"Плоское\" представление массива вернет метод ```ravel()```, а метод ```flatten()``` вернет его копию."
   ]
  },
  {
   "cell_type": "code",
   "execution_count": null,
   "id": "twelve-schedule",
   "metadata": {},
   "outputs": [],
   "source": [
    "a = np.arange(9) # [0 1 2 3 4 5 6 7 8]\n",
    "print(a)\n",
    "b = a.reshape((3,3)) \n",
    "# [[  0   1   2]\n",
    "#  [  3   4   5]\n",
    "#  [  6   7   8]]\n",
    "a[5] = 100\n",
    "print(b)\n",
    "# [[  0   1   2]\n",
    "#  [  3   4 100]\n",
    "#  [  6   7   8]]\n",
    "\n",
    "r = b.ravel()\n",
    "f = b.flatten()\n",
    "print(f)\n",
    "f[4] = 200\n",
    "print(a) # [  0   1   2   3   4 100   6   7   8]\n",
    "r[4] = 200\n",
    "print(a) # [  0   1   2   3 200 100   6   7   8]"
   ]
  },
  {
   "cell_type": "markdown",
   "id": "nasty-circus",
   "metadata": {},
   "source": [
    "### Типы данных numpy"
   ]
  },
  {
   "cell_type": "code",
   "execution_count": null,
   "id": "wrapped-application",
   "metadata": {},
   "outputs": [],
   "source": [
    "x = np.array([1, 2])   # numpy сам подберет тип данных\n",
    "print(x.dtype)         # выведет на экран \"int64\"\n",
    "\n",
    "x = np.array([1.0, 2.0])   # Здесь numpy выберет float64\n",
    "print(x.dtype)             # выведет на экран \"float64\"\n",
    "\n",
    "x = np.array([1, 2], dtype=np.float64)   # Тут мы заставим numpy сконвертировать данные во float\n",
    "print(x.dtype)                         # выведет на экран \"float64\"\n",
    "\n",
    "# конвертация типов производится методом astype(), он возвращает копию текущего массива\n",
    "y = x.astype(dtype=np.int32) \n",
    "\n",
    "x = np.array([1, 2, 2.5, 'john'])   # Массив из указателей на разные области памяти. Для такого - списки.\n",
    "\n",
    "np.nan # нуль-тип по-нампайски"
   ]
  },
  {
   "cell_type": "markdown",
   "id": "spoken-slovenia",
   "metadata": {},
   "source": [
    "### Операции с массивами numpy\n",
    "\n",
    "#### Математические операции в векторизированной форме (выполняются над каждым элементом массива)\n",
    "\n",
    "Их можно выполнять и над срезами"
   ]
  },
  {
   "cell_type": "code",
   "execution_count": null,
   "id": "artistic-black",
   "metadata": {},
   "outputs": [],
   "source": [
    "x = np.array([[1,2],[3,4]], dtype=np.float64)\n",
    "y = np.array([[5,6],[7,8]], dtype=np.float64)\n",
    "\n",
    "# Поэлементное сложение:\n",
    "print(np.add(x, y)) # можно использовать функцию add()\n",
    "print(x + y) # можно просто использовать оператор \"+\"\n",
    "# То же самое с другими арифметическими операциями: вычитанием, умножением и делением\n",
    "\n",
    "print('----')\n",
    "\n",
    "# Взятие квадратного корня\n",
    "print(np.sqrt(x))\n",
    "\n",
    "print('----')\n",
    "\n",
    "# Взятие экспоненты\n",
    "print(np.exp(x))\n",
    "\n",
    "print('----')\n",
    "\n",
    "# Логарифмирование\n",
    "print(np.log(x))\n",
    "\n",
    "a  = np.array([[1,2,3,4], [5,6,7,8,], [9,10,11,12]], dtype=np.float64)\n",
    "\n",
    "a[1:3, :2] = np.sqrt( a[1:3, :2] ) # можно выполнять над срезами и присваивать срезам\n",
    "a\n",
    "\n",
    "# Другие операции над элементами массивов numpy - см. документацию"
   ]
  },
  {
   "cell_type": "markdown",
   "id": "temporal-martial",
   "metadata": {},
   "source": [
    "### Агрегатные вычисления\n",
    "\n"
   ]
  },
  {
   "cell_type": "code",
   "execution_count": null,
   "id": "departmental-desire",
   "metadata": {},
   "outputs": [],
   "source": [
    "x = np.array([[1,2,3], [4,5,6], [7,8,9], [10, 11, 12]])\n",
    "\n",
    "print(x.sum()) # сумма\n",
    "\n",
    "print(x.mean()) # среднее\n",
    "\n",
    "print(x[2].sum()) # сумма по 2-й строке\n",
    "\n",
    "print(np.sum(x[:, 1])) # сумма по 1-му столбцу"
   ]
  },
  {
   "cell_type": "markdown",
   "id": "popular-moscow",
   "metadata": {},
   "source": [
    "Агрегатные функции могут возвращать векторы:"
   ]
  },
  {
   "cell_type": "code",
   "execution_count": null,
   "id": "better-genesis",
   "metadata": {},
   "outputs": [],
   "source": [
    "x = np.array([[1,2,3], [4,5,6], [7,8,9], [10, 11, 12]])\n",
    "print(x)\n",
    "\n",
    "print('----')\n",
    "\n",
    "print(x.sum(axis=0)) # сумма по стролбцам (вертиакально)\n",
    "print(x.mean(axis=1)) # среднее по строкам"
   ]
  },
  {
   "cell_type": "markdown",
   "id": "hispanic-chinese",
   "metadata": {},
   "source": [
    "Функции ```max()``` и ```argmax()```:"
   ]
  },
  {
   "cell_type": "code",
   "execution_count": null,
   "id": "respective-consumer",
   "metadata": {},
   "outputs": [],
   "source": [
    "a_vec = (np.random.random( 10 ) * 100).astype(dtype=np.int64)\n",
    "print(a_vec)\n",
    "print(a_vec.max()) # возвращает максимум\n",
    "print(a_vec.argmax()) # возвращает позицию для элемента с максимальным значением"
   ]
  },
  {
   "cell_type": "code",
   "execution_count": null,
   "id": "suitable-accuracy",
   "metadata": {},
   "outputs": [],
   "source": [
    "x = np.array([[1,2,3], [4,5,6], [7,8,9], [10, 11, 12]])\n",
    "print(x)\n",
    "\n",
    "print('----')\n",
    "\n",
    "print(x.max(axis=1))\n",
    "\n",
    "print(x.argmax(axis=1))"
   ]
  },
  {
   "cell_type": "code",
   "execution_count": null,
   "id": "affected-flashing",
   "metadata": {},
   "outputs": [],
   "source": [
    "m = np.random.randint(0,10, (3,3)  )\n",
    "print(m)\n",
    "m.argmax() # вернет индекс как будто матрица \"раскатана\" в вектор"
   ]
  },
  {
   "cell_type": "markdown",
   "id": "super-female",
   "metadata": {},
   "source": [
    "#### Сортировка\n",
    "\n",
    "Есть ```.sort()```, ```np.sort()``` и ```np.argsort()```. Вообще говоря, с ней здесь похуже, чем у списков :( Нет ни ```key```, ни ```reverse```."
   ]
  },
  {
   "cell_type": "code",
   "execution_count": null,
   "id": "secret-church",
   "metadata": {},
   "outputs": [],
   "source": [
    "a_vec = (np.random.random( 10 ) * 100).astype(dtype=np.int64)\n",
    "print(a_vec)\n",
    "print(np.sort(a_vec))\n",
    "print(a_vec)\n",
    "\n",
    "print('---')\n",
    "\n",
    "print( np.argsort(-a_vec) )  # если нужен обратный порядок\n",
    "print( a_vec[ np.argsort(-a_vec) ] )\n",
    "\n"
   ]
  },
  {
   "cell_type": "markdown",
   "id": "understanding-month",
   "metadata": {},
   "source": [
    "#### Бродкастинг (broadcasting)\n",
    "\n",
    "В русскоязычной литературе этот термин также встречается как \"укладывание\"."
   ]
  },
  {
   "cell_type": "code",
   "execution_count": null,
   "id": "durable-watch",
   "metadata": {},
   "outputs": [],
   "source": [
    "# Добавим вектор v к каждой строке матрицы x\n",
    "# результат запишем в матрицу y\n",
    "x = np.array([[1,2,3], [4,5,6], [7,8,9], [10, 11, 12]])\n",
    "v = np.array([1, 0, 1])\n",
    "y = x + v  # Add v to each row of x using broadcasting\n",
    "print(y)  # результат \"[[ 2  2  4]\n",
    "          #          [ 5  5  7]\n",
    "          #          [ 8  8 10]\n",
    "          #          [11 11 13]]\"\n",
    "            \n",
    "            \n",
    "### как это было бы без бродкастинга\n",
    "y = np.empty_like(x)   # создаем пустой массив \"как x\"\n",
    "\n",
    "# В ЦИКЛЕ добываем векторы из x, складываем с v и записываем в y\n",
    "for i in range(4):\n",
    "    y[i, :] = x[i, :] + v\n",
    "\n",
    "# ИЛИ\n",
    "vv = np.tile(v, (4, 1))   # размножаем вектор v в матрицу той же размерности, что x\n",
    "y = x + vv  # скалыдваем\n",
    "# уже лучше, но все равно не то\n",
    "\n",
    "# Бродкастинг также работает и со скалярными данными\n",
    "y = (x * 2)\n",
    "print(y)\n",
    "# [[ 2  4  6]\n",
    "#  [ 8 10 12]\n",
    "#  [14 16 18]\n",
    "#  [20 22 24]]"
   ]
  },
  {
   "cell_type": "markdown",
   "id": "rocky-field",
   "metadata": {},
   "source": [
    "### Операции из области линейной алгебры\n",
    "\n",
    "Умножение матриц, скалярное произведение векторов (как частный случай умножения матриц), транспонирование - базовые функции пакета numpy.\n",
    "\n",
    "В модуле numpy.linalg еще есть встроенные функции для расчетов рангов матриц, определителей, вычисления собственных чисел, а также для решения линейных уравнений:\n",
    " - ```np.linalg.solve(A, b)``` - вычисляет единственное решение системы линейных уравнений, где A - квадратная матрица коэффициентов, b - вектор значений\n",
    " - ```np.linalg.matrix_rank(A)``` - вычисляет ранг матрицы\n",
    " - ```np.linalg.inv(A)``` - вычисляет обратную матрицу\n",
    " - ```np.linalg.eig(A)``` - вычисляет собственный вектор или собственное число матрицы"
   ]
  },
  {
   "cell_type": "code",
   "execution_count": null,
   "id": "whole-surge",
   "metadata": {},
   "outputs": [],
   "source": [
    "# транспонирование матрицы\n",
    "A = np.array([[1,2,3,4], [5,6,7,8]])\n",
    "print(A)\n",
    "A.T"
   ]
  },
  {
   "cell_type": "code",
   "execution_count": null,
   "id": "logical-notebook",
   "metadata": {},
   "outputs": [],
   "source": [
    "# создаем две матрицы\n",
    "x = np.array([[1,2],[3,4]])\n",
    "y = np.array([[5,6],[7,8]])\n",
    "\n",
    "# и два вектора\n",
    "v = np.array([9,10])\n",
    "w = np.array([11, 12])\n",
    "\n",
    "# Скалярное произведение векторов; оба выражения дают 219\n",
    "print(v.dot(w))\n",
    "print(np.dot(v, w))\n",
    "\n",
    "# Умножение матрицы на вектор, оба выражения возвращают вектор [29 67]\n",
    "print(x.dot(v))\n",
    "print(np.dot(x, v))\n",
    "\n",
    "# Умножение матриц, в итоге получаем\n",
    "# [[19 22]\n",
    "#  [43 50]]\n",
    "print(x.dot(y))\n",
    "print(np.dot(x, y))"
   ]
  },
  {
   "cell_type": "markdown",
   "id": "conventional-profit",
   "metadata": {},
   "source": [
    "## Практические задания\n",
    "\n",
    "__ВНИМАНИЕ__! Выполните приведенные ниже упражнения, не прибегая к использованию циклов и исключая использование функций python, таких как ```sum()```, ```max()```, и т.д.\n",
    "\n",
    "1. Решите следующие простые задания:"
   ]
  },
  {
   "cell_type": "code",
   "execution_count": null,
   "id": "thermal-costa",
   "metadata": {},
   "outputs": [],
   "source": [
    "# создайте массив numpy из 10-ти случайных натуральных чисел\n",
    "\n",
    "# найдите минимум в этом массиве и индекс этого минимального значения, замените этот элемент на -100\n",
    "\n",
    "# сложите этот массив с его \"зеркальным отображением\"\n",
    "\n",
    "# посчитайте сумму элементов получившегося массива\n",
    "\n",
    "# посчитайте сумму квадратов элементов получившегося массива"
   ]
  },
  {
   "cell_type": "markdown",
   "id": "celtic-sending",
   "metadata": {},
   "source": [
    "2 . Решите систему уравнений методом solve:\n",
    "\n",
    "$\\begin{cases}\n",
    "x_1 - x_2 + x_3 = 3 \\\\\n",
    "2x_1 + x_2 + x_3 = 11 \\\\\n",
    "x_1 + x_2 + 2x_3 = 8\n",
    "\\end{cases}\n",
    "$"
   ]
  },
  {
   "cell_type": "code",
   "execution_count": null,
   "id": "commercial-hawaiian",
   "metadata": {},
   "outputs": [],
   "source": [
    "# ваш код здесь\n",
    "\n",
    "\n"
   ]
  },
  {
   "cell_type": "markdown",
   "id": "rapid-coalition",
   "metadata": {},
   "source": [
    "3 . Решите систему уравнений методом обратной матрицы: $A * x = b$, $x = A^-1 * b$\n",
    "\n",
    "$\\begin{cases}\n",
    "2x_1 + x_2 - 2x_3 = -3 \\\\\n",
    "x_1 - 2x_2 + x_3 = 11 \\\\\n",
    "3x_1 + x_2 - x_3 = 0\n",
    "\\end{cases}\n",
    "$"
   ]
  },
  {
   "cell_type": "code",
   "execution_count": null,
   "id": "vocal-merchandise",
   "metadata": {},
   "outputs": [],
   "source": [
    "# ваш код здесь\n",
    "\n",
    "\n"
   ]
  },
  {
   "cell_type": "markdown",
   "id": "amateur-response",
   "metadata": {},
   "source": [
    "4. У вас есть матрица, столбцы которой содержат данные о длине стальных циллиндрических прутков и их диаметрах. Они  подлежат покраске. Напишите функцию ```def calc_paint()```, которая будет рассчитвать кол-во краски для переданного массива, тощины покрова и плотности краски - предполагаемый расход краски в кг. Проверьте на примере, в котором толщина покрытия - 0.012 мм, а плотность краски $5000 кг/м^3$,а массив представлен в коде.\n",
    "\n",
    "За использоваение функции ```dot()``` (матричного умножения) - +++."
   ]
  },
  {
   "cell_type": "code",
   "execution_count": null,
   "id": "indie-corporation",
   "metadata": {},
   "outputs": [],
   "source": [
    "M = np.array([ [1,2,3,2,1], # длины в м \n",
    "              [ 0.02, 0.02, 0.025, 0.025, 0.015, ] #диаметры в м \n",
    "             ] ).T # транспонируем строки в столбцы\n",
    "h = 12e-6 # тощина покрова краски в м\n",
    "ro = 5000 # плотность\n",
    "print(M)\n",
    "\n",
    "# ваш код здесь\n",
    "def calc_paint(M_, h_=h, ro_=ro):\n",
    "    pass\n",
    "\n",
    "print(\"Потребуется краски, кг: {}\".format(calc_paint(M)))"
   ]
  },
  {
   "cell_type": "code",
   "execution_count": null,
   "id": "engaging-hierarchy",
   "metadata": {},
   "outputs": [],
   "source": []
  }
 ],
 "metadata": {
  "kernelspec": {
   "display_name": "Python 3",
   "language": "python",
   "name": "python3"
  },
  "language_info": {
   "codemirror_mode": {
    "name": "ipython",
    "version": 3
   },
   "file_extension": ".py",
   "mimetype": "text/x-python",
   "name": "python",
   "nbconvert_exporter": "python",
   "pygments_lexer": "ipython3",
   "version": "3.7.9"
  }
 },
 "nbformat": 4,
 "nbformat_minor": 5
}
