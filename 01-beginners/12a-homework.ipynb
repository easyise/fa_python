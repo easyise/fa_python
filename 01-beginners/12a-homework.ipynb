{
 "cells": [
  {
   "cell_type": "markdown",
   "id": "valued-settle",
   "metadata": {},
   "source": [
    "# Алгоритмы и структуры данных в Python\n",
    "\n",
    "## Домашнее задание номер 2\n",
    "\n",
    "Решите четыре задачи. Время на выполнение каждой задачи - 20-25 минут. В сумме работа должна быть выполнена не более чем за 1 час 40 минут. Это важно для подготовки к зачету: если вы не успевате выполнить данное задание за указанное время - это значит, что вам потребуется дополнительная самостоятельная подготовка к зачету.\n",
    "\n",
    "Дедлайн - 08:30 23.12.2021 г.\n",
    "\n",
    "Перед отправкой переименуйте тетрадь в файл с именем \"12a-homework-<ваша фамилия латиницей>.ipynb\". Например, \"12a-homework-Ivanov.ipynb\".\n",
    "\n",
    "Разбор ДЗ будет производиться на занятии 23.12, на нем же будет предзачетная работа.\n",
    "\n",
    "Работы, присланные позже указанного дедлайна, приняты к проверке не будут."
   ]
  },
  {
   "cell_type": "markdown",
   "id": "reasonable-mailman",
   "metadata": {},
   "source": [
    "1. Напишите программу, которая выводит на экран значения функции sin(x) на заданном интервале [a,b] с шагом 0.1 в виде таблицы, состоящей из двух столбцов. В первом столбце выводится значение x, во втором – значение sin(x). Все значения выводятся с 2 знаками после запятой. \n",
    "\n",
    "NB: Решившим данную задачу с помощью numpy - ++"
   ]
  },
  {
   "cell_type": "code",
   "execution_count": 1,
   "id": "contained-wound",
   "metadata": {},
   "outputs": [],
   "source": [
    "a = -5\n",
    "b = 5\n",
    "\n",
    "# ваш код здесь\n"
   ]
  },
  {
   "cell_type": "markdown",
   "id": "structural-examination",
   "metadata": {},
   "source": [
    "2. Даны два отрезка [a;b] и [c;d]. Найдите их пересечение. Если отрезки не пересекаются, то выдайте сообщение. "
   ]
  },
  {
   "cell_type": "code",
   "execution_count": 2,
   "id": "compressed-performance",
   "metadata": {},
   "outputs": [],
   "source": [
    "a = input('a: ')\n",
    "b = input('b: ')\n",
    "c = input('c: ')\n",
    "d = input('d: ')\n",
    "\n",
    "# ваш код здесь\n"
   ]
  },
  {
   "cell_type": "markdown",
   "id": "original-incentive",
   "metadata": {},
   "source": [
    "3. Напишите функцию, которая добавляет в переданный ей список число 42, если в списке содержится последовательность чисел 1,2,3 (то есть данные числа следуют строго одно за другим)."
   ]
  },
  {
   "cell_type": "code",
   "execution_count": null,
   "id": "finnish-azerbaijan",
   "metadata": {},
   "outputs": [],
   "source": [
    "list1 = [2,12,85,0,6]\n",
    "list2 = [-1,0,1,2,3,4,5,6]\n",
    "\n",
    "def add_42(list_):\n",
    "    pass\n",
    "    # ваш код здесь\n",
    "    \n",
    "    \n",
    "add_42(list1)\n",
    "add_42(list2)\n",
    "\n",
    "print(list1)\n",
    "print(list2)\n",
    "    "
   ]
  },
  {
   "cell_type": "markdown",
   "id": "innovative-anderson",
   "metadata": {},
   "source": [
    "4.Задан список словарей: \n",
    "```\n",
    "dl = [{'a': 10, 'b': 20, 'c': 1}, {'a': 5, 'b': 10, 'z': 10}, {'a': 3, 'y': 7}]\n",
    "```\n",
    "Нужно отсортировать словари по значению, содержащемуся по ключу 'a'\n"
   ]
  },
  {
   "cell_type": "code",
   "execution_count": null,
   "id": "packed-millennium",
   "metadata": {},
   "outputs": [],
   "source": [
    "dl = [{'a': 10, 'b': 20, 'c': 1}, {'a': 5, 'b': 10, 'z': 10}, {'a': 3, 'y': 7}]\n",
    "\n",
    "# ваш код здесь\n"
   ]
  }
 ],
 "metadata": {
  "kernelspec": {
   "display_name": "Python 3",
   "language": "python",
   "name": "python3"
  },
  "language_info": {
   "codemirror_mode": {
    "name": "ipython",
    "version": 3
   },
   "file_extension": ".py",
   "mimetype": "text/x-python",
   "name": "python",
   "nbconvert_exporter": "python",
   "pygments_lexer": "ipython3",
   "version": "3.7.9"
  }
 },
 "nbformat": 4,
 "nbformat_minor": 5
}
