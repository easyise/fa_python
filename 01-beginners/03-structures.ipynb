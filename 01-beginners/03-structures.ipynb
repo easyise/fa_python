{
 "cells": [
  {
   "cell_type": "markdown",
   "id": "advance-latino",
   "metadata": {},
   "source": [
    "# Алгоритмы и структуры данных на Python\n",
    "\n",
    "## Занятие 3: структуры данных в Python\n",
    "\n",
    "Основные структуры данных, которые примяняются в Python:\n",
    " - списки\n",
    " - массивы numpy\n",
    " - кортежи\n",
    " - множества\n",
    " - словари\n",
    " \n",
    "### Списки"
   ]
  },
  {
   "cell_type": "markdown",
   "id": "inside-webmaster",
   "metadata": {},
   "source": [
    "Создание списка:"
   ]
  },
  {
   "cell_type": "code",
   "execution_count": null,
   "id": "brazilian-facing",
   "metadata": {},
   "outputs": [],
   "source": [
    "# создать список\n",
    "list1 = ['a', 'b', 1, 0.5, {'James':'Brown', 'Luke':'Skywalker'}]\n",
    "#показать содержимое списка\n",
    "print(list1) # ['a', 'b', 1, 0.5, {'James': 'Brown', 'Luke': 'Skywalker'}]\n",
    "\n",
    "# создать список из range()\n",
    "list2 = list(range(5)) # [0, 1, 2, 3, 4]\n",
    "\n",
    "# создать список с помощью генератора\n",
    "squares = [ x**2 for x in range(10) ] # [0, 1, 4, 9, 16, 25, 36, 49, 64, 81]\n",
    "print(squares)"
   ]
  },
  {
   "cell_type": "markdown",
   "id": "rising-music",
   "metadata": {},
   "source": [
    "Добавление и удаление элементов, конкатенация списков:"
   ]
  },
  {
   "cell_type": "code",
   "execution_count": null,
   "id": "opponent-toner",
   "metadata": {},
   "outputs": [],
   "source": [
    "#добавить элемент\n",
    "list1.append('Something New') # ['a', 'b', 1, 0.5, {'Luke': 'Skywalker', 'James': 'Brown'}, 'Something New']\n",
    "\n",
    "list2 = list(range(5))\n",
    "#убрать последний элемент (и вернуть его)\n",
    "print(list2)\n",
    "print(list2.pop()) # [0, 1, 2, 3]\n",
    "print(list2)\n",
    "\n",
    "# удалить элемент\n",
    "del list2[1]\n",
    "print(list2)\n",
    "\n",
    "# вставить элемент после указанной позиции\n",
    "list2.insert(1,100)\n",
    "print(list2)\n",
    "\n",
    "# конкатенация\n",
    "print(list1 + list2)"
   ]
  },
  {
   "cell_type": "markdown",
   "id": "english-answer",
   "metadata": {},
   "source": [
    "Сортировка и поиск:"
   ]
  },
  {
   "cell_type": "code",
   "execution_count": null,
   "id": "aging-festival",
   "metadata": {},
   "outputs": [],
   "source": [
    "list2 = list(range(5))\n",
    "\n",
    "#сортировать (в порядке убывания)\n",
    "list2.sort(reverse = True)  # [4, 3, 2, 1, 0]\n",
    "print(list2)\n",
    "\n",
    "# поиск индекса по значению\n",
    "print(list2.index(2))\n",
    "\n"
   ]
  },
  {
   "cell_type": "markdown",
   "id": "controversial-bulgarian",
   "metadata": {},
   "source": [
    "Вычисления по списку:"
   ]
  },
  {
   "cell_type": "code",
   "execution_count": null,
   "id": "coastal-stevens",
   "metadata": {},
   "outputs": [],
   "source": [
    "list2 = list(range(5))\n",
    "\n",
    "# длина списка\n",
    "print(len(list2))\n",
    "\n",
    "# сумма всех элементов\n",
    "print(sum(list2))\n",
    "\n",
    "# максимум, минимум\n",
    "print(max(list2), min(list2))"
   ]
  },
  {
   "cell_type": "markdown",
   "id": "interested-dancing",
   "metadata": {},
   "source": [
    "Обращение к элементам списка и срезы (slices):"
   ]
  },
  {
   "cell_type": "code",
   "execution_count": null,
   "id": "measured-helen",
   "metadata": {},
   "outputs": [],
   "source": [
    "nums = list(range(5))     \n",
    "print(nums)               # выведет на экран \"[0, 1, 2, 3, 4]\"\n",
    "print(nums[2])            # выведет на экран 2-й элемент: \"2\"\n",
    "print(nums[-3])           # выведет на экран 3-й элемент с конца: \"2\"\n",
    "print(nums[2:4])          # выведет на экран срез со 2-го до 4-го: \"[2, 3]\"\n",
    "print(nums[2:])           # выведет на экран срез со 2-го и до конца: \"[2, 3, 4]\"\n",
    "print(nums[:2])           # выведет на экран срез с начала и до 2-го элемента \"[0, 1]\"\n",
    "print(nums[:])            # срез всего списка: \"[0, 1, 2, 3, 4]\"\n",
    "print(nums[::2])          # срез с шагом: каждый второй элемент: \"[0, 2, 4]\"\n",
    "print(nums[::-2])         # срез с отрицательным шагом: каждый второй элемент с конца: \"[4, 2, 0]\"\n",
    "print(nums[:-2])          # отрицательный срез, все элементы, кроме двух в конце: \"[0, 1, 2]\"\n",
    "nums[2:4] = [8, 9]        # заместит элементы со 2-го до 4-го списком [8, 9]\n",
    "print(nums)               # выведет на экран \"[0, 1, 8, 9, 4]\""
   ]
  },
  {
   "cell_type": "markdown",
   "id": "integral-millennium",
   "metadata": {},
   "source": [
    "Итерация по списку:"
   ]
  },
  {
   "cell_type": "code",
   "execution_count": null,
   "id": "appropriate-albania",
   "metadata": {},
   "outputs": [],
   "source": [
    "# итерация по списку\n",
    "for num in nums: \n",
    "    print( num )\n",
    "    \n",
    "# чтобы получить индекс, обращаемся к функции enumerate()\n",
    "for i, num in enumerate(nums):\n",
    "    print( f\"{i}: {num}\" )\n",
    "\n",
    "# с помощью zip() можно склеить два списка\n",
    "questions = ['name', 'quest', 'favorite color']\n",
    "answers = ['lancelot', 'the holy grail', 'blue']\n",
    "for q, a in zip(questions, answers):\n",
    "    print('What is your {}?  It is {}.'.format(q, a))"
   ]
  },
  {
   "cell_type": "markdown",
   "id": "other-camcorder",
   "metadata": {},
   "source": [
    "#### Практика\n",
    "\n",
    "Создайте список из квадратов натуральных чисел от 0 до 8 и выведите на экран:\n",
    "1. первый и последний элементы списка\n",
    "2. первые два элемента\n",
    "3. элементы с 3-го по 6-й\n",
    "4. последние три элемента, к которым прибавили 3\n",
    "5. среднее арифметическое всех нечетных элементов"
   ]
  },
  {
   "cell_type": "code",
   "execution_count": null,
   "id": "julian-creature",
   "metadata": {},
   "outputs": [],
   "source": [
    "# ваш код здесь\n",
    "\n"
   ]
  },
  {
   "cell_type": "markdown",
   "id": "passive-worse",
   "metadata": {},
   "source": [
    "### Кортежи (tuples)\n",
    "\n",
    "Кортеж - это не просто неизменяемый список, это нечто большее. Подробнее о кортежах и их использовании мы поговорим в следующем разделе. Кортеж поддерживает те же операции на чтение, что и список. \n",
    "\n"
   ]
  },
  {
   "cell_type": "code",
   "execution_count": null,
   "id": "innocent-shareware",
   "metadata": {},
   "outputs": [],
   "source": [
    "tuple_1 = 'Lennon', 'McCartney', 'Harrison', 'Starr' # можно задать явно\n",
    "print(tuple_1)\n",
    "tuple_2 = tuple([1,2,3]) # можно сконвертировать из списка функцией tuple()\n",
    "print(tuple_2)"
   ]
  },
  {
   "cell_type": "code",
   "execution_count": null,
   "id": "close-virus",
   "metadata": {},
   "outputs": [],
   "source": [
    "tuple_1.append('Ono')"
   ]
  },
  {
   "cell_type": "code",
   "execution_count": null,
   "id": "competitive-might",
   "metadata": {},
   "outputs": [],
   "source": [
    "tuple_1[0] = 'Ono'"
   ]
  },
  {
   "cell_type": "code",
   "execution_count": null,
   "id": "accompanied-belly",
   "metadata": {},
   "outputs": [],
   "source": [
    "# С помощью кортежей удобно инициализировать переменные:\n",
    "a, b, c, d = tuple_1\n",
    "print(f\"The Beatles are: {a}, {b}, {c}, {d}\")\n",
    "\n",
    "# Удобно менять значения переменных:\n",
    "a = 1; b = 5\n",
    "(a, b) = (b, a)\n",
    "print(f\"a: {a}, b: {b}\")"
   ]
  },
  {
   "cell_type": "markdown",
   "id": "spare-nickel",
   "metadata": {},
   "source": [
    "### Массивы numpy\n",
    "\n",
    "С ними можно выполнять те же операции, что и со списками, но они предоставляют следующие преимущества:\n",
    "1. можно использовать \"векторизацию\" - умножать массивы на числа (и на другие массивы), складывать массивы поэлементно, и все это без использования циклов;\n",
    "2. можно использовать индексацию по списку и с помощью булевых масок;\n",
    "3. они дают серьезный выигрыш в производительности при больших объмах данных.\n",
    "\n",
    "Основное отличие от списков Python: __в массивах numpy хранятся данные только одного типа (как правило, числа)__.\n",
    "\n",
    "Основное правило при работе со списками numpy: __используйте нативные функции этой библиотеки__: ```np.sum()```, ```np.mean()```, ```np.shape``` и т.д. __Не используйте sum(), len() и функции модуля math!__"
   ]
  },
  {
   "cell_type": "code",
   "execution_count": null,
   "id": "complimentary-blast",
   "metadata": {},
   "outputs": [],
   "source": [
    "!pip3 install numpy"
   ]
  },
  {
   "cell_type": "code",
   "execution_count": null,
   "id": "challenging-hypothesis",
   "metadata": {},
   "outputs": [],
   "source": [
    "import numpy as np\n",
    "\n",
    "a = np.arange(10)\n",
    "print( a )\n",
    "b = a * 10\n",
    "print( b )\n",
    "print( b[ [1,3,5] ] )\n",
    "print( b > 20 )\n",
    "print( b < 75 )\n",
    "print( b[ (b > 20) & (b < 75) ])\n",
    "\n",
    "# размер массива находится в свойстве .shape, и это кортеж:\n",
    "print(b.shape)\n",
    "\n",
    "# создание матрицы (например, единичной), ее размер задается кортежом:\n",
    "a_3x3 = np.ones( (3,3) )\n",
    "a_3x3"
   ]
  },
  {
   "cell_type": "code",
   "execution_count": null,
   "id": "patent-ghana",
   "metadata": {},
   "outputs": [],
   "source": [
    "a_3x3_random = np.random.randint(0, 10, (3,3))\n",
    "print(a_3x3_random)\n",
    "\n",
    "# сумма, среднее\n",
    "print(a_3x3_random.sum(), a_3x3_random.mean())\n",
    "\n",
    "# или то же самое\n",
    "print(np.sum(a_3x3_random), np.mean(a_3x3_random))"
   ]
  },
  {
   "cell_type": "markdown",
   "id": "incoming-spring",
   "metadata": {},
   "source": [
    "### Множества\n",
    "\n",
    "Множества – это списки, в которых значения каждого члена – уникально. Общие члены множеств и их совокупность вычисляются битовыми \"и\" и \"или\" соответственно."
   ]
  },
  {
   "cell_type": "code",
   "execution_count": null,
   "id": "matched-profile",
   "metadata": {},
   "outputs": [],
   "source": [
    "beatles = ['Lennon', 'McCartney', 'Harrison', 'Starr', 'Lennon']\n",
    "beatles = set(beatles)\n",
    "print(beatles)\n",
    "\n",
    "travelling_wilburys = {'Harrison', 'Dylan', 'Lynn', 'Petty', 'Starr'}\n",
    "\n",
    "common_members = set(beatles) & travelling_wilburys\n",
    "print(common_members)\n",
    "\n",
    "all_musicians = set(beatles) | travelling_wilburys\n",
    "all_musicians"
   ]
  },
  {
   "cell_type": "markdown",
   "id": "canadian-virgin",
   "metadata": {},
   "source": [
    "### Словари\n",
    "\n",
    "Словарем называется совокупность пар «ключ–значение», причем каждое значение определяется своим ключом. В роли ключа теоретически может выступать любое неизменяемое значение, но как правило в роли ключа выступает либо целое число, либо строка."
   ]
  },
  {
   "cell_type": "code",
   "execution_count": null,
   "id": "fixed-manchester",
   "metadata": {},
   "outputs": [],
   "source": [
    "# создание словаря\n",
    "dict_1 = { 'James Brown': 'musician', 'Luke Skywalker': 'character', 'John Lennon': 'musician'} # явно\n",
    "dict_2 = dict([('sape', 4139), ('guido', 4127), ('jack', 4098)]) # из списка кортежей\n",
    "print(dict_2) # {'sape': 4139, 'guido': 4127, 'jack': 4098}\n",
    "dict_3 = {x: x**2 for x in (2, 4, 6)} # с помощью цикла\n",
    "\n",
    "# добавление в словарь\n",
    "dict_1['Colin Firth'] = 'actor'\n",
    "\n",
    "# объединение словарей:\n",
    "print( {**dict_1,**dict_3} )\n",
    "\n",
    "# итерация по словарю выполняется через метод items()\n",
    "for key, value in dict_1.items():\n",
    "    print(f\"{key} {value}\")\n",
    "    \n",
    "# список ключей - метод keys()\n",
    "print(dict_1.keys()) # вернет объект dict_keys(['James', 'Luke', 'Colin'])\n",
    "print(list(dict_1.keys())) # здесь вернет список\n",
    "\n",
    "# удалить элемент\n",
    "del dict_1['Luke Skywalker']\n",
    "print(dict_1)\n",
    "\n",
    "# \"срезы\" в словарях делать нельзя\n",
    "#print(dict_1[:-1]) # будет ошибка unhashable type: 'slice'\n",
    "\n",
    "# Но -1 может быть ключем в словаре!\n",
    "dict_1[-1] = \"Garbage\"\n",
    "print(dict_1[-1]) "
   ]
  },
  {
   "cell_type": "markdown",
   "id": "authorized-newark",
   "metadata": {},
   "source": [
    "#### Практика / ДЗ\n",
    "\n",
    "1. Преобразуйте словарь ```names``` в список кортежей и выведите его на экран.\n",
    "2. Добавьте в словарь ```names``` музыканта (musician) Elvis Presley, актера (actor) Keanu Reeves и персонажа (character) Garry Potter. \n",
    "3. Создайте словарь ```profiles```, который бы содержал списки музыкантов, персонажей и актеров из ```names```. Решите задачу в общем виде, используя значения из ```names``` в качестве ключей для ```profiles```. Пример:\n",
    "```\n",
    "{'musician': ['Elvis Presley', 'James Brown'], 'character':['Garry Potter', ...], ...}\n",
    "```\n",
    "4. Отсортируйте списки имен в ```profiles``` в алфавитном порядке.\n",
    "5. Выведите имена из ```names``` вместе с профилями в алфавитном порядке."
   ]
  },
  {
   "cell_type": "code",
   "execution_count": null,
   "id": "uniform-plenty",
   "metadata": {},
   "outputs": [],
   "source": [
    "names = { 'James Brown': 'musician', 'Luke Skywalker': 'character', 'John Lennon': 'musician', 'Colin Firth': 'actor'}\n",
    "\n",
    "# ваш код здесь"
   ]
  }
 ],
 "metadata": {
  "kernelspec": {
   "display_name": "Python 3",
   "language": "python",
   "name": "python3"
  },
  "language_info": {
   "codemirror_mode": {
    "name": "ipython",
    "version": 3
   },
   "file_extension": ".py",
   "mimetype": "text/x-python",
   "name": "python",
   "nbconvert_exporter": "python",
   "pygments_lexer": "ipython3",
   "version": "3.7.9"
  }
 },
 "nbformat": 4,
 "nbformat_minor": 5
}
