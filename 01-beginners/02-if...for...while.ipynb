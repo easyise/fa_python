{
 "cells": [
  {
   "cell_type": "markdown",
   "id": "rural-manhattan",
   "metadata": {},
   "source": [
    "# Алгоритмы и структуры данных на Python\n",
    "\n",
    "## Занятие 2: условные операторы и циклы\n",
    "\n",
    "### Ветвления, if...elif...else\n",
    "\n",
    "Эта конструкция в Python почти ничем не отличается от аналогичных в других языках программирования. \n",
    "\n",
    "Но! В Python оператор switch...case...default появился только в версии 3.9, в конце 2020 года. Лучше пока все реализовать через if."
   ]
  },
  {
   "cell_type": "code",
   "execution_count": 2,
   "id": "functioning-strength",
   "metadata": {},
   "outputs": [
    {
     "name": "stdout",
     "output_type": "stream",
     "text": [
      "Введите время года: зима\n",
      "Зима, крестьянин торжествуя...\n"
     ]
    }
   ],
   "source": [
    "season = input(\"Введите время года: \")\n",
    "if season=='лето':\n",
    "    print( 'Вот оно какое, наше лето!' )\n",
    "elif season=='осень':\n",
    "    print( 'Унылая пора, очей очарованье!' )\n",
    "elif season=='зима':\n",
    "    print( 'Зима, крестьянин торжествуя...' )\n",
    "elif season=='весна':\n",
    "    print( 'Весна, весна на улице, весенние деньки!' )\n",
    "else:\n",
    "    print( f'Введенное время года \"{season}\" нам неизвестно' )\n",
    "        "
   ]
  },
  {
   "cell_type": "markdown",
   "id": "champion-dream",
   "metadata": {},
   "source": [
    "#### If... одной строкой\n",
    "\n",
    "Иногда бывает необходимость вставить условие на этапе присвоения значения, не выводя код в отдельны блок, как это реализовано в языках C/C++, Java, C#, JavaScript, PHP: ```x = (conditionTrue ? value_when_True : value_when_False)```\n",
    "\n",
    "В Python эта конструкция выглядит так: ```x = value_when_True if conditionTrue else value_when_False```"
   ]
  },
  {
   "cell_type": "code",
   "execution_count": 3,
   "id": "chubby-yugoslavia",
   "metadata": {},
   "outputs": [
    {
     "name": "stdout",
     "output_type": "stream",
     "text": [
      "yes\n"
     ]
    }
   ],
   "source": [
    "# if... одной строкой, аналог \n",
    "z_order = 15\n",
    "xa = 'yes' if z_order==15 else 'no'\n",
    "print(xa)"
   ]
  },
  {
   "cell_type": "markdown",
   "id": "combined-element",
   "metadata": {},
   "source": [
    "#### __ПРАКТИКА__\n",
    "\n",
    "1. Даны три целых числа A, B, C. Определить, есть ли среди них хотя бы одно четное и хотя бы одно нечетное.\\\n",
    "__Входные данные__\n",
    "Числа A, B, C, не превышающие по модулю 10000.\\\n",
    "__Выходные данные__\n",
    "Одна строка – \"YES\" или \"NO\"."
   ]
  },
  {
   "cell_type": "code",
   "execution_count": 4,
   "id": "peaceful-hudson",
   "metadata": {},
   "outputs": [],
   "source": [
    "# ваш код здесь\n"
   ]
  },
  {
   "cell_type": "markdown",
   "id": "civilian-network",
   "metadata": {},
   "source": [
    "2. В кафе мороженое продают по три шарика и по пять шариков. Можно ли купить ровно k шариков мороженого? \\\n",
    "__Входные данные__ \n",
    "Число k (целое,положительное)\\\n",
    "__Выходные данные__\n",
    "Программа должна вывести слово YES, если при таких условиях можно набрать ровно k шариков (не больше и не меньше), в противном случае - вывести NO.\n",
    "\n",
    "__Подсказка__: множество $\\{3x+5y ∣ x,y=0,1,2,…\\}$ является числовой полугруппой с порождающими 3 и 5. Дополнение к числовой полугруппе конечно. Максимальное число, не входящее в полугруппу, называется числом Фробениуса. Оно равно $(a−1)(b−1)−1$. В случае двух порождающих $a=3$ и $b=5$ (в данном случае $(3-1)(5-1)-1 = 7$)."
   ]
  },
  {
   "cell_type": "code",
   "execution_count": null,
   "id": "demonstrated-toyota",
   "metadata": {},
   "outputs": [],
   "source": [
    "# ваш код здесь\n",
    "\n"
   ]
  },
  {
   "cell_type": "markdown",
   "id": "animated-strand",
   "metadata": {},
   "source": [
    "### Операторы сравнения, логические операторы\n",
    "\n",
    "Сравнение: \n",
    "- ```==``` - равенство\n",
    "- ```!=``` - неравенство\n",
    "- ```>```, ```<```  - больше, меньше\n",
    "- ```>=```, ```<=```  - больше или равно, меньше или равно\n",
    "\n",
    "Эти операции могут использоваться между переменными разных типов и могут быть определены для любого вашего класса.\n",
    "\n",
    "Логические операторы: ```and```, ```or```, ```not```. Также есть побиторвые операторы."
   ]
  },
  {
   "cell_type": "code",
   "execution_count": 5,
   "id": "golden-tanzania",
   "metadata": {},
   "outputs": [
    {
     "name": "stdout",
     "output_type": "stream",
     "text": [
      "True\n",
      "False\n",
      "True\n",
      "False\n",
      "True\n",
      "False\n",
      "\n",
      "True\n",
      "True\n",
      "False\n",
      "False\n",
      "True\n",
      "\n",
      "True\n"
     ]
    }
   ],
   "source": [
    "# можно сравнивать переменные любого типа\n",
    "var_int = 5\n",
    "var_float = 5.0\n",
    "var_str = \"5\"\n",
    "\n",
    "print( var_int == var_float ) # True\n",
    "print( var_str == var_int ) # False\n",
    "print( var_str == str(var_int) ) # Но если привести тип \"вручную\", то True\n",
    "\n",
    "var_str_50 = \"50\"\n",
    "print( var_int > var_float ) # False\n",
    "print( var_str_50 > var_str ) # True, но они сравниваются посимвольно:\n",
    "var_str_6 = \"6\"\n",
    "print( var_str_50 > var_str_6 ) # False, ASCII-код символа \"6\" > \"5\"\n",
    "\n",
    "# логические операторы\n",
    "print('')\n",
    "print( True or False ) # \"или\" - \"or\"\n",
    "print ( True | False ) # тоже \"или\", но побитовое\n",
    "print( True and False ) # \"и\" - \"and\"\n",
    "print ( True & False ) # тоже \"и\", но побитовое\n",
    "\n",
    "print( 10 > 5 )\n",
    "\n",
    "print('')\n",
    "print( 10 != 5)"
   ]
  },
  {
   "cell_type": "markdown",
   "id": "australian-shore",
   "metadata": {},
   "source": [
    "### Циклы\n",
    "\n",
    "#### Цикл while\n",
    "\n",
    "Выполнять, пока условие истинно:\n"
   ]
  },
  {
   "cell_type": "code",
   "execution_count": 7,
   "id": "iraqi-longitude",
   "metadata": {},
   "outputs": [
    {
     "name": "stdout",
     "output_type": "stream",
     "text": [
      "2\n",
      "3\n",
      "b is greater than a\n"
     ]
    }
   ],
   "source": [
    "a = 4\n",
    "b = 2\n",
    "while b < a :\n",
    "    print(b)\n",
    "    b += 1\n",
    "else:\n",
    "    print(\"b is greater than a\")"
   ]
  },
  {
   "cell_type": "markdown",
   "id": "eight-vector",
   "metadata": {},
   "source": [
    "#### Цикл for\n",
    "\n",
    "Вернее, ```for ... in```. Выполняется для всех элементов в коллекции (итерируемом объекте), который передан в качестве параметра. Функция range() как раз возвращает такой объект. Что это за объекты - мы разберем в отдельной теме."
   ]
  },
  {
   "cell_type": "code",
   "execution_count": null,
   "id": "caroline-discretion",
   "metadata": {},
   "outputs": [],
   "source": [
    "print(\"Счетчик в цикле for, когда range() возвращает 5 чисел от 0 до 4:\")\n",
    "for i in range(5): \n",
    "    print (i)\n",
    "\n",
    "print(\"Счетчик в цикле for, когда range(1,6) возвращает 5 чисел от 1 до 5:\")\n",
    "for i in range(1,6): \n",
    "    print (i)\n",
    "\n",
    "print(\"Счетчик в цикле for, когда range(1,7,2) возвращает числа от 1 до 5 с шагом 2:\")\n",
    "for i in range(1,-7,-2):\n",
    "    print (i)\n",
    "    "
   ]
  },
  {
   "cell_type": "markdown",
   "id": "electric-buffer",
   "metadata": {},
   "source": [
    "#### Прерывание циклов\n",
    "\n",
    "Два вида прерываний:\n",
    "1. ```break``` - выход из цикла. Полезен, например, при поиске, когда искомая позиция найдена - зачем листать дальше?\n",
    "2. ```continue``` - возврат к началу. Применимо, если надо пропустить какие-то позиции при переборе значений."
   ]
  },
  {
   "cell_type": "code",
   "execution_count": 8,
   "id": "canadian-leadership",
   "metadata": {},
   "outputs": [
    {
     "name": "stdout",
     "output_type": "stream",
     "text": [
      "Счетчик в цикле for, когда range() возвращает 5 чисел от 0 до 4 (выход на позиции 3):\n",
      "0\n",
      "1\n",
      "2\n"
     ]
    }
   ],
   "source": [
    "print(\"Счетчик в цикле for, когда range() возвращает 5 чисел от 0 до 4 (выход на позиции 3):\")\n",
    "for i in range(5): \n",
    "    if i==3:\n",
    "        break;\n",
    "    print (i)"
   ]
  },
  {
   "cell_type": "code",
   "execution_count": 9,
   "id": "surgical-packing",
   "metadata": {},
   "outputs": [
    {
     "name": "stdout",
     "output_type": "stream",
     "text": [
      "Счетчик в цикле for, когда range() возвращает 5 чисел от 0 до 4 (пропуск позиции 3):\n",
      "0\n",
      "1\n",
      "2\n",
      "this is 3!\n",
      "4\n"
     ]
    }
   ],
   "source": [
    "print(\"Счетчик в цикле for, когда range() возвращает 5 чисел от 0 до 4 (пропуск позиции 3):\")\n",
    "for i in range(5): \n",
    "    if i==3:\n",
    "        print(f\"this is {i}!\")\n",
    "        continue;\n",
    "    print (i)"
   ]
  },
  {
   "cell_type": "markdown",
   "id": "binding-huntington",
   "metadata": {},
   "source": [
    "#### __ПРАКТИКА__\n",
    "\n",
    "1. Выведите все точные квадраты натуральных чисел, не превосходящие данного числа N. \\\n",
    "__Входные данные__\n",
    "Задано единственное целое число N \\\n",
    "__Выходные данные__ \n",
    "Необходимо вывести  все точные квадраты натуральных чисел, не превосходящие данного числа N."
   ]
  },
  {
   "cell_type": "code",
   "execution_count": 10,
   "id": "ideal-destination",
   "metadata": {},
   "outputs": [],
   "source": [
    "N = 105\n",
    "k = 1000\n",
    "\n",
    "# ваш код здесь"
   ]
  },
  {
   "cell_type": "markdown",
   "id": "heated-greek",
   "metadata": {},
   "source": [
    "2. По данному числу n вычислите сумму $1+1/2^2+1/3^2+...+1/n^2$.\\\n",
    "__Входные данные__\n",
    "Вводится одно число n, не превосходящее 100000. \\\n",
    "__Выходные данные__\n",
    "Необходимо вывести  значение суммы."
   ]
  },
  {
   "cell_type": "code",
   "execution_count": 11,
   "id": "quantitative-proceeding",
   "metadata": {},
   "outputs": [],
   "source": [
    "n = 4\n",
    "\n",
    "# ваш код здесь\n"
   ]
  },
  {
   "cell_type": "markdown",
   "id": "young-plastic",
   "metadata": {},
   "source": [
    "3. По данному натуральному числу N выведите такое наименьшее целое число $k$, что $2^k >= N$.\\\n",
    "Операцией возведения в степень пользоваться нельзя! \\\n",
    "__Входные данные__\n",
    "Вводится натуральное число N. \\\n",
    "__Выходные данные__\n",
    "Выведите ответ на задачу."
   ]
  },
  {
   "cell_type": "code",
   "execution_count": null,
   "id": "hazardous-welding",
   "metadata": {},
   "outputs": [],
   "source": [
    "N = 9\n",
    "\n",
    "# ваш код здесь"
   ]
  }
 ],
 "metadata": {
  "kernelspec": {
   "display_name": "Python 3",
   "language": "python",
   "name": "python3"
  },
  "language_info": {
   "codemirror_mode": {
    "name": "ipython",
    "version": 3
   },
   "file_extension": ".py",
   "mimetype": "text/x-python",
   "name": "python",
   "nbconvert_exporter": "python",
   "pygments_lexer": "ipython3",
   "version": "3.7.9"
  }
 },
 "nbformat": 4,
 "nbformat_minor": 5
}
