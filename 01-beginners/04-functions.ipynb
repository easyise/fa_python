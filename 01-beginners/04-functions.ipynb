{
 "cells": [
  {
   "attachments": {},
   "cell_type": "markdown",
   "id": "ordered-recruitment",
   "metadata": {},
   "source": [
    "# Алгоритмы и структуры данных на Python\n",
    "\n",
    "## Занятие 4: Функции\n",
    "\n",
    "\n",
    "- Функция – это фрагмент кода, к которому можно обратиться в любом месте выполнения программы\n",
    "- Функция = подпрограмма\n",
    "- У функции есть имя и аргумент (или несколько аргументов)\n",
    "- Функция может возвращать значение!\n",
    "\n",
    "### Создание функций\n",
    "\n",
    "Функция в языке Python создается командой ```def```. При этом указывается имя функции, а также список формальных параметров. \n",
    "\n",
    "Если начать блок с тройных кавычек - ```\"\"\"``` содержимое этого блока станет подсказкой, доступной через знак вопроса, например ```NOD?``` или через функцию ```help(NOD)```.\n",
    "\n",
    "Пример: функция, которая вычисляет наибольший общий делитель."
   ]
  },
  {
   "cell_type": "code",
   "execution_count": null,
   "id": "better-cookbook",
   "metadata": {},
   "outputs": [],
   "source": [
    "def NOD( A, B ):\n",
    "    \"\"\"\n",
    "    Вычисление наибольшего общего делителя чисел A и B\n",
    "    \"\"\"\n",
    "    if A < B :\n",
    "        ( A, B ) = ( B, A )\n",
    "    ( A, B ) = ( B, A % B )\n",
    "    while B > 0 :\n",
    "        ( A, B ) = ( B, A % B )\n",
    "    return A"
   ]
  },
  {
   "cell_type": "code",
   "execution_count": null,
   "id": "unnecessary-replacement",
   "metadata": {},
   "outputs": [],
   "source": [
    "NOD?\n",
    "help(NOD)"
   ]
  },
  {
   "cell_type": "markdown",
   "id": "musical-flood",
   "metadata": {},
   "source": [
    "Вызов функции: имя функции + параметры в круглых скобках. Результат выполнения функции присваивается переменной ```my_nod```."
   ]
  },
  {
   "cell_type": "code",
   "execution_count": null,
   "id": "previous-decrease",
   "metadata": {},
   "outputs": [],
   "source": [
    "A_ = 21; B = 9\n",
    "\n",
    "my_nod = NOD(A_, B)\n",
    "\n",
    "print(f\"A={A_}, B={B}, NOD = {my_nod}\")"
   ]
  },
  {
   "cell_type": "markdown",
   "id": "continuous-template",
   "metadata": {},
   "source": [
    "### Вызов функций и возвращаемые значения\n",
    "\n",
    "Функция может что-либо вычислять и возвращать значение, а может ничего не возвращать, просто выполнять какие-то действия. Значение, которое должна вернуть функция, помещают после оператора ```return```. Если оператора ```return``` нет, функция вернет ```None```. \n",
    "\n",
    "Функция, которая является свойством объекта (например, ```list_.sort()```) называется __метод__, об особенностях таких функции мы поговорим в разделе \"Классы и объекты\"."
   ]
  },
  {
   "cell_type": "code",
   "execution_count": null,
   "id": "intellectual-premises",
   "metadata": {},
   "outputs": [],
   "source": [
    "def do_something():\n",
    "    print(\"Hello from function do_something()\")\n",
    "    \n",
    "x = do_something()\n",
    "print(x)"
   ]
  },
  {
   "cell_type": "markdown",
   "id": "fundamental-personality",
   "metadata": {},
   "source": [
    "### Передача параметров в функцию\n",
    "\n",
    "Способы передачи параметров в функцию:\n",
    " - прямая передача параметров перечислением их значений ```do_something(1, 2, x)``` (args);\n",
    " - передача параметров перечислением с использованием ключевых слов ```do_something(a=1, b=2, something=x)``` (kwargs);\n",
    " - эти способы можно комбинировать, __НО__: простое перечисление (args) должно всегда предшестововать перечислению с ключевыми словами (kwargs)\n",
    " \n",
    " Также поддерживается:\n",
    " - использование значений параметров по умолчанию;\n",
    " - функции с неопределенным числом параметров\n",
    " - передача значений из списков и/или словарей."
   ]
  },
  {
   "cell_type": "code",
   "execution_count": null,
   "id": "fantastic-declaration",
   "metadata": {},
   "outputs": [],
   "source": [
    "def function_1(param_1, param_2):\n",
    "    return param_1+' '+param_2\n",
    "print(function_1('hi', 'there')) # прямая и явная передача параметров\n",
    "print(function_1('hi', param_2='there!')) # прямая и явная передача параметров с указанием имени\n",
    "\n",
    "# при определении функции можно задать значения параметров по умолчанию:\n",
    "def function_2(param_1, param_2='everyone'):\n",
    "    return param_1+' '+param_2\n",
    "print(function_2('hi')) # при вызове можно передать ей только те параметры, которые не заданы по умолчанию\n",
    "\n",
    "# функция с неопределенным числом параметров\n",
    "def function_3( first, second, third, *args, **kwargs ):\n",
    "    print(\"args: \", end='');print(args)\n",
    "    print(\"kwargs: \", end='');print(kwargs)\n",
    "    print(f\"first, second, third: {first}, {second}, {third}\")\n",
    "    return \n",
    "\n",
    "function_3('this', 'is', 'python') # параметры, переданные без имени, будут в кортеже args\n",
    "function_3(first='this', second='is', third='python') # параметры, переданные c именем - в словаре kwargs\n",
    "\n",
    "# можно передать параметры в виде словаря\n",
    "dict_params = {'first': 'hi', 'second': 'from the function', 'third': '3', 'fourth':'4'}\n",
    "function_3( **dict_params ) # kwargs: {'first': 'hi', 'second': 'from the function'}\n",
    "\n",
    "# можно передать параметры в виде списка или кортежа\n",
    "list_params = ['hi', 'there']\n",
    "function_3( 1, 2, *list_params, 2, qq=44 ) # args: ('hi', 'there')\n",
    "\n",
    "list_AB = [175, 125]\n",
    "print(NOD(*list_AB))"
   ]
  },
  {
   "cell_type": "markdown",
   "id": "composed-vocabulary",
   "metadata": {},
   "source": [
    "### Изменяемые / неизменяемые параметры функций\n",
    "\n",
    "Бывает так, что функция должна не только вернуть значение, но и изменить какие-либо входные параметры. Как в этом случае поступить?\n",
    "\n",
    "В Python функция не может изменить значение переменных \"простых\", \"неизменяемых\", immutable типов: ```str```, ```int```, ```float``` и др. Но она может изменить наполнение списков, словарей, множеств и других объектов. Эти типы называются mutable.\n",
    "\n",
    "Остаются два способа:\n",
    "1) использовать mutable-типы в качестве параметров \\\n",
    "2) возвращать несколько значений в виде кортежа и переназначать переменные.\n",
    "\n",
    "__ЗАМЕЧАНИЕ__: передача параметров списками ```func(*args)``` и словарями ```func(**kwargs)``` не делает их изменяемыми!"
   ]
  },
  {
   "cell_type": "code",
   "execution_count": null,
   "id": "conscious-sensitivity",
   "metadata": {},
   "outputs": [],
   "source": [
    "# первый способ\n",
    "a = \"I want to be muted!\"\n",
    "\n",
    "def i_do_mutations(str_='', list_=['']):\n",
    "    str_ += ' - you are muted'\n",
    "    list_[0] = 'I am muted'\n",
    "    \n",
    "i_do_mutations(a)\n",
    "print(a)\n",
    "\n",
    "i_do_mutations([a])\n",
    "print(a)\n",
    "\n",
    "list__ = [a]\n",
    "i_do_mutations(list_=list__)\n",
    "print(list__)"
   ]
  },
  {
   "cell_type": "code",
   "execution_count": null,
   "id": "departmental-persian",
   "metadata": {},
   "outputs": [],
   "source": [
    "# второй способ\n",
    "a = \"I want to be muted!\"\n",
    "\n",
    "def i_do_mutations(str_='', list_=[]):\n",
    "    str_ += ' - you are muted'\n",
    "    list_.append('I am muted')\n",
    "    return_value = 42\n",
    "    return return_value, str_, list_\n",
    "\n",
    "func_return, a, _ = i_do_mutations(a)\n",
    "print(a)"
   ]
  },
  {
   "cell_type": "markdown",
   "id": "prescribed-richards",
   "metadata": {},
   "source": [
    "Как это происходит? Давайте посмотрим на идентификаторы переменных с помощью функции ```id()```"
   ]
  },
  {
   "cell_type": "code",
   "execution_count": null,
   "id": "passing-sponsorship",
   "metadata": {},
   "outputs": [],
   "source": [
    "a = 6\n",
    "print(\"Id a было: \",id(a)) # 4395412416\n",
    "a = 42\n",
    "print(\"Id a стало: \",id(a)) # 4395413568\n",
    "b = a\n",
    "print(\"Id b: \",id(b)) # id 4395413568 - такой же, как у a\n",
    "b += 11\n",
    "print(\"Id b стало: \",id(b)) # изменился! стало 4395413920\n",
    "\n",
    "list_1 = [1,2,3]\n",
    "print('Id list_1 был: ', id(list_1)) # 4467027552\n",
    "list_1 = [3,2,1]\n",
    "print('Id list_1 стал: ', id(list_1)) # 4466975040  - изменился\n",
    "list_2 = list_1\n",
    "print('Id list_2: ', id(list_1)) # у list_2 - такой же id, как у list_1: 4466975040\n",
    "list_2.append(99) \n",
    "print('Id list_2 стал: ', id(list_2), 'list_2:', list_2) # и после append id такой же: 4466975040"
   ]
  },
  {
   "cell_type": "markdown",
   "id": "crazy-quilt",
   "metadata": {},
   "source": [
    "### Правила видимости в Python\n",
    "\n",
    "- переменные, инициализорованные внутри модуля видны из любой функции\n",
    "- переменные, инициализированные внутри функции видны только внутри нее"
   ]
  },
  {
   "cell_type": "code",
   "execution_count": null,
   "id": "julian-mountain",
   "metadata": {},
   "outputs": [],
   "source": [
    "def func_vars(var_arg):\n",
    "    var_func = \"This is inner function variable\"\n",
    "    print(\"Global variable: \", global_var)\n",
    "    print(\"Argument variable: \", var_arg)\n",
    "    print(\"Inner function variable: \", var_func)\n",
    "    \n",
    "global_var = \"This is global variable\"\n",
    "func_vars(\"This is passed as an arg\")\n",
    "# Global variable:  This is global variable\n",
    "# Argument variable:  This is passed as an arg\n",
    "# Inner function variable:  This is inner function variable\n",
    "\n",
    "print(\"Global variable: \", global_var)\n",
    "# print(\"Inner function variable: \", var_func) # CRASH! NameError: name 'var_func' is not defined\n",
    "# print(\"Argument variable: \", var_arg)"
   ]
  },
  {
   "cell_type": "markdown",
   "id": "capable-bradford",
   "metadata": {},
   "source": [
    "#### ПРАКТИКА\n",
    "\n",
    "1. Напишите функцию ```distance(x1, y1, x2, y2)```, вычисляющую расстояние между точкой $X_1(x_1,y_1)$ и $X_2(x_2,y_2)$. Считайте четыре действительных числа и выведите результат работы этой функции.\\\n",
    "__Входные данные__\n",
    "Даны координаты двух точек. \\\n",
    "__Выходные данные__\n",
    "Выведите результат, вычисленный функцией."
   ]
  },
  {
   "cell_type": "code",
   "execution_count": null,
   "id": "buried-archive",
   "metadata": {},
   "outputs": [],
   "source": [
    "X_1 =[0, 0]; X_2 = [1,1];\n",
    "\n",
    "def distance(x1, y1, x2, y2):\n",
    "    # ваш код здесь\n",
    "    pass\n",
    "\n"
   ]
  },
  {
   "cell_type": "markdown",
   "id": "laden-sherman",
   "metadata": {},
   "source": [
    "### Функция как переменная, обратный вызов\n",
    "\n",
    "Имя функции в языке Python на самом деле представляет собой обыкновенную перемеменную, которая — согласно общему правилу — содержит _ссылку_ на функцию. Соответственно, с этой переменной можно обращаться так же, как и с любой другой."
   ]
  },
  {
   "cell_type": "code",
   "execution_count": null,
   "id": "primary-maximum",
   "metadata": {},
   "outputs": [],
   "source": [
    "def func1 ( a, b, c ) : # создаем функцию\n",
    "    return a+b+c\n",
    "\n",
    "func2 = func1 # теперь func2 содержит ссылку на ту же функцию, что и func1\n",
    "\n",
    "func1 ( 1, 2, 3 ) # и их можно вызывать\n",
    "func2 ( 1, 2, 3 ) # одинаковым способом\n",
    "\n",
    "func1 = 4.5 # теперь func1 - это больше не функция,\n",
    "A = 2 + func1 # а обычное число (A стало равным 7)\n",
    "func2( 4, 5, 6 ) # но функцию по-прежнему можно вызвать через переменную func2"
   ]
  },
  {
   "cell_type": "markdown",
   "id": "specified-african",
   "metadata": {},
   "source": [
    "Функцию также можно передать как параметр в другую функцию, и оттуда ее вызвать. Это называется \"обратный вызов\" (callback)."
   ]
  },
  {
   "cell_type": "code",
   "execution_count": null,
   "id": "polish-knife",
   "metadata": {},
   "outputs": [],
   "source": [
    "# функция обратного вызова\n",
    "def func_callback( *args ):\n",
    "    return repr(args) # возвращает кортеж агрументов\n",
    "\n",
    "# функция, которая по наступлению некоторого события вызывает нашу функцию обратного вызова\n",
    "def func_with_callback(*args, the_callback): #the_callback - функция-аргумент нашей функции\n",
    "    if args[0]==1:\n",
    "        return the_callback(*args) # тот самый обратный вызов\n",
    "        \n",
    "print(func_with_callback(1,2,3,4,5, the_callback=func_callback)) # (1, 2, 3, 4, 5)"
   ]
  },
  {
   "cell_type": "markdown",
   "id": "blessed-chancellor",
   "metadata": {},
   "source": [
    "Пример функции обратного вызова: сортировка по специальному ключу. Допустим, нам надо отсортировать список словарей по алфавиту, по свойству \"name\":"
   ]
  },
  {
   "cell_type": "code",
   "execution_count": null,
   "id": "second-opera",
   "metadata": {},
   "outputs": [],
   "source": [
    "list_ = [{\"name\": \"Иванов Иван\", \"age\":18},\n",
    "         {\"name\": \"Петров Петр\", \"age\":27},\n",
    "         {\"name\": \"Иванова Иванна\", \"age\":21},\n",
    "        ]\n",
    "\n",
    "# list_.sort() # - не работает, как быть?\n",
    "\n",
    "def sorter(dict_):\n",
    "    return dict_[\"name\"]\n",
    "\n",
    "list_.sort(key=sorter)\n",
    "list_\n"
   ]
  },
  {
   "cell_type": "markdown",
   "id": "brave-sheet",
   "metadata": {},
   "source": [
    "$\\lambda$-функция (лямбда-функция) - примитивный callback одной строкой:"
   ]
  },
  {
   "cell_type": "code",
   "execution_count": null,
   "id": "recent-trainer",
   "metadata": {},
   "outputs": [],
   "source": [
    "list_ = [{\"name\": \"Иванов Иван\", \"age\":18},\n",
    "         {\"name\": \"Петров Петр\", \"age\":27},\n",
    "         {\"name\": \"Иванова Иванна\", \"age\":21},\n",
    "        ]\n",
    "\n",
    "list_.sort(key=lambda dict_: dict_['name'])\n",
    "list_"
   ]
  },
  {
   "cell_type": "markdown",
   "id": "likely-fiction",
   "metadata": {},
   "source": [
    "#### ПРАКТИКА\n",
    "\n",
    "1. Напишите функцию, которая будет объединять неограниченное количество словарей в один и возвращать его."
   ]
  },
  {
   "cell_type": "code",
   "execution_count": null,
   "id": "personalized-george",
   "metadata": {},
   "outputs": [],
   "source": [
    "dict_a = {1: 10, 2: 20}\n",
    "dict_b = {3: 30, 4: 40}\n",
    "dict_c = {5: 50, 6: 60}\n",
    "\n",
    "def merge_dicts( *args ):\n",
    "    # ваш код здесь\n",
    "    pass\n",
    "\n",
    "print( merge_dicts(dict_a, dict_b, dict_c) )"
   ]
  },
  {
   "cell_type": "markdown",
   "id": "reduced-nation",
   "metadata": {},
   "source": [
    "2. Дан список, отсортируйте его в порядке возрастания квадратов его значений и выведите на экран. Используйте лямбда-функцию."
   ]
  },
  {
   "cell_type": "code",
   "execution_count": null,
   "id": "abandoned-possibility",
   "metadata": {},
   "outputs": [],
   "source": [
    "list_ = [-1, 4, 12, 10, 0, 1, -2, -100, 11, 44, 6, -2, -128, 44]\n",
    "\n",
    "# ваш код здесь"
   ]
  }
 ],
 "metadata": {
  "kernelspec": {
   "display_name": "Python 3",
   "language": "python",
   "name": "python3"
  },
  "language_info": {
   "codemirror_mode": {
    "name": "ipython",
    "version": 3
   },
   "file_extension": ".py",
   "mimetype": "text/x-python",
   "name": "python",
   "nbconvert_exporter": "python",
   "pygments_lexer": "ipython3",
   "version": "3.7.9"
  }
 },
 "nbformat": 4,
 "nbformat_minor": 5
}
