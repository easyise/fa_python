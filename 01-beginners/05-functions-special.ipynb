{
 "cells": [
  {
   "cell_type": "markdown",
   "id": "illegal-ghost",
   "metadata": {},
   "source": [
    "# Алгоритмы и структуры данных в Python\n",
    "\n",
    "## Занятие 5: Особенности функцонального программирования в Python\n",
    "\n",
    "Из предыдущего занятия мы помним, что функция:\n",
    "- может быть сохранена в переменной или структуре данных; \n",
    "- может быть передана в другую функцию как аргумент; \n",
    "- может быть возвращена из функции как результат; \n",
    "- может быть создана во время выполнения программы; \n",
    "- не должна зависеть от именования. \n",
    "\n",
    "Рассмотрим наиболее частые случаи специфичного применения функций в python.\n",
    "\n",
    "- функции как переменные:\n",
    "    - функция - конструктор;\n",
    "    - что такое замыкание;\n",
    "    - что такое каррирование;\n",
    "    - что такое декораторы.\n",
    "- Парадигма map/reduce.\n",
    "- Функции - генераторы.\n",
    "    \n",
    "\n",
    "\n"
   ]
  },
  {
   "cell_type": "markdown",
   "id": "prepared-weekly",
   "metadata": {},
   "source": [
    "### Функция - конструктор\n",
    "\n",
    "Функция может возвращать не только какие-либо значения, но и другую функцию. Это часто встречается, например, в библиотеках машинного обучения ```sklearn``` и ```keras```.\n",
    "\n",
    "Рассмотрим пример функции, которая создает линейную функцию:"
   ]
  },
  {
   "cell_type": "code",
   "execution_count": 12,
   "id": "trained-matthew",
   "metadata": {},
   "outputs": [
    {
     "name": "stdout",
     "output_type": "stream",
     "text": [
      "0\n",
      "1\n",
      "2\n",
      "3\n",
      "4\n"
     ]
    }
   ],
   "source": [
    "def linear_builder(k, b): \n",
    "    def helper(x): \n",
    "        return k * x + b \n",
    "    return helper\n",
    "\n",
    "linear = linear_builder(1, 2)\n",
    "\n",
    "print(linear(-2))\n",
    "print(linear(-1))\n",
    "print(linear(0))\n",
    "print(linear(1))\n",
    "print(linear(2))"
   ]
  },
  {
   "cell_type": "markdown",
   "id": "coordinated-pilot",
   "metadata": {},
   "source": [
    "### Функция - замыкание\n",
    "\n",
    "Замыкание (closure) — функция, которая находится внутри другой функции и ссылается на переменные, объявленные в теле внешней функции (свободные переменные).\n",
    "\n",
    "Внутренняя функция создается каждый раз во время выполнения внешней. Каждый раз при вызове внешней функции происходит создание нового экземпляра внутренней функции, с новыми ссылками на переменные внешней функции.\n",
    "\n",
    "Ссылки на переменные внешней функции действительны внутри вложенной функции до тех пор, пока работает вложенная функция, даже если внешняя функция закончила работу, и переменные вышли из области видимости.\n",
    "\n",
    "Например, функция ```helper()``` внутри ```linear_builder()``` - это замыкание. Переменная ```b_```, заданная в функции ```linear_builder()``` будет использоваться внутри функции ```helper()``` пока существуют функции, порожденные функцией ```linear_builder()```, и у каждой такой функции будут свои значения ```k``` и ```b```."
   ]
  },
  {
   "cell_type": "code",
   "execution_count": 22,
   "id": "musical-mongolia",
   "metadata": {},
   "outputs": [
    {
     "name": "stdout",
     "output_type": "stream",
     "text": [
      "k, b_: 5 100\n",
      "100\n",
      "k, b_: 1 8\n",
      "8\n",
      "k, b_: 5 100\n",
      "105\n",
      "k, b_: 5 100\n",
      "502600\n",
      "k, b_: 1 8\n",
      "9\n",
      "k, b_: 1 8\n",
      "100508\n"
     ]
    }
   ],
   "source": [
    "def linear_builder(k, b=None): \n",
    "    b_ = b if b is not None else 100\n",
    "    def helper(x): \n",
    "        print('k, b_:', k, b_)\n",
    "        return k * x + b_ \n",
    "    return helper\n",
    "\n",
    "linear_5 = linear_builder(5)\n",
    "print(linear_5(0))\n",
    "\n",
    "linear_1_8 = linear_builder(1, 8)\n",
    "print(linear_1_8(0))\n",
    "\n",
    "print(linear_5(1))\n",
    "print(linear_5(100500))\n",
    "\n",
    "print(linear_1_8(1))\n",
    "print(linear_1_8(100500))"
   ]
  },
  {
   "cell_type": "markdown",
   "id": "moved-digest",
   "metadata": {},
   "source": [
    "### Каррирование\n",
    "\n",
    "Каррирование - это перевод функций, принимающих набор параметров ```f(x_1, x_2, .., x_n)``` в набор последовательно вызываемых функций ```f(x_1)(x_2)...(x_n)```. Этот прием бывает полезен при возможном частичном использовании функций."
   ]
  },
  {
   "cell_type": "code",
   "execution_count": 34,
   "id": "abandoned-ebony",
   "metadata": {},
   "outputs": [
    {
     "name": "stdout",
     "output_type": "stream",
     "text": [
      "4\n",
      "4\n"
     ]
    },
    {
     "data": {
      "text/plain": [
       "4"
      ]
     },
     "execution_count": 34,
     "metadata": {},
     "output_type": "execute_result"
    }
   ],
   "source": [
    "def f_add(x_1, x_2, x_3):\n",
    "    return x_1 + x_2 + x_3\n",
    "\n",
    "def f_add_curry(x_1):\n",
    "    def helper_1(x_2):\n",
    "        def helper_2(x_3):\n",
    "            return x_1 + x_2 + x_3\n",
    "        return helper_2\n",
    "    return helper_1\n",
    "\n",
    "\n",
    "print(f_add(2,2,0))\n",
    "print(f_add_curry(2)(2)(0))\n",
    "\n",
    "fn_2_plus_2_plus_smth = f_add_curry(2)(2)\n",
    "fn_2_plus_2_plus_smth(0)\n"
   ]
  },
  {
   "cell_type": "markdown",
   "id": "solid-dominican",
   "metadata": {},
   "source": [
    "#### ПРАКТИКА\n",
    "\n",
    "1. Напишите функцию-конструктор, которая возвращает функцию, которая генерирует списки вещественных случайных чисел длины N. В качестве параметра генераторы списков должны получать верхнюю и нижнюю границы диапазона.\n",
    "\n",
    "2. Каррируйте вызов этой функции"
   ]
  },
  {
   "cell_type": "code",
   "execution_count": 27,
   "id": "advised-praise",
   "metadata": {},
   "outputs": [],
   "source": [
    "from random import random\n",
    "\n",
    "def list_random(N):\n",
    "    # ваш код здессь\n",
    "    pass\n",
    "\n",
    "# ваш код здесь"
   ]
  },
  {
   "cell_type": "markdown",
   "id": "cardiac-viking",
   "metadata": {},
   "source": [
    "### Декораторы\n",
    "\n",
    "Декораторы - это \"обертки\" для выполнения рутинных операций при вызове функций (например, препроцессинга, постпроцессинга или контроля входных данных), для них существует специальная синтаксическая конструкция.\n",
    "\n",
    "Предположим, что в нашем проекте нам необходимо перед вызовом и после вызова ряда функций печатать информационные сообщения. Добавлять код, печатающий эти сообщения в каждую функцию - это нарушение правила DRY (Don't Repeat Yourself). Можно прибегнуть к замыканиям и написать вот такую функцию:\n"
   ]
  },
  {
   "cell_type": "code",
   "execution_count": 83,
   "id": "narrative-extra",
   "metadata": {},
   "outputs": [
    {
     "name": "stdout",
     "output_type": "stream",
     "text": [
      "Before the call ...\n",
      "Hi from fn_test1\n",
      "After the call ...\n",
      "---\n",
      "Before the call ...\n",
      "Hi from fn_test1\n",
      "After the call ...\n",
      "---\n",
      "Before the call ...\n",
      "Hi from fn_test2\n",
      "After the call ...\n"
     ]
    }
   ],
   "source": [
    "def info_print(fn):\n",
    "    def fn_to_ret( *args, **kwargs ):\n",
    "        print('Before the call ...')\n",
    "        fn( *args, **kwargs )\n",
    "        print('After the call ...')\n",
    "    return fn_to_ret\n",
    "\n",
    "def fn_test1():\n",
    "    print('Hi from fn_test1')\n",
    "    \n",
    "info_print(fn_test1)() # так себе конструкция\n",
    "\n",
    "print('---')\n",
    "\n",
    "fn_test1_pre_post = info_print(fn_test1)\n",
    "\n",
    "fn_test1_pre_post() # тоже не очень\n",
    "\n",
    "print('---')\n",
    "\n",
    "@info_print\n",
    "def fn_test2():\n",
    "    print('Hi from fn_test2')\n",
    "    \n",
    "fn_test2()"
   ]
  },
  {
   "cell_type": "markdown",
   "id": "thousand-audit",
   "metadata": {},
   "source": [
    "### Парадигма map/reduce\n",
    "\n",
    "\"Разбить, обработать данные, собрать\". Несмотря на отмирание функционального программирования в чистом виде, эта парадигма сегодня снова стала актуальной, особенно в области анализа больших данных. Благодаря ей можно организовывать распределенные вычисления, например, в задачах машинного обучения. Это делается более продвинутыми средствами (не базовыми средствами python, а, к примеру, Apache Spark). Тем не менее, реализация map/reduce в python позволяет распараллелить вычисления на несколько потоков в рамках одного компьютера (сервера).\n",
    "\n",
    "Функция ```map(func, *iterables)``` применяет функцию ```func()``` ко всем элементам ```iterables``` и возвращает итерируемый объект, который состоит из преобразованных элементов. Этот объект можно \"прокрутить\" в цикле ```for ... in ...``` или превратить в список функцией ```list()```.\n"
   ]
  },
  {
   "cell_type": "code",
   "execution_count": 56,
   "id": "embedded-geography",
   "metadata": {},
   "outputs": [
    {
     "name": "stdout",
     "output_type": "stream",
     "text": [
      "<class 'map'>\n",
      "James Brown, musician\n",
      "Luke Skywalker, character\n",
      "John Lennon, musician\n",
      "Duke Ellington, musician\n",
      "Cinderella, character\n",
      "[]\n"
     ]
    }
   ],
   "source": [
    "dict_ = { 'James Brown': 'musician', \n",
    "          'Luke Skywalker': 'character', \n",
    "          'John Lennon': 'musician',\n",
    "          'Duke Ellington': 'musician',\n",
    "          'Cinderella': 'character'\n",
    "         }\n",
    "\n",
    "mapped = map(lambda name: f\"{name}, {dict_[name]}\", dict_)\n",
    "\n",
    "print(type(mapped))\n",
    "\n",
    "for x in mapped:\n",
    "    print(x)\n",
    "    \n",
    "print(list(mapped)) # пустой список! \n",
    "# чтобы работать полученными данными как со списком, сразу преобразуйте map в список и запишите его в переменную"
   ]
  },
  {
   "cell_type": "markdown",
   "id": "further-brief",
   "metadata": {},
   "source": [
    "Функция ```filter(func, *iterables)``` формирует итерируемый объект из тех позиций ```iterables```, для которых функция ```func()``` вернула ```True```.\n"
   ]
  },
  {
   "cell_type": "code",
   "execution_count": 58,
   "id": "average-cross",
   "metadata": {},
   "outputs": [
    {
     "name": "stdout",
     "output_type": "stream",
     "text": [
      "['James Brown', 'John Lennon', 'Duke Ellington']\n",
      "[]\n"
     ]
    }
   ],
   "source": [
    "filtered = filter(lambda name: dict_[name]=='musician', dict_)\n",
    "print(list(filtered))\n",
    "print(list(filtered)) # то же самое происходит с объектом filter - он \"исчерпывается\""
   ]
  },
  {
   "cell_type": "markdown",
   "id": "convertible-desire",
   "metadata": {},
   "source": [
    "Функция ```reduce(func, iterable[, initial])``` реализует кумулятивные вычисления на базе функции ```func(x_1, x_2)```. Эта функция принимает два значения: первое - уже вычисленное функцией ```reduce()```, второе - текущий элемент из ```iterable```. В начале цикла ```reduce()``` берет либо значение ```initial```, а если он не указан - первый элемент из ```iterable```."
   ]
  },
  {
   "cell_type": "code",
   "execution_count": 71,
   "id": "fuzzy-serum",
   "metadata": {},
   "outputs": [
    {
     "name": "stdout",
     "output_type": "stream",
     "text": [
      "['James Brown', 'John Lennon', 'Duke Ellington']\n",
      "<class 'list'>\n"
     ]
    }
   ],
   "source": [
    "from functools import reduce\n",
    "\n",
    "def collect_musicians(list_, name_role):\n",
    "    name, role = name_role\n",
    "    if role=='musician':\n",
    "        list_.append(name)\n",
    "    return list_\n",
    "    \n",
    "\n",
    "musicians = reduce(collect_musicians, dict_.items(), [])\n",
    "print(musicians)\n",
    "print(type(musicians))"
   ]
  },
  {
   "cell_type": "markdown",
   "id": "communist-rolling",
   "metadata": {},
   "source": [
    "#### ПРАКТИКА \n",
    "\n",
    "Используя замыкания, напишите универсальную функцию ```collect(role, scope='filter')```, которая будет возвращать функцию, которую можно будет использовать и в ```filter()```, и в ```reduce()```. Параметры функции: ```role()``` - название роли, ```scope``` - область применения: filter или reduce. Параметры создаваемой функции и возвращаемое ей значение - согласно области применения."
   ]
  },
  {
   "cell_type": "code",
   "execution_count": null,
   "id": "opening-slave",
   "metadata": {},
   "outputs": [],
   "source": [
    "def collect(role, scope='filter'):\n",
    "    # ваш код здесь\n",
    "    pass\n",
    "\n",
    "# ваш код здесь\n"
   ]
  },
  {
   "cell_type": "markdown",
   "id": "purple-tourism",
   "metadata": {},
   "source": [
    "### Функции-генераторы\n",
    "\n",
    "В Python есть возможность создавать функции, которые можно использовать в цикле ```for ... in ...```. Можно сказать, такие функции возвращают (или генерируют) последовательность значений оператором ```yield```. После вызова оператора ```yield``` функция \"замирает\" до следующей итерации."
   ]
  },
  {
   "cell_type": "code",
   "execution_count": 72,
   "id": "declared-genre",
   "metadata": {},
   "outputs": [
    {
     "name": "stdout",
     "output_type": "stream",
     "text": [
      "0.39\n",
      "1.1\n",
      "2.03\n",
      "2.18\n",
      "3.05\n"
     ]
    }
   ],
   "source": [
    "from random import random\n",
    "\n",
    "# генератор - он почти как обычная функция, только вместо return - yield\n",
    "def random_increase(quantity):\n",
    "    cur = 0\n",
    "    while quantity > 0:\n",
    "        cur += random()\n",
    "        quantity -= 1\n",
    "        yield round(cur, 2)\n",
    "        \n",
    "for x in random_increase(5):\n",
    "    print(x)"
   ]
  },
  {
   "cell_type": "code",
   "execution_count": 86,
   "id": "latest-deposit",
   "metadata": {},
   "outputs": [
    {
     "name": "stdout",
     "output_type": "stream",
     "text": [
      "Hello\n",
      "Hello again\n",
      "Again, hello!\n",
      "Hello!!!\n",
      "Hi 0!\n",
      "Hi 1!\n",
      "Hi 2!\n",
      "Hi 3!\n",
      "Hi 4!\n",
      "<generator object just_a_generator at 0x103e7ced0>\n"
     ]
    }
   ],
   "source": [
    "def just_a_generator():\n",
    "    yield \"Hello\"\n",
    "    yield \"Hello again\"\n",
    "    yield \"Again, hello!\"\n",
    "    yield \"Hello!!!\"\n",
    "    for i in range(5):\n",
    "        yield f\"Hi {i}!\"\n",
    "\n",
    "    \n",
    "for str_ in just_a_generator():\n",
    "    print(str_)\n",
    "    \n",
    "print( just_a_generator() )"
   ]
  },
  {
   "cell_type": "markdown",
   "id": "measured-relevance",
   "metadata": {},
   "source": [
    "#### ПРАКТИКА\n",
    "\n",
    "1\\. Напишите генератор, который создает последовательность чисел, уменьшающих заданное вещественное число на случайную величину, до нуля."
   ]
  },
  {
   "cell_type": "code",
   "execution_count": null,
   "id": "certain-dodge",
   "metadata": {},
   "outputs": [],
   "source": [
    "N = 10\n",
    "\n",
    "def generator(start): \n",
    "    # ваш код здесь\n",
    "\n",
    "for i in generator(N): \n",
    "    print(i)"
   ]
  },
  {
   "cell_type": "markdown",
   "id": "developmental-treasure",
   "metadata": {},
   "source": [
    "2\\. Есть список списков, содержащий числа. Напишите редьюсер, который объединяет списки в один и считает их сумму (т.е. возвращает кортеж из итогового списка и суммы эго элементов)."
   ]
  },
  {
   "cell_type": "code",
   "execution_count": 82,
   "id": "welcome-venice",
   "metadata": {},
   "outputs": [
    {
     "data": {
      "text/plain": [
       "([1, 2, 3, 4, 5, 6, 7, 8, 9, 10], 55)"
      ]
     },
     "execution_count": 82,
     "metadata": {},
     "output_type": "execute_result"
    }
   ],
   "source": [
    "from functools import reduce\n",
    "\n",
    "list_lists = [[1,2,3], [4,5,6], [7,8,9,10]]\n",
    "\n",
    "def reducer(tuple_, list_):\n",
    "    # ваш код здесь\n",
    "    pass\n",
    "\n",
    "reduce(reducer, list_lists, ([], 0))"
   ]
  },
  {
   "cell_type": "code",
   "execution_count": null,
   "id": "warming-feedback",
   "metadata": {},
   "outputs": [],
   "source": []
  }
 ],
 "metadata": {
  "kernelspec": {
   "display_name": "Python 3",
   "language": "python",
   "name": "python3"
  },
  "language_info": {
   "codemirror_mode": {
    "name": "ipython",
    "version": 3
   },
   "file_extension": ".py",
   "mimetype": "text/x-python",
   "name": "python",
   "nbconvert_exporter": "python",
   "pygments_lexer": "ipython3",
   "version": "3.7.9"
  }
 },
 "nbformat": 4,
 "nbformat_minor": 5
}
