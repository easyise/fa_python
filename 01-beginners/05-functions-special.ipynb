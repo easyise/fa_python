{
 "cells": [
  {
   "cell_type": "markdown",
   "id": "modern-contamination",
   "metadata": {},
   "source": [
    "# Алгоритмы и структуры данных в Python\n",
    "\n",
    "## Занятие 5: Особенности функцонального программирования в Python\n",
    "\n",
    "Из предыдущего занятия мы помним, что функция:\n",
    "- может быть сохранена в переменной или структуре данных; \n",
    "- может быть передана в другую функцию как аргумент; \n",
    "- может быть возвращена из функции как результат; \n",
    "- может быть создана во время выполнения программы; \n",
    "- не должна зависеть от именования. \n",
    "\n",
    "Рассмотрим наиболее частые случаи специфичного применения функций в python.\n",
    "\n",
    "- функции как переменные:\n",
    "    - функция - конструктор;\n",
    "    - что такое замыкание;\n",
    "    - что такое каррирование;\n",
    "    - что такое декораторы.\n",
    "- Парадигма map/reduce.\n",
    "- Функции - генераторы.\n",
    "    \n",
    "\n",
    "\n"
   ]
  },
  {
   "cell_type": "markdown",
   "id": "iraqi-amsterdam",
   "metadata": {},
   "source": [
    "### Функция - конструктор\n",
    "\n",
    "Функция может возвращать не только какие-либо значения, но и другую функцию. Это часто встречается, например, в библиотеках машинного обучения ```sklearn``` и ```keras```.\n",
    "\n",
    "Рассмотрим пример функции, которая создает линейную функцию:"
   ]
  },
  {
   "cell_type": "code",
   "execution_count": null,
   "id": "sapphire-kennedy",
   "metadata": {},
   "outputs": [],
   "source": [
    "def linear_builder(k, b): \n",
    "    def helper(x): \n",
    "        return k * x + b \n",
    "    return helper\n",
    "\n",
    "linear = linear_builder(1, 2)\n",
    "\n",
    "print(linear(-2))\n",
    "print(linear(-1))\n",
    "print(linear(0))\n",
    "print(linear(1))\n",
    "print(linear(2))"
   ]
  },
  {
   "cell_type": "markdown",
   "id": "successful-split",
   "metadata": {},
   "source": [
    "### Функция - замыкание\n",
    "\n",
    "Замыкание (closure) — функция, которая находится внутри другой функции и ссылается на переменные, объявленные в теле внешней функции (свободные переменные).\n",
    "\n",
    "Внутренняя функция создается каждый раз во время выполнения внешней. Каждый раз при вызове внешней функции происходит создание нового экземпляра внутренней функции, с новыми ссылками на переменные внешней функции.\n",
    "\n",
    "Ссылки на переменные внешней функции действительны внутри вложенной функции до тех пор, пока работает вложенная функция, даже если внешняя функция закончила работу, и переменные вышли из области видимости.\n",
    "\n",
    "Например, функция ```helper()``` внутри ```linear_builder()``` - это замыкание. Переменная ```b_```, заданная в функции ```linear_builder()``` будет использоваться внутри функции ```helper()``` пока существуют функции, порожденные функцией ```linear_builder()```, и у каждой такой функции будут свои значения ```k``` и ```b```."
   ]
  },
  {
   "cell_type": "code",
   "execution_count": null,
   "id": "parental-daisy",
   "metadata": {},
   "outputs": [],
   "source": [
    "def linear_builder(k, b=None): \n",
    "    b_ = b if b is not None else 100\n",
    "    def helper(x): \n",
    "        print('k, b_:', k, b_)\n",
    "        return k * x + b_ \n",
    "    return helper\n",
    "\n",
    "linear_5 = linear_builder(5)\n",
    "print(linear_5(0))\n",
    "\n",
    "linear_1_8 = linear_builder(1, 8)\n",
    "print(linear_1_8(0))\n",
    "\n",
    "print(linear_5(1))\n",
    "print(linear_5(100500))\n",
    "\n",
    "print(linear_1_8(1))\n",
    "print(linear_1_8(100500))"
   ]
  },
  {
   "cell_type": "markdown",
   "id": "rotary-argument",
   "metadata": {},
   "source": [
    "### Каррирование\n",
    "\n",
    "Каррирование - это перевод функций, принимающих набор параметров ```f(x_1, x_2, .., x_n)``` в набор последовательно вызываемых функций ```f(x_1)(x_2)...(x_n)```. Этот прием бывает полезен при возможном частичном использовании функций."
   ]
  },
  {
   "cell_type": "code",
   "execution_count": null,
   "id": "naked-insertion",
   "metadata": {},
   "outputs": [],
   "source": [
    "def f_add(x_1, x_2, x_3):\n",
    "    return x_1 + x_2 + x_3\n",
    "\n",
    "def f_add_curry(x_1):\n",
    "    def helper_1(x_2):\n",
    "        def helper_2(x_3):\n",
    "            return x_1 + x_2 + x_3\n",
    "        return helper_2\n",
    "    return helper_1\n",
    "\n",
    "\n",
    "print(f_add(2,2,0))\n",
    "print(f_add_curry(2)(2)(0))\n",
    "\n",
    "fn_2_plus_2_plus_smth = f_add_curry(2)(2)\n",
    "fn_2_plus_2_plus_smth(0)\n"
   ]
  },
  {
   "cell_type": "markdown",
   "id": "genetic-heating",
   "metadata": {},
   "source": [
    "#### ПРАКТИКА\n",
    "\n",
    "1. Напишите функцию-конструктор, которая возвращает функцию, которая генерирует списки вещественных случайных чисел длины N. В качестве параметра генераторы списков должны получать верхнюю и нижнюю границы диапазона.\n",
    "\n",
    "2. Каррируйте вызов этой функции"
   ]
  },
  {
   "cell_type": "code",
   "execution_count": null,
   "id": "failing-implementation",
   "metadata": {},
   "outputs": [],
   "source": [
    "from random import random\n",
    "\n",
    "def list_random(N):\n",
    "    # ваш код здессь\n",
    "    pass\n",
    "\n",
    "# ваш код здесь"
   ]
  },
  {
   "cell_type": "markdown",
   "id": "focused-thickness",
   "metadata": {},
   "source": [
    "### Декораторы\n",
    "\n",
    "Декораторы - это \"обертки\" для выполнения рутинных операций при вызове функций (например, препроцессинга, постпроцессинга или контроля входных данных), для них существует специальная синтаксическая конструкция.\n",
    "\n",
    "Предположим, что в нашем проекте нам необходимо перед вызовом и после вызова ряда функций печатать информационные сообщения. Добавлять код, печатающий эти сообщения в каждую функцию - это нарушение правила DRY (Don't Repeat Yourself). Можно прибегнуть к замыканиям и написать вот такую функцию:\n"
   ]
  },
  {
   "cell_type": "code",
   "execution_count": null,
   "id": "hindu-usage",
   "metadata": {},
   "outputs": [],
   "source": [
    "def info_print(fn):\n",
    "    def fn_to_ret( *args, **kwargs ):\n",
    "        print('Before the call ...')\n",
    "        fn( *args, **kwargs )\n",
    "        print('After the call ...')\n",
    "    return fn_to_ret\n",
    "\n",
    "def fn_test1():\n",
    "    print('Hi from fn_test1')\n",
    "    \n",
    "info_print(fn_test1)() # так себе конструкция\n",
    "\n",
    "print('---')\n",
    "\n",
    "fn_test1_pre_post = info_print(fn_test1)\n",
    "\n",
    "fn_test1_pre_post() # тоже не очень\n",
    "\n",
    "print('---')\n",
    "\n",
    "@info_print\n",
    "def fn_test2():\n",
    "    print('Hi from fn_test2')\n",
    "    \n",
    "fn_test2()"
   ]
  },
  {
   "cell_type": "markdown",
   "id": "diverse-scroll",
   "metadata": {},
   "source": [
    "### Парадигма map/reduce\n",
    "\n",
    "\"Разбить, обработать данные, собрать\". Несмотря на отмирание функционального программирования в чистом виде, эта парадигма сегодня снова стала актуальной, особенно в области анализа больших данных. Благодаря ей можно организовывать распределенные вычисления, например, в задачах машинного обучения. Это делается более продвинутыми средствами (не базовыми средствами python, а, к примеру, Apache Spark). Тем не менее, реализация map/reduce в python позволяет распараллелить вычисления на несколько потоков в рамках одного компьютера (сервера).\n",
    "\n",
    "Функция ```map(func, *iterables)``` применяет функцию ```func()``` ко всем элементам ```iterables``` и возвращает итерируемый объект, который состоит из преобразованных элементов. Этот объект можно \"прокрутить\" в цикле ```for ... in ...``` или превратить в список функцией ```list()```.\n"
   ]
  },
  {
   "cell_type": "code",
   "execution_count": null,
   "id": "mysterious-difficulty",
   "metadata": {},
   "outputs": [],
   "source": [
    "dict_ = { 'James Brown': 'musician', \n",
    "          'Luke Skywalker': 'character', \n",
    "          'John Lennon': 'musician',\n",
    "          'Duke Ellington': 'musician',\n",
    "          'Cinderella': 'character'\n",
    "         }\n",
    "\n",
    "mapped = map(lambda name: f\"{name}, {dict_[name]}\", dict_)\n",
    "\n",
    "print(type(mapped))\n",
    "\n",
    "for x in mapped:\n",
    "    print(x)\n",
    "    \n",
    "print(list(mapped)) # пустой список! \n",
    "# чтобы работать полученными данными как со списком, сразу преобразуйте map в список и запишите его в переменную"
   ]
  },
  {
   "cell_type": "markdown",
   "id": "parliamentary-majority",
   "metadata": {},
   "source": [
    "Функция ```filter(func, *iterables)``` формирует итерируемый объект из тех позиций ```iterables```, для которых функция ```func()``` вернула ```True```.\n"
   ]
  },
  {
   "cell_type": "code",
   "execution_count": null,
   "id": "domestic-contractor",
   "metadata": {},
   "outputs": [],
   "source": [
    "filtered = filter(lambda name: dict_[name]=='musician', dict_)\n",
    "print(list(filtered))\n",
    "print(list(filtered)) # то же самое происходит с объектом filter - он \"исчерпывается\""
   ]
  },
  {
   "cell_type": "markdown",
   "id": "intellectual-clarity",
   "metadata": {},
   "source": [
    "Функция ```reduce(func, iterable[, initial])``` реализует кумулятивные вычисления на базе функции ```func(x_1, x_2)```. Эта функция принимает два значения: первое - уже вычисленное функцией ```reduce()```, второе - текущий элемент из ```iterable```. В начале цикла ```reduce()``` берет либо значение ```initial```, а если он не указан - первый элемент из ```iterable```."
   ]
  },
  {
   "cell_type": "code",
   "execution_count": null,
   "id": "furnished-exercise",
   "metadata": {},
   "outputs": [],
   "source": [
    "from functools import reduce\n",
    "\n",
    "def collect_musicians(list_, name_role):\n",
    "    name, role = name_role\n",
    "    if role=='musician':\n",
    "        list_.append(name)\n",
    "    return list_\n",
    "    \n",
    "\n",
    "musicians = reduce(collect_musicians, dict_.items(), [])\n",
    "print(musicians)\n",
    "print(type(musicians))"
   ]
  },
  {
   "cell_type": "markdown",
   "id": "opposed-branch",
   "metadata": {},
   "source": [
    "#### ПРАКТИКА \n",
    "\n",
    "Используя замыкания, напишите универсальную функцию ```collect(role, scope='filter')```, которая будет возвращать функцию, которую можно будет использовать и в ```filter()```, и в ```reduce()```. Параметры функции: ```role()``` - название роли, ```scope``` - область применения: filter или reduce. Параметры создаваемой функции и возвращаемое ей значение - согласно области применения."
   ]
  },
  {
   "cell_type": "code",
   "execution_count": null,
   "id": "offshore-spirituality",
   "metadata": {},
   "outputs": [],
   "source": [
    "def collect(role, scope='filter'):\n",
    "    # ваш код здесь\n",
    "    pass\n",
    "\n",
    "# ваш код здесь\n"
   ]
  },
  {
   "cell_type": "markdown",
   "id": "arabic-hierarchy",
   "metadata": {},
   "source": [
    "### Функции-генераторы\n",
    "\n",
    "В Python есть возможность создавать функции, которые можно использовать в цикле ```for ... in ...```. Можно сказать, такие функции возвращают (или генерируют) последовательность значений оператором ```yield```. После вызова оператора ```yield``` функция \"замирает\" до следующей итерации."
   ]
  },
  {
   "cell_type": "code",
   "execution_count": null,
   "id": "electrical-thesis",
   "metadata": {},
   "outputs": [],
   "source": [
    "from random import random\n",
    "\n",
    "# генератор - он почти как обычная функция, только вместо return - yield\n",
    "def random_increase(quantity):\n",
    "    cur = 0\n",
    "    while quantity > 0:\n",
    "        cur += random()\n",
    "        quantity -= 1\n",
    "        yield round(cur, 2)\n",
    "        \n",
    "for x in random_increase(5):\n",
    "    print(x)"
   ]
  },
  {
   "cell_type": "code",
   "execution_count": null,
   "id": "upset-fleece",
   "metadata": {},
   "outputs": [],
   "source": [
    "def just_a_generator():\n",
    "    yield \"Hello\"\n",
    "    yield \"Hello again\"\n",
    "    yield \"Again, hello!\"\n",
    "    yield \"Hello!!!\"\n",
    "    for i in range(5):\n",
    "        yield f\"Hi {i}!\"\n",
    "\n",
    "    \n",
    "for str_ in just_a_generator():\n",
    "    print(str_)\n",
    "    \n",
    "print( just_a_generator() )"
   ]
  },
  {
   "cell_type": "markdown",
   "id": "instant-poster",
   "metadata": {},
   "source": [
    "#### ПРАКТИКА\n",
    "\n",
    "1\\. Напишите генератор, который создает последовательность чисел, уменьшающих заданное вещественное число на случайную величину, до нуля."
   ]
  },
  {
   "cell_type": "code",
   "execution_count": null,
   "id": "perceived-disease",
   "metadata": {},
   "outputs": [],
   "source": [
    "N = 10\n",
    "\n",
    "def generator(start): \n",
    "    # ваш код здесь\n",
    "\n",
    "for i in generator(N): \n",
    "    print(i)"
   ]
  },
  {
   "cell_type": "markdown",
   "id": "dense-gothic",
   "metadata": {},
   "source": [
    "2\\. Есть список списков, содержащий числа. Напишите редьюсер, который объединяет списки в один и считает их сумму (т.е. возвращает кортеж из итогового списка и суммы эго элементов)."
   ]
  },
  {
   "cell_type": "code",
   "execution_count": null,
   "id": "center-audit",
   "metadata": {},
   "outputs": [],
   "source": [
    "from functools import reduce\n",
    "\n",
    "list_lists = [[1,2,3], [4,5,6], [7,8,9,10]]\n",
    "\n",
    "def reducer(tuple_, list_):\n",
    "    # ваш код здесь\n",
    "    pass\n",
    "\n",
    "reduce(reducer, list_lists, ([], 0))"
   ]
  },
  {
   "cell_type": "code",
   "execution_count": null,
   "id": "yellow-knowing",
   "metadata": {},
   "outputs": [],
   "source": []
  }
 ],
 "metadata": {
  "kernelspec": {
   "display_name": "Python 3",
   "language": "python",
   "name": "python3"
  },
  "language_info": {
   "codemirror_mode": {
    "name": "ipython",
    "version": 3
   },
   "file_extension": ".py",
   "mimetype": "text/x-python",
   "name": "python",
   "nbconvert_exporter": "python",
   "pygments_lexer": "ipython3",
   "version": "3.7.9"
  }
 },
 "nbformat": 4,
 "nbformat_minor": 5
}
