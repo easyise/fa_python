{
 "cells": [
  {
   "cell_type": "markdown",
   "metadata": {},
   "source": [
    "# Программирование на языке Python. Уровень 1.\u000b",
    "Основы языка Python\n",
    "\n",
    "## Модуль 8. Работа со текстовыми данными"
   ]
  },
  {
   "cell_type": "markdown",
   "metadata": {},
   "source": [
    "### Строки и обработка текстовых данных\n",
    "\n",
    "#### Элементарные операции над строками\n",
    "\n",
    "Строка в Python - это неизменяемый (unmutable) объект. При этом, во время работы со строками можно использовать операции, которые определены для списков:\n",
    "- ```len()``` - эта функция Python вернет длину строки в символах\n",
    "- можно делать срезы  (напимер, ```str_x[2:-1]``` вернет подстроку, начиная со 2-го символа, но без последнего символа)\n",
    "- перебирать символы в строке в цикле ```for```\\\n",
    "__НО__:\n",
    "- присваивать символы определенным позициям в строках нельзя\n",
    "- также для строк не определены ```append()```, ```remove()```, ```sort()``` и прочее."
   ]
  },
  {
   "cell_type": "code",
   "execution_count": null,
   "metadata": {},
   "outputs": [],
   "source": [
    "hello = \"Привет\"\n",
    "print(len(hello)) # 6\n",
    "print(hello[1:-1]) # риве\n",
    "for char in hello:\n",
    "    print(char)\n",
    "# П\n",
    "# р\n",
    "# и\n",
    "# в\n",
    "# е\n",
    "# т"
   ]
  },
  {
   "cell_type": "code",
   "execution_count": null,
   "metadata": {},
   "outputs": [],
   "source": [
    "hello.append(\"тттт\") # ошибка AttributeError: 'str' object has no attribute 'append'\n",
    "hello[2] = \"ю\" # ошибка TypeError: 'str' object does not support item assignment"
   ]
  },
  {
   "cell_type": "markdown",
   "metadata": {},
   "source": [
    "Но со строками в Python можно делать ряд других операций:\n",
    "- конкатенация строк (соединение) - оператором \"``` + ```\"\n",
    "- разбиение строк методом ```split( str )``` (здесь str - это разделитель)\n",
    "- соединение строк из списка методом ```join()```\n",
    "- можно обрезать строки слева и/или справа функцией ```strip( str )```\n",
    "- строки можно форматировать."
   ]
  },
  {
   "cell_type": "code",
   "execution_count": null,
   "metadata": {},
   "outputs": [],
   "source": [
    "hello = \"Hello\"\n",
    "world = \"World\"\n",
    "hello_world = hello + ', ' + world+'!'\n",
    "print(hello_world) # Hello, World!\n",
    "\n",
    "list_hw = hello_world.split(', ')\n",
    "print(list_hw) # ['Hello', 'World!']\n",
    "\n",
    "print( \", \".join(list_hw) ) # Hello, World!"
   ]
  },
  {
   "cell_type": "code",
   "execution_count": null,
   "metadata": {},
   "outputs": [],
   "source": [
    "# убрать пробелы и ненужные символы\n",
    "print(\"Hello world    !\".strip(' !'))\n",
    "\n",
    "# изменить регистр\n",
    "print(hello_world.upper()) # HELLO, WORLD!\n",
    "print(hello_world.lower()) # hello, world!\n",
    "print(hello_world.capitalize()) # Hello, world!\n"
   ]
  },
  {
   "cell_type": "markdown",
   "metadata": {},
   "source": [
    "##### Форматирование строк\n",
    "\n",
    "Существует несколько методов форматирования:\n",
    "- с помощью f-строк (например, ```f\"{var1} {var2}\"```)\n",
    "- с использованием метода ```format()```\n",
    "- как в Python 2.X, с использованием оператора \"%\""
   ]
  },
  {
   "cell_type": "code",
   "execution_count": null,
   "metadata": {},
   "outputs": [],
   "source": [
    "# f-строки:\n",
    "hello = \"Hello\"\n",
    "world = \"World\"\n",
    "print(f\"{hello}, {world}!\") # Hello, World!\n",
    "\n",
    "import math\n",
    "\n",
    "# можно \"на лету\" форматировать вывод чисел, например число знаков после запятой\n",
    "print(f'The value of pi is approximately {math.pi:.4f}.') # 4 знака после запятой\n"
   ]
  },
  {
   "cell_type": "code",
   "execution_count": null,
   "metadata": {},
   "outputs": [],
   "source": [
    "# можно устанавливать ширину строки, что удобно при табличном выводе:\n",
    "table = {'Sjoerd': 4127, 'Jack': 4098, 'Dcab': 7678}\n",
    "for name, phone in table.items():\n",
    "    print(f'{name:10} ==> {phone:10d}')"
   ]
  },
  {
   "cell_type": "code",
   "execution_count": null,
   "metadata": {},
   "outputs": [],
   "source": [
    "# функция format работает аналогично f-строке\n",
    "hello = \"Hello\"\n",
    "world = \"World\"\n",
    "print(\"{}, {}!\".format(hello, world)) # Hello, World!\n",
    "print(\"{1}, {0}!\".format(hello, world)) # World, Hello!\n",
    "\n",
    "# можно удобно выводить содержимое словаря\n",
    "table = {'Sjoerd': 4127, 'Jack': 4098, 'Dcab': 7678}\n",
    "print('Jack: {Jack:d}; Sjoerd: {Sjoerd:d}; Dcab: {Dcab:d}'.format(**table)) # Jack: 4098; Sjoerd: 4127; Dcab: 7678\n",
    "\n",
    "# форматирование в стиле Python 2.X:\n",
    "print('Jack: %(Jack)d; Sjoerd: %(Sjoerd)d; Dcab: %(Dcab)d' % table)"
   ]
  },
  {
   "cell_type": "code",
   "execution_count": null,
   "metadata": {},
   "outputs": [],
   "source": [
    "# также в Python есть функции выравнивания по левому краю, правому краю и центру\n",
    "print(hello.rjust(10))\n",
    "print(hello.ljust(10))\n",
    "print(hello.center(10))"
   ]
  },
  {
   "cell_type": "markdown",
   "metadata": {},
   "source": [
    "#### __ПРАКТИКА__"
   ]
  },
  {
   "cell_type": "markdown",
   "metadata": {},
   "source": [
    "1. Для введенной строки выведите (на отдельной строке): \n",
    "- второй символ этой строки; \n",
    "- предпоследний символ этой строки; \n",
    "- первые 3 символа этой строки; \n",
    "- всю строку, кроме последних двух символов; \n",
    "- все символы с четными индексами (считая, что индексация начинается с 0, поэтому символы выводятся, начиная с первого); \n",
    "- все символы с нечетными индексами, то есть начиная со второго символа строки; \n",
    "- все символы в обратном порядке; \n",
    "- все символы строки через один в обратном порядке, начиная с последнего; \n",
    "- длину данной строки. \n"
   ]
  },
  {
   "cell_type": "code",
   "execution_count": null,
   "metadata": {},
   "outputs": [],
   "source": [
    "str_ = input(\"Введите строку: \")\n",
    "\n",
    "# выведите второй символ этой строки; \n",
    "\n",
    "# выведите предпоследний символ этой строки; \n",
    "\n",
    "# выведите первые 3 символа этой строки; \n",
    "\n",
    "# выведите всю строку, кроме последних двух символов; \n",
    "\n",
    "# выведите все символы с четными индексами (считая, что индексация начинается с 0, поэтому символы выводятся, начиная с первого); \n",
    "\n",
    "# выведите все символы с нечетными индексами, то есть начиная со второго символа строки; \n",
    "\n",
    "# выведите все символы в обратном порядке; \n",
    "\n",
    "# выведите все символы строки через один в обратном порядке, начиная с последнего; \n",
    "\n",
    "# выведите длину данной строки. \n",
    "\n"
   ]
  },
  {
   "cell_type": "markdown",
   "metadata": {},
   "source": [
    "2. Дан текст, содержащий несколько строк, где через символ-разделитель ```|``` перечислены различные показатели. Требуется вывести их в табличной форме, упорядоченными по убыванию, в формате ```<Название показателя>: <число>```."
   ]
  },
  {
   "cell_type": "code",
   "execution_count": null,
   "metadata": {},
   "outputs": [],
   "source": [
    "data = \"\"\"\n",
    "приборы|8%\n",
    "тангаж|11.5%\n",
    "развитие|0.05%\n",
    "температура|11.1%\n",
    "макроэкономика|9\n",
    "инфлюэнца|100%\n",
    "декупаж|9.99%\n",
    "\"\"\"\n",
    "\n",
    "# ваш код здесь"
   ]
  },
  {
   "cell_type": "markdown",
   "metadata": {},
   "source": [
    "### Обработка текстовой информации: поиск и замена\n",
    "\n",
    "#### Простой поиск и замена\n",
    "\n",
    "У объектов класса str есть встроенные средства поиска подстроки:\n",
    "- простая проверка наличия подстроки в строке: ```if x in y:```\n",
    "- метод ```find( str )```, который возвращает позицию найденной подстроки или либо -1\n",
    "- методы ```startswith( str )``` и ```endswith( str )``` проверяют, начинается или заканчивается данная строка строкой ```str```\n",
    "- метод ```count( str )```, который возвращает количество вхождений подстроки в строку\n",
    "- для замены одной подстроки на другую используйте метод ```replace( from, to )```\n",
    "\n",
    "__ВНИМАНИЕ!__ Все эти методы чувствительны к регистру."
   ]
  },
  {
   "cell_type": "code",
   "execution_count": null,
   "metadata": {},
   "outputs": [],
   "source": [
    "hello_world  = \"Hello, World!\"\n",
    "\n",
    "print( 'World' in hello_world ) # True\n",
    "print( 'world' in hello_world ) # False - т.к. чувствительность к регистру\n",
    "\n",
    "print(hello_world.find(', ')) # 5\n",
    "\n",
    "print(hello_world.startswith('Hell')) # True\n",
    "print(hello_world.endswith('World')) # False, т.к. восклицательный знак\n"
   ]
  },
  {
   "cell_type": "code",
   "execution_count": null,
   "metadata": {},
   "outputs": [],
   "source": [
    "numbers = \"2 12 85 06 42 4 718 29 3 70 420\"\n",
    "\n",
    "# замена\n",
    "print(numbers.replace('42', '!!!')) # 2 12 85 06 !!! 4 718 29 3 70 !!!0\n",
    "\n",
    "numbers = \"2 12 85 06 42 4 718 29 3 70 420\"\n",
    "print(numbers.count(\"42\")) # 2 - подсчет вхождений подстроки"
   ]
  },
  {
   "cell_type": "markdown",
   "metadata": {},
   "source": [
    "#### ПРАКТИКА / ДЗ"
   ]
  },
  {
   "cell_type": "markdown",
   "metadata": {},
   "source": [
    "1. Реализовать калькулятор, который принимает от пользователя через пробел строку следующего вида: «a op b», где a и b – некоторые числа, а ‘op’ определяет оператор и может принимать значения «+,-,*,/,**,%». В зависимости от оператора с помощью форматирования строк вывести результат в виде: «a + b = 3 + 2 = 5», где была получена строка «3 + 2». Для операций возведения в степень и деления по модулю использовать вместо знака оператора соответствующие выражения. Например, для строки «2 ** 3» должно быть выведено «a в степени b = 2 в степени 3 = 8»."
   ]
  },
  {
   "cell_type": "code",
   "execution_count": null,
   "metadata": {},
   "outputs": [],
   "source": [
    "# ваш код здесь\n"
   ]
  }
 ],
 "metadata": {
  "kernelspec": {
   "display_name": "Python 3",
   "language": "python",
   "name": "python3"
  },
  "language_info": {
   "codemirror_mode": {
    "name": "ipython",
    "version": 3
   },
   "file_extension": ".py",
   "mimetype": "text/x-python",
   "name": "python",
   "nbconvert_exporter": "python",
   "pygments_lexer": "ipython3",
   "version": "3.7.9"
  }
 },
 "nbformat": 4,
 "nbformat_minor": 4
}
