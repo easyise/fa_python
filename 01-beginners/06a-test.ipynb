{
 "cells": [
  {
   "cell_type": "markdown",
   "id": "adverse-thirty",
   "metadata": {},
   "source": [
    "# Алгоритмы и структуры данных в Python\n",
    "\n",
    "## Занятие 6: Контрольная работа\n",
    "\n",
    "Выполните следующие задачи и отправье тетрадь с решениями на адрес easyise@gmail.com. \n",
    "\n",
    "Перед отправкой переименуйте тетради в файлы с именами в формате __06a-test-\\<FAMILIA_IMYA\\>.ipynb__.\n",
    "\n",
    "Имя отправляемого файла может выглядеть, например, так: \\\n",
    "__06a-test-Eliseev_Ilya.ipynb__\n"
   ]
  },
  {
   "cell_type": "markdown",
   "id": "rocky-selling",
   "metadata": {},
   "source": [
    "1. Решите несколько простых задач:"
   ]
  },
  {
   "cell_type": "code",
   "execution_count": null,
   "id": "hourly-spirituality",
   "metadata": {},
   "outputs": [],
   "source": [
    "# дан список\n",
    "numbers = [    \n",
    "    386, 462, 47, 418, 950, 344, 236, 375, 823, 566, 597, 978, 328, 615, 953, 345, \n",
    "    399, 162, 758, 219, 918, 237,\\\n",
    "    412, 566, 826, 248, 866, 950, 626, 949, 687, 217, \n",
    "]\n",
    "\n",
    "\n",
    "print('a: ---')\n",
    "# a. Посчитайте количество уникальных элементов в данном списке\n",
    "# ваш код здесь\n",
    "\n",
    "print('b: ---')\n",
    "# b. Посчитайте количество элементов, которые делятся на 3\n",
    "# ваш код здесь\n",
    "\n",
    "print('c: ---')\n",
    "# c. Выведите на экран все числа с повторяющимися цифрами (напр. 399, 626 и пр.)\n",
    "# ваш код здесь\n",
    "\n",
    "print('d: ---')\n",
    "# d. Напишите программу, которая выводит чётные числа \n",
    "#  из заданного списка и останавливается, если встречает число 237.\n"
   ]
  },
  {
   "cell_type": "markdown",
   "id": "polish-light",
   "metadata": {},
   "source": [
    "2. Пользователь вводит текст. Задача: написать функцию, которая будет считать количество символов и возвращать их в виде словаря, ключами в котором будут символы, а значениями - количество."
   ]
  },
  {
   "cell_type": "code",
   "execution_count": null,
   "id": "empirical-halifax",
   "metadata": {},
   "outputs": [],
   "source": [
    "def calc_symbols(string):\n",
    "    pass\n",
    "\n",
    "str_ = input(\"Введите строку, состоящую из символов латинского алфавита и цифр: \")\n",
    "dict_symbols = calc_symbols(string)\n",
    "print( dict_symbols )"
   ]
  },
  {
   "cell_type": "markdown",
   "id": "radio-interference",
   "metadata": {},
   "source": [
    "3. Для заданного списка напишите функцию, которая будет выполнять в нем циклические перестановки. То есть последний элемент будет вставляться на место первого, сдвигая остальной список вправо. Пользоваться удалением (```del```) и вставкой (```.append()```) в списки нельзя."
   ]
  },
  {
   "cell_type": "code",
   "execution_count": null,
   "id": "grave-equation",
   "metadata": {},
   "outputs": [],
   "source": [
    "list_ = [7, 9, 2, 1]\n",
    "\n",
    "def rotate_list( list__ ): \n",
    "     # ваш код здесь\n",
    "    pass\n",
    "\n",
    "# тест\n",
    "for _ in range(len(list_)):\n",
    "    print( list_ )\n",
    "    rotate_list(list_)"
   ]
  },
  {
   "cell_type": "markdown",
   "id": "generic-upper",
   "metadata": {},
   "source": [
    "4. Напишите функцию ```all_divisors(number)```, которая возвращает все делители заданного натурального числа. Постарайтесь найти самое оптимальное решение. Результат представьте в виде списка, отсортированного по возрастанию."
   ]
  },
  {
   "cell_type": "code",
   "execution_count": null,
   "id": "unsigned-vector",
   "metadata": {},
   "outputs": [],
   "source": [
    "def all_divisors(number):\n",
    "    # ваш код здесь\n",
    "    pass\n",
    "\n",
    "N = 12345\n",
    "list_divisors = all_divisors(N)\n",
    "print(list_divisors)"
   ]
  }
 ],
 "metadata": {
  "kernelspec": {
   "display_name": "Python 3",
   "language": "python",
   "name": "python3"
  },
  "language_info": {
   "codemirror_mode": {
    "name": "ipython",
    "version": 3
   },
   "file_extension": ".py",
   "mimetype": "text/x-python",
   "name": "python",
   "nbconvert_exporter": "python",
   "pygments_lexer": "ipython3",
   "version": "3.7.9"
  }
 },
 "nbformat": 4,
 "nbformat_minor": 5
}
