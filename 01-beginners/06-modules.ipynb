{
 "cells": [
  {
   "cell_type": "markdown",
   "id": "higher-selection",
   "metadata": {},
   "source": [
    "# Алгоритмы и структуры данных в Python\n",
    "\n",
    "## Занятие 6: Модули\n",
    "\n",
    "### Работа с внешними модулями в Python\n",
    "\n",
    "Модули подключаются командой import.\n",
    "\n",
    "```python \n",
    "# собственно импорт модуля \n",
    "import  <name_module>\n",
    "\n",
    "# вызов функции из этого модуля\n",
    "<name_module>.func_from_module()\n",
    "```\n",
    "\n",
    "Использование команды from импортирует переменные из модуля. Можно импортировать все переменные:\n",
    "```python\n",
    "from <name_module> import * # !!! никогда так не делайте!\n",
    "func_from_module()\n",
    "```\n",
    "\n",
    "Можно импортировать только одну функцию:\n",
    "```python\n",
    "from <name_module> import func_from_module\n",
    "x = func_from_module()\n",
    "```\n",
    "\n",
    "... или класс\n",
    "```python\n",
    "from <name_module> import class_from_module\n",
    "o = class_from_module()\n",
    "o.method_of_class_from_module()\n",
    "```\n",
    "\n",
    "Можно импортировать несколько переменных:\n",
    "```python\n",
    "from <name_module> import func1_from_module, func2_from_module\n",
    "func1_from_module()\n",
    "...\n",
    "func2_from_module()\n",
    "```\n",
    "\n",
    "Можно импортировать переменную с алиасом:\n",
    "```python\n",
    "from <name_module> import func1_from_module as fn1\n",
    "fn1()\n",
    "```\n",
    "\n",
    "\n",
    "Можно импортировать весь модуль с алиасом (для сокращения кода):\n",
    "```python\n",
    "import numpy as np\n",
    "x = np.array()\n",
    "```\n",
    "\n"
   ]
  },
  {
   "cell_type": "code",
   "execution_count": null,
   "id": "flush-nature",
   "metadata": {},
   "outputs": [],
   "source": [
    "from math import *\n",
    "print(pi)\n",
    "pi = 3\n",
    "print(pi)"
   ]
  },
  {
   "cell_type": "code",
   "execution_count": null,
   "id": "studied-corporation",
   "metadata": {},
   "outputs": [],
   "source": [
    "import math\n",
    "print(math.pi)"
   ]
  },
  {
   "cell_type": "markdown",
   "id": "lovely-pickup",
   "metadata": {},
   "source": [
    "Как посмотреть, где Python ищет модули (если возникает ошибка \"No module named 'some_module'\")"
   ]
  },
  {
   "cell_type": "code",
   "execution_count": null,
   "id": "coral-vulnerability",
   "metadata": {},
   "outputs": [],
   "source": [
    "import sys\n",
    "print(sys.path)"
   ]
  },
  {
   "cell_type": "markdown",
   "id": "editorial-morocco",
   "metadata": {},
   "source": [
    "Как посмотреть установленные модули"
   ]
  },
  {
   "cell_type": "code",
   "execution_count": null,
   "id": "subjective-execution",
   "metadata": {},
   "outputs": [],
   "source": [
    "help(\"modules\")"
   ]
  },
  {
   "cell_type": "markdown",
   "id": "civic-superior",
   "metadata": {},
   "source": [
    "Самое главное: как установить модуль?\n",
    "\n",
    "Модули скачиваются и устанавливаются из репозитория PyPI (https://www.pypi.org), в командной строке, командой \n",
    "```\n",
    "pip install <имя_модуля>\n",
    "```\n",
    "\n",
    "Если в вашей системе Python версии 2 является \"Питоном по умолчанию\" (например, если вы работаете на Mac) и вы работаете вне виртуального окружения (например, venv), то команда может выглядеть так:\n",
    "```\n",
    "pip3 install <имя_модуля>\n",
    "```\n",
    "\n",
    "Для пакета Anaconda пользуйтесь командой\n",
    "```\n",
    "conda install <имя_модуля>\n",
    "```\n",
    "\n",
    "Программа ```pip``` скачает и сам запрашиваемый модуль, и все модули, от которых он зависит.\n",
    "\n",
    "Также эту команду можно запускать из самой тетради, для этого в клетке надо начать строку с восклицательного знака:\n"
   ]
  },
  {
   "cell_type": "code",
   "execution_count": null,
   "id": "direct-device",
   "metadata": {},
   "outputs": [],
   "source": [
    "!pip list"
   ]
  },
  {
   "cell_type": "code",
   "execution_count": null,
   "id": "motivated-strike",
   "metadata": {},
   "outputs": [],
   "source": [
    "!pip show tensorflow"
   ]
  },
  {
   "cell_type": "markdown",
   "id": "forbidden-israeli",
   "metadata": {},
   "source": [
    "Другие полезные аргументы команды ```pip```:\n",
    "\n",
    "1. ```uninstall``` - деинсталляция пакета\n",
    "2. ```freeze``` - зафиксировать версии пакетов и сформировать файл ```requirements.txt```:\n",
    "```\n",
    "pip freeze > requirements.txt\n",
    "```\n",
    "затем можно использовать этот файл для установки пакетов тех же версий, что и на вашем компьютере:\n",
    "```\n",
    "pip install -r requirements.txt\n",
    "```\n",
    "\n",
    "3. ```search``` - поиск пакетов. Лучше все же использовать Google ;)"
   ]
  },
  {
   "cell_type": "code",
   "execution_count": null,
   "id": "treated-animal",
   "metadata": {},
   "outputs": [],
   "source": [
    "!pip search pytorch"
   ]
  },
  {
   "cell_type": "markdown",
   "id": "dominant-wales",
   "metadata": {},
   "source": [
    "### Создание собственного модуля\n",
    "\n",
    "Jupyter Notebook - прекрасная среда для проб, отладки, аналитики и демонстраций, но для разработки серьезных проектов нужно все же создавать файлы с кодом и строить проект с использованием модульной структуры.\n",
    "\n",
    "Чтобы создать модуль, нужно создать обычный файл с кодом на языке Python, поместив в этот файл нужные функции. \n",
    "\n",
    "Создайте в текущем каталоге файл ```mod1.py``` со следующим содержимым:\n",
    "```python\n",
    "def func1 ( x ) :\n",
    "    print(\"Функция вызвана с параметром \", x)\n",
    "```\n",
    "\n",
    "Выполните код:"
   ]
  },
  {
   "cell_type": "code",
   "execution_count": null,
   "id": "short-background",
   "metadata": {},
   "outputs": [],
   "source": [
    "import mod1\n",
    "\n",
    "mod1.func1(\"test\")"
   ]
  },
  {
   "cell_type": "markdown",
   "id": "talented-turtle",
   "metadata": {},
   "source": [
    "Отредактируйте содержимое файла ```mod1.py```:\n",
    "```python\n",
    "def func1 ( x ) :\n",
    "    print(\"Функция ИЗМЕНЕНА и вызвана с параметром \", x)\n",
    "```"
   ]
  },
  {
   "cell_type": "code",
   "execution_count": null,
   "id": "stunning-lodging",
   "metadata": {},
   "outputs": [],
   "source": [
    "import mod1\n",
    "\n",
    "mod1.func1(\"test\")"
   ]
  },
  {
   "cell_type": "markdown",
   "id": "blond-southeast",
   "metadata": {},
   "source": [
    "Изменения вступят в силу только после перезапуска ядра.\n",
    "\n",
    "К счастью, в Jupyter Notebook встроена возможность автоматической подгрузки содержимого модуля по мере его изменения. Для активации автоматической подгрузки модуля, выполните в отдельной клетке следующие команды:\n",
    "```python\n",
    "%load_ext autoreload\n",
    "%autoreload 2\n",
    "```\n",
    "\n",
    "Обычно их помещают в первую, самую верхнюю клетку тетради.\n",
    "\n",
    "### РЕЗЮМЕ\n",
    "\n",
    "По стандарту PEP8 все \"импорты\" должны идти в начале модуля (файла с кодом на Python), импорт одного модуля - одна строка. Блоки модулей следует разделять пустой строкой. Например:\n",
    "```python\n",
    "import re\n",
    "import sys\n",
    "\n",
    "import numpy as np\n",
    "\n",
    "import mod1\n",
    "\n",
    "class my_gorgeous_class(a_class):\n",
    "    ...\n",
    "```\n",
    "\n",
    "Это же правило распространяется и на Jupyter Notebook."
   ]
  },
  {
   "cell_type": "code",
   "execution_count": null,
   "id": "sunset-vanilla",
   "metadata": {},
   "outputs": [],
   "source": [
    "import mod1\n",
    "\n",
    "%load_ext autoreload\n",
    "%autoreload 2"
   ]
  },
  {
   "cell_type": "markdown",
   "id": "changed-graham",
   "metadata": {},
   "source": [
    "### __ПРАКТИКА__\n",
    "\n",
    "Создайте модуль ```mod_polygon``` с функцией  ```calc_area(diag, N_sides)```,  которая рассчитывает площадь равностороннего N-угольника, вписанного в круг с заданной диагональю. Вызовите эту функцию и передайте ей введенные пользователем числа. Выведите ответ в дружественной форме."
   ]
  },
  {
   "cell_type": "code",
   "execution_count": null,
   "id": "removed-surname",
   "metadata": {},
   "outputs": [],
   "source": [
    "#ваш код здесь... и там, в mod_polygon.py\n",
    "import mod_polygon\n",
    "\n",
    "str_diag = input(\"Введите размер диагонали многоугольника: \")\n",
    "str_sides = input(\"Введите количество сторон многоугольника: \")\n",
    "S = mod_square.calc_area( float(str_diag), int(str_sides) )\n",
    "print(\"Площадь многоугольника: {}\".format(S))"
   ]
  }
 ],
 "metadata": {
  "kernelspec": {
   "display_name": "Python 3",
   "language": "python",
   "name": "python3"
  },
  "language_info": {
   "codemirror_mode": {
    "name": "ipython",
    "version": 3
   },
   "file_extension": ".py",
   "mimetype": "text/x-python",
   "name": "python",
   "nbconvert_exporter": "python",
   "pygments_lexer": "ipython3",
   "version": "3.7.9"
  }
 },
 "nbformat": 4,
 "nbformat_minor": 5
}
