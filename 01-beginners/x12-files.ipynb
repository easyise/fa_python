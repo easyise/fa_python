{
 "cells": [
  {
   "cell_type": "markdown",
   "metadata": {},
   "source": [
    "# Алгоритмы и структуры данных в Python\n",
    "\n",
    "## Модуль 12. Работа с файлами"
   ]
  },
  {
   "cell_type": "markdown",
   "metadata": {},
   "source": [
    "### Файлы\n",
    "\n",
    "Файлы открываются функцией ```open(  file_name, mode )```. Функция возвращает объект.\n",
    "\n",
    "```file_name``` - имя файла\n",
    "\n",
    "```mode``` - режим работы с файлом:\n",
    "- 'r': только чтение (default)\n",
    "- 'w': запись ”с ноля” (содержимое файла будет стерто)\n",
    "- 'x': создать (если файл существует, будет выброшено исключение)\n",
    "- 'a': запись в конец файла\n",
    "- 'b': «бинарный» режим\n",
    "- 't': «текстовый режим» (default)\n",
    "- '+': доступ и на запись, и на чтение.\n",
    "\n",
    "\n",
    "У объекта file есть следующие методы:\n",
    " - ```read( size )``` - прочитать содержимое файла размером size байтов/символов\n",
    " - ```readline()``` - прочитать строку и передвинуть указатель на следующую\n",
    " - ```readlines()``` - вернуть список строк\n",
    " - ```write()``` - запись в файл, функция возвращает количество прочитанных символов\n",
    " - ```seek( offset, whence )``` - перемещает указатель файла на offset байт в зависимости от позиции whence: 0 - от начала, 1 - от текущей позиции, 2 - с конца файла. Offset может быть отрицательным.\n",
    " - ```tell()``` - возвращает текущую позицию в байтах, от начала файла\n",
    " - ```truncate( bytes )``` - сократить размер файла до ```bytes``` байт, либо по текущую позицию.\n",
    " \n",
    " \n",
    "Файл закрывается методом ```close()```.\n",
    "\n",
    "По умолчанию файлы открываются в текстовом режиме.\n",
    " \n"
   ]
  },
  {
   "cell_type": "code",
   "execution_count": null,
   "metadata": {},
   "outputs": [],
   "source": [
    "# просто открыли файл, прочитали его содержимое, закрыли\n",
    "file1 = open('files1.txt', 'r')\n",
    "file1_contents = file1.read()\n",
    "file1.close()\n",
    "\n",
    "print(file1_contents)"
   ]
  },
  {
   "cell_type": "markdown",
   "metadata": {},
   "source": [
    "Файлы также можно открывать в бинарном (binary) или байт-режиме. Для этого в параметр ```mode``` функции ```open( filename, mode)``` нужно добавить букву \"__b__\". Тогда все операции чтения будут возвращать байт-строки (строки, которые начинаются на ```b\"...```). Один символ в такой строке равен одному байту, и все байты, которые выходят за семибитную границу таблицы ASCII, будут отображаться в шестнадцатеричном представлении ```\\xd0\\xad...```."
   ]
  },
  {
   "cell_type": "code",
   "execution_count": null,
   "metadata": {},
   "outputs": [],
   "source": [
    "file1 = open('files1.txt', 'rb')\n",
    "file1_contents = file1.read()\n",
    "file1.close()\n",
    "\n",
    "print(file1_contents)"
   ]
  },
  {
   "cell_type": "markdown",
   "metadata": {},
   "source": [
    "Чтобы расшифровать такие строки (привести их к читабельному виду), нам понадобится модуль ```codecs```:"
   ]
  },
  {
   "cell_type": "code",
   "execution_count": null,
   "metadata": {},
   "outputs": [],
   "source": [
    "import codecs"
   ]
  },
  {
   "cell_type": "markdown",
   "metadata": {},
   "source": [
    "Процесс расшифровки выглядит следующим образом: \n",
    " - нужно в модуле ```codecs``` функцией ```lookup()``` подобрать соответствующий кодек (в данном случае мы имеем дело с кодировкой ```utf-8```, в настоящее время это самая распространенная кодировка, остальные - ```windows-1251```, ```koi8-r``` и т.д. - почти не используются);\n",
    " - затем нужно вызвать метод кодека ```decode()``` и передать ему байт-строку;\n",
    " - метод вернет кортеж из \"обычной\" строки и кол-ва декодированных байт.\n",
    " \n",
    "Обратный процесс выполняется с помощью функции ```encode()``` соответствующего кодека."
   ]
  },
  {
   "cell_type": "code",
   "execution_count": null,
   "metadata": {},
   "outputs": [],
   "source": [
    "file1 = open('files1.txt', 'rb')\n",
    "file1_contents_b = file1.read()\n",
    "file1.close()\n",
    "\n",
    "print(file1_contents_b)\n",
    "\n",
    "print('---')\n",
    "\n",
    "# декодируем бинарную строку\n",
    "utf8 = codecs.lookup('utf-8')\n",
    "(file1_contents_t_b, _) = utf8.decode(file1_contents_b)\n",
    "print(file1_contents_t_b)"
   ]
  },
  {
   "cell_type": "markdown",
   "metadata": {},
   "source": [
    "Файлы, с которыми работает программа, не принято держать постоянно открытыми. Если мы хотим что-либо записать в файл, мы подготавливаем данные и записываем их в файл, после этого закрываем его. Если мы хотим что-то прочитать из файла, мы сначала читаем данные, закрываем файл, а потом уже их обрабатываем.\n",
    "\n",
    "Рекомендуется использовать оператор контекста ```with ... as ...:```. "
   ]
  },
  {
   "cell_type": "code",
   "execution_count": null,
   "metadata": {},
   "outputs": [],
   "source": [
    "# лучше использовать конструкцию with:\n",
    "with open('files1.txt', 'r') as f:\n",
    "    \n",
    "    # читаем и печатаем построчно\n",
    "    for line in f:\n",
    "        print(line) # выводит лишние строки, потому что символ новой строки \"\\n\" не отсекается\n",
    "    \n",
    "    # попробуем еще раз, другим способом\n",
    "    for _ in range(5):\n",
    "        print(f.readline()) #выводит 5 пустых строк, почему?\n",
    "        \n",
    "    # и еще раз, перед этим файл \"перемотаем\" на начало методом seek()\n",
    "    f.seek(0)\n",
    "    for _ in range(5):\n",
    "        print(f.readline()[:-1]) # [:-1] отсекаем символ новой строки\n",
    "        # последний символ последней строки удаляется, хотя не должен\n",
    "        \n",
    "    # список строк\n",
    "    f.seek(0)\n",
    "    lines = f.readlines()\n",
    "    print(lines) # обратите внимание на символы новой строки '\\n'\n",
    "    \n",
    "    # корректный построчный вывод\n",
    "    f.seek(0)\n",
    "    for line in f:\n",
    "        print( line.rstrip('\\n') )\n",
    "        \n",
    "    \n",
    "        \n"
   ]
  },
  {
   "cell_type": "code",
   "execution_count": null,
   "metadata": {},
   "outputs": [],
   "source": [
    "# Запишем в файл:\n",
    "with open('files2.txt', 'w') as f:\n",
    "    f.write(\"Hi from Python\")\n",
    "    \n",
    "# Дополним:\n",
    "with open('files2.txt', 'a') as f:\n",
    "    f.write(\"Hi from Python again\")\n",
    "    \n",
    "# Посмотрим:\n",
    "with open('files2.txt', 'r') as f:\n",
    "    print(f.read()) # Hi from PythonHi from Python again - строки склеились, что делать?\n",
    "    \n",
    "# Добавим символ новой строки\n",
    "with open('files2.txt', 'rb+') as f:\n",
    "    str1 = \"Hi from Python\"\n",
    "    pos = f.seek(len(str1))\n",
    "    str2 = f.read()\n",
    "    f.seek(pos)\n",
    "    f.write(b'\\n') # в таком режиме нужно писать в файл байтовые строки\n",
    "    f.write(str2)\n",
    "    f.seek(0)\n",
    "    for line in f:\n",
    "        print( line.rstrip() )\n",
    "#         b'Hi from Python' - обратите внимание: прочитали мы тоже байтовые строки\n",
    "#         b'Hi from Python again'    "
   ]
  },
  {
   "cell_type": "code",
   "execution_count": null,
   "metadata": {},
   "outputs": [],
   "source": [
    "# Удаление из файла\n",
    "# создадим файл из 4-х строк:\n",
    "with open('files3.txt', 'w+') as f:\n",
    "    f.writelines(st+'\\n' for st in [\"Строка 1\", \"Строка 2\", \"Строка 3\", \"Строка 4\"])\n",
    "    f.seek(0)\n",
    "    print(f.read())\n",
    "    \n",
    "# строка 3, допустим, лишняя, удалим:\n",
    "with open('files3.txt', 'r+') as f:\n",
    "    lines = f.readlines() # прочитаем все строки\n",
    "    del lines[2] # удалим 3-ю\n",
    "    f.seek(0) # перемотаем\n",
    "    f.writelines(lines) # запишем оставшиеся строки, указатель встанет в конце файла\n",
    "    pos = f.tell() # запомним позицию\n",
    "    \n",
    "    # напечатаем, что получается\n",
    "    f.seek(0); print(f.read()); # строка 4 задвоилась, потому что мы удалили строку 3, \n",
    "        # а длину файла не скорректировали\n",
    "    \n",
    "    f.truncate( pos ) # \"обрежем\" файл по сохраненной позиции\n",
    "    f.seek(0)\n",
    "    print(f.read()) # готово\n",
    "    \n",
    "    \n",
    "            "
   ]
  },
  {
   "cell_type": "code",
   "execution_count": null,
   "metadata": {},
   "outputs": [],
   "source": [
    "# проверка файла перед операцией над ним:\n",
    "\n",
    "# есть такой файл или нет:\n",
    "file_name = 'abyrvalg.txt'\n",
    "try:\n",
    "    ff = open(\"abyrvalg.txt\", \"r\")\n",
    "except FileNotFoundError:\n",
    "    print(f\"File {file_name} not found!\")\n",
    "else:\n",
    "    ff.close()\n",
    "\n",
    "# если не хочется использовать try...except:\n",
    "import os\n",
    "\n",
    "print( 'File exists' if os.path.exists('files1.txt') else 'File not found')\n",
    "    \n",
    "\n",
    "# пермиссии\n",
    "file_name = 'files2.txt'\n",
    "with open(file_name, 'a') as f: # поиграйте с флагами, посмотрите, как изменится вывод\n",
    "    print(\"File {} is {}\".format(file_name, 'readable' if f.readable() else 'NOT readable'))\n",
    "    print(\"File {} is {}\".format(file_name, 'writable' if f.writable() else 'NOT writable'))\n",
    "    \n",
    "\n"
   ]
  },
  {
   "cell_type": "code",
   "execution_count": null,
   "metadata": {},
   "outputs": [],
   "source": [
    "# Как узнать о файле всё, не открывая его\n",
    "\n",
    "import os\n",
    "import datetime\n",
    "import pwd, grp\n",
    "\n",
    "o = os.stat('files1.txt')\n",
    "\n",
    "print(f\"{o.st_size} bytes\") # - размер в байтах\n",
    "\n",
    "print(datetime.datetime.fromtimestamp(o.st_atime)) # - дата/время последнего доступа,\n",
    "print(datetime.datetime.fromtimestamp(o.st_mtime)) # -  дата последнего изменения,\n",
    "print(datetime.datetime.fromtimestamp(o.st_ctime)) # - в зависимости от платформы: в UNIX\n",
    "                                                #  апдейт метаданных, в Windows - время создания)\n",
    "\n",
    "\n",
    "print(f\"Owner: {pwd.getpwuid(o.st_uid).pw_name} ({o.st_uid})\") # - имя и user id владельца,\n",
    "print(f\"Group: {grp.getgrgid(o.st_gid).gr_name} ({o.st_gid})\") # - название и group id владельца,\n",
    "print(oct(o.st_mode)) # биты прав доступа в восьмеричной системе\n",
    "\n"
   ]
  },
  {
   "cell_type": "markdown",
   "metadata": {},
   "source": [
    "### __ПРАКТИКА__\n",
    "\n",
    "1. Определите, есть ли во входном файле files_excersize01.txt символ '@'. Выведите слово YES и позицию этого символа или NO. \\\n",
    "Входной файл может быть очень большим, поэтому считывать файл нужно посимвольно."
   ]
  },
  {
   "cell_type": "code",
   "execution_count": null,
   "metadata": {},
   "outputs": [],
   "source": [
    "# ваш код здесь"
   ]
  },
  {
   "cell_type": "markdown",
   "metadata": {},
   "source": [
    "2. Во входном файле  files_excersize02.txt записаны несколько цифр, которые могут быть разделены пробелами и концами строк. Выведите в выходной файл их сумму.\n"
   ]
  },
  {
   "cell_type": "code",
   "execution_count": null,
   "metadata": {},
   "outputs": [],
   "source": [
    "# ваш код здесь"
   ]
  },
  {
   "cell_type": "markdown",
   "metadata": {},
   "source": [
    "### Пути и операции с путями\n",
    "\n",
    "Используйте функции и переменные из модуля os:\n",
    "- ```os.getcwd()``` - возвращает путь к текущей папке\n",
    "- ```os.path.isfile( path )``` - True, если по данному пути - файл\n",
    "- ```os.path.isdir( path )``` - True, если по данному пути - директория\n",
    "- ```os.path.exists(path)``` Возвращает True, если указанный файл или папка существует.\n",
    "- ```os.sep``` - разделитель имен директорий в пути: \"/\" или \"\\\\\"\n",
    "- ```normpath(path)``` Возвращает «нормализованный» путь к файлу. В нормализованном пути удалены «циклические» пути — например, путь A/foo/../B превращается в A/B.\n",
    "- ```os.path.abspath(path)``` Преобразует относительный путь в абсолютный, считая относительный путь от текущей рабочей папки.\n",
    "- ```os.path.relpath(path)``` Преобразует абсолютный путь в относильный, считая последний от текущей рабочей папки.\n",
    "- ```os.path.split(path)``` Возвращает кортеж, первый элемент которого — путь к папке, а второй — имя файла.\n",
    "- ```os.path.splitdrive(path)``` Возвращает кортеж, первый элемент которого — буква устройства, а второй — путь к файлу внутри устройства.\n",
    "- ```os.path.splitext(path)``` Возвращает кортеж, второй элемент которого — расширение файла (с точкой), а первый — все остальное.\n",
    "- ```os.path.join(path1,path2,path3,...)``` «Склеивает» путь к файлу из заданных частей, вставляя между ними символ- разделитель папок, принятый в данной операционной системе."
   ]
  },
  {
   "cell_type": "code",
   "execution_count": null,
   "metadata": {},
   "outputs": [],
   "source": [
    "import os\n",
    "\n",
    "# Текущий каталог\n",
    "cwd = os.getcwd()\n",
    "print(cwd)\n",
    "\n",
    "print(\"Path {} is {}\".format(cwd, 'directory' if os.path.isdir(cwd) else ' a file'))\n",
    "print(os.path.normpath('A/foo/../B'))\n",
    "print(os.path.abspath('../Python2'))\n",
    "print(os.path.relpath('/Users'))\n",
    "print(os.path.split(cwd))\n",
    "print(os.path.splitext('myfile.ext'))\n",
    "\n",
    "print(os.path.join('this', 'is', 'my', 'path', 'to', 'the', 'file'))"
   ]
  },
  {
   "cell_type": "markdown",
   "metadata": {},
   "source": [
    "#### Рекурсивный обход директорий\n",
    "\n",
    "Иногда возникает необходимость рекурсивно перебрать все файлы и папки, находящиеся внутри заданной папки. Для этого служит генератор-функция ```os.walk()```. Эта функция принимает параметр — путь к папке, которую необходимо просмотреть. На каждом шаге итерации функция возвращает кортеж ```(path,dirs,files)``` из трех элементов:\n",
    "- ```path``` — пусть к папке, в которую мы только что зашли;\n",
    "- ```dirs``` — список папок, непосредственно содержащихся в папке path (но\n",
    "не в ее подпапках);\n",
    "- ```files``` — список файлов, непосредственно содержащихся в папке path, но не в ее подпапках.\n",
    "Например, чтобы вывести полный список файлов и папок, содержащихся в\n",
    "папке выше по уровню относительно текущей, можно так:"
   ]
  },
  {
   "cell_type": "code",
   "execution_count": null,
   "metadata": {},
   "outputs": [],
   "source": [
    "import os\n",
    "\n",
    "for ( path, dirs, files ) in os.walk( '../' ) :\n",
    "    print(path)\n",
    "    for file in files :\n",
    "        print(os.path.join( path, file ))"
   ]
  },
  {
   "cell_type": "markdown",
   "metadata": {},
   "source": [
    "### __ПРАКТИКА__\n",
    "\n",
    "Обойти содержимое папки \"Мои документы\" (все папки, рекурсивно) и сложить их содержимое (имена файлов с путями) в файл mycomputer.txt в текущую директорию."
   ]
  },
  {
   "cell_type": "code",
   "execution_count": null,
   "metadata": {},
   "outputs": [],
   "source": [
    "for ( path, dirs, files ) in os.walk( 'C:\\\\Users\\\\--user--\\\\Documents' ):\n",
    "    ### print(path)\n",
    "    for file in files :\n",
    "        ### print(os.path.join( path, file ))\n",
    "        pass\n",
    "    "
   ]
  },
  {
   "cell_type": "code",
   "execution_count": null,
   "metadata": {},
   "outputs": [],
   "source": []
  }
 ],
 "metadata": {
  "kernelspec": {
   "display_name": "Python 3",
   "language": "python",
   "name": "python3"
  },
  "language_info": {
   "codemirror_mode": {
    "name": "ipython",
    "version": 3
   },
   "file_extension": ".py",
   "mimetype": "text/x-python",
   "name": "python",
   "nbconvert_exporter": "python",
   "pygments_lexer": "ipython3",
   "version": "3.7.9"
  }
 },
 "nbformat": 4,
 "nbformat_minor": 4
}
