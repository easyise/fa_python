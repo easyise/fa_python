{
 "cells": [
  {
   "cell_type": "markdown",
   "metadata": {},
   "source": [
    "# Алгоритмы и структуры данных в Python\n",
    "\n",
    "## Модуль 9. Классы, исключения"
   ]
  },
  {
   "cell_type": "markdown",
   "metadata": {},
   "source": [
    "### Объекты и классы, основы ООП\n",
    "\n",
    "В Python любая переменная - объект: списки, словари, строки и даже функции и числа. \n",
    "\n",
    "У объектов есть свойства и методы: свойства хранят информацию об объектах, методы - функции, встроенные в объект."
   ]
  },
  {
   "cell_type": "code",
   "execution_count": null,
   "metadata": {},
   "outputs": [],
   "source": [
    "a = 4\n",
    "print(a.real) # свойство\n",
    "print(a.bit_length()) # метод, встроенная функция"
   ]
  },
  {
   "cell_type": "code",
   "execution_count": null,
   "metadata": {},
   "outputs": [],
   "source": [
    "import numpy as np\n",
    "\n",
    "arr = np.arange(10)\n",
    "print(arr)\n",
    "arr.shape # свойство\n",
    "arr.sum() # метод"
   ]
  },
  {
   "cell_type": "markdown",
   "metadata": {},
   "source": [
    "Объекты создаются на базе классов. Класс - это специальный тип данных, на базе которого строятся объекты."
   ]
  },
  {
   "cell_type": "code",
   "execution_count": 1,
   "metadata": {},
   "outputs": [
    {
     "data": {
      "text/plain": [
       "'Ilya'"
      ]
     },
     "execution_count": 1,
     "metadata": {},
     "output_type": "execute_result"
    }
   ],
   "source": [
    "class Human:\n",
    "    eyes = 2\n",
    "    hands = 2\n",
    "    legs = 2\n",
    "    name = None\n",
    "    \n",
    "    def __init__(self, name):\n",
    "        self.name = name\n",
    "    \n",
    "    def get_name(self):\n",
    "        return self.name\n",
    "    \n",
    "man = Human(\"Ilya\")\n",
    "man.get_name()"
   ]
  },
  {
   "cell_type": "code",
   "execution_count": 19,
   "metadata": {},
   "outputs": [
    {
     "name": "stdout",
     "output_type": "stream",
     "text": [
      "Class:  <class '__main__.Human'>\n",
      "Object:  <__main__.Human object at 0x110ac52d0>\n",
      "<class '__main__.Human'>\n"
     ]
    },
    {
     "data": {
      "text/plain": [
       "True"
      ]
     },
     "execution_count": 19,
     "metadata": {},
     "output_type": "execute_result"
    }
   ],
   "source": [
    "print(\"Class: \", Human)\n",
    "print(\"Object: \", man)\n",
    "print( type(man) )\n",
    "isinstance(man, Human)"
   ]
  },
  {
   "cell_type": "markdown",
   "metadata": {},
   "source": [
    "#### Наследование\n",
    "\n",
    "Сделать так, чтобы один класс унаследовал свойства другого класса, просто: нужно при декларации класса указать имя исходного класса в скобках:\n",
    "```python\n",
    "class Student( Human ):\n",
    "    # код вашего класса\n",
    "    \n",
    "```\n",
    "Тогда новый класс получит все методы и свойства класса, от которог он наследован. При этом ```isinstance()``` будет возвращать ```True``` при попытке проверить принадлежность объекта нового класса к тому классу, от которого он наследован. "
   ]
  },
  {
   "cell_type": "code",
   "execution_count": 14,
   "metadata": {},
   "outputs": [
    {
     "name": "stdout",
     "output_type": "stream",
     "text": [
      "2\n",
      "2\n",
      "['Python Programming']\n"
     ]
    }
   ],
   "source": [
    "class Student(Human):\n",
    "    active_courses = []\n",
    "    \n",
    "    def assign_course(self, course):\n",
    "        self.active_courses.append(course)\n",
    "        \n",
    "student = Student('Oleg')\n",
    "student.get_name()\n",
    "student.assign_course('Python Programming')\n",
    "\n",
    "print(student.eyes)\n",
    "print(student.legs)\n",
    "print(student.active_courses)"
   ]
  },
  {
   "cell_type": "code",
   "execution_count": 16,
   "metadata": {},
   "outputs": [
    {
     "name": "stdout",
     "output_type": "stream",
     "text": [
      "<class '__main__.Student'>\n"
     ]
    },
    {
     "data": {
      "text/plain": [
       "True"
      ]
     },
     "execution_count": 16,
     "metadata": {},
     "output_type": "execute_result"
    }
   ],
   "source": [
    "print(type(student))\n",
    "isinstance(student, Human)"
   ]
  },
  {
   "cell_type": "markdown",
   "metadata": {},
   "source": [
    "### Какие преимущетва объектно-ориентированного подхода?\n",
    "\n",
    "1. Объектная модель вполне естественна, поскольку в первую очередь ориентирована на человеческое восприятие мира, а не на компьютерную реализацию\n",
    "2. Общие компоненты могут использоваться многократно без изменений\n",
    "3. В объекты и классы можно инкапсулировать данные и функционал"
   ]
  },
  {
   "cell_type": "code",
   "execution_count": null,
   "metadata": {},
   "outputs": [],
   "source": []
  },
  {
   "cell_type": "markdown",
   "metadata": {},
   "source": [
    "### Обработка исключений\n",
    "\n",
    "Исключение - некое особое событие, которое возникает при выполнении программы, и если оно не \"поймано\" - программа прекращает свою работу.\n",
    "\n",
    "Любая ошибка, возникшая во время выполнения программы является исключением, появление котрого можно обработать программно.\n",
    "\n",
    "Исключения можно не только \"ловить\" но и \"выбрасывать\" самому командой ```raise```.\n",
    "\n",
    "Исключения - удобный способ обработки ошибок и нестандартных ситуаций.\n",
    "\n",
    "Как выглядит обработка исключений:\n",
    " - попытаться (try) выполнить некоторое количество команд в блоке ``` try```\n",
    " - если в какой-либо из них произойдет сбой, то есть будет \"выброшено\" исключение, выполнение кода пректатится\n",
    " - произойдет переход в блок ```except```, в зависимости от класса исключения\n",
    " - выполнение самой программы продолжится после выполнения блока ```finally```\n",
    "\n",
    "```python\n",
    "try:\n",
    "    блок, в котором\n",
    "    мы ожидаем\n",
    "    выброса исключения\n",
    "except IndexError :\n",
    "    этот блок выполняется,\n",
    "    если было выброшено\n",
    "    исключение типа IndexError\n",
    "except ZeroDivisionError :\n",
    "    этот блок выполняется,\n",
    "    если было выброшено\n",
    "    исключение типа ZeroDivisionError\n",
    "except Exception :\n",
    "    этот блок выполняется,\n",
    "    если было выброшено\n",
    "    исключение ЛЮБОГО ТИПА, не \"пойманное\" ранее\n",
    "else:\n",
    "    этот блок выполняется,\n",
    "    если никакого исключения\n",
    "    выброшено не было\n",
    "finally:\n",
    "    этот блок выполняется\n",
    "    независимо от того,\n",
    "    выброшено исключение\n",
    "    или нет\n",
    "\n",
    "```\n",
    "\n",
    "Распространенные типы исключений:\n",
    "\n",
    " - Exception - тип, общий для всех исключений\n",
    " - ZeroDivisionError - попытка деления на ноль\n",
    " - ValueError - попытка выполнить операцию, которую нельзя выполнить с этим значением, например, извлечь квадратный корень из отрицательного числа\n",
    " - IndexError - обращение к несуществующему элементу списка\n",
    " - KeyError - обращение к несуществующему элементу словаря\n",
    " - ImportError - ошибка импорта модуля\n",
    " - AttributeError - обращение к несуществующему атрибуту объекта\n",
    " - KeyboardInterrupt - пользователь нажал Ctrl-C на клавиатуре\n",
    " - UnicodeError - ошибка перекодирования текста\n",
    " - TypeError - недопустимый тип значения\n",
    " - IOError - ошибка ввода-вывода"
   ]
  },
  {
   "cell_type": "code",
   "execution_count": null,
   "metadata": {},
   "outputs": [],
   "source": [
    "def NOD( A, B ):\n",
    "    \"\"\"\n",
    "    Вычисление наибольшего общего делителя чисел A и B\n",
    "    \"\"\"\n",
    "    if A < B :\n",
    "        ( A, B ) = ( B, A )\n",
    "    ( A, B ) = ( B, A % B )\n",
    "    while B > 0 :\n",
    "        ( A, B ) = ( B, A % B )\n",
    "    return A\n",
    "\n",
    "A = int(input(\"Введите число A: \"))\n",
    "B = int(input(\"Введите число В: \"))\n",
    "print( NOD(A,B) )"
   ]
  },
  {
   "cell_type": "code",
   "execution_count": null,
   "metadata": {},
   "outputs": [],
   "source": [
    "# теперь с исключениями\n",
    "try :\n",
    "    A = int(input(\"Введите число A: \"))\n",
    "    B = int(input(\"Введите число В: \"))\n",
    "    print( NOD(A,B) )\n",
    "    \n",
    "except ValueError :\n",
    "    print(f\"Число введено некорректно\")\n",
    "except ZeroDivisionError :\n",
    "    print(\"Попытка деления на нуль\")\n",
    "else:\n",
    "    print(\"Программа выполнена успешно\")\n",
    "finally :\n",
    "    print(\"Расчет окончен\")"
   ]
  },
  {
   "cell_type": "markdown",
   "metadata": {},
   "source": [
    "#### Утверждение (assertion)\n",
    "\n",
    "Инструкция ```assert``` утверждает некоторое выражение, которое в результате возвращает ```True``` или ```False```. Если выражение возвращает ```False```, Python выбрасывает исключение ```AssertionError```. Выражение ```assert``` удобно использовать для контроля качества входных данных в вашей программе, не прибегая к сложным ветвлениям."
   ]
  },
  {
   "cell_type": "code",
   "execution_count": null,
   "metadata": {},
   "outputs": [],
   "source": [
    "num = input(\"Введите число: \")\n",
    "\n",
    "def num_2(num_):\n",
    "    assert type(num_) == int, 'должно быть целое число'\n",
    "    return num_*2\n",
    "\n",
    "print(num_2(num))"
   ]
  },
  {
   "cell_type": "markdown",
   "metadata": {},
   "source": [
    "#### Создание исключений\n",
    "\n",
    "Если условие, которое требует обработки исключительных ситуаций, выходит за рамки синтаксиса оператора ```assert```, мы можем сгенерировать исключение сами. Это делается при помощи оператора ```raise```, ему в качестве параметра передается объект класса ```Exception``` или производного от него."
   ]
  },
  {
   "cell_type": "code",
   "execution_count": null,
   "metadata": {},
   "outputs": [],
   "source": [
    "# пробуем сами выбросить исключение\n",
    "\n",
    "def check_is_5( num ) :\n",
    "    num_int = int(num)\n",
    "    if num_int != 5:\n",
    "        raise Exception(\"Это не 5. Дайте другое число.\")\n",
    "\n",
    "num = input(\"Введите число: \")\n",
    "\n",
    "try:\n",
    "    check_is_5( num )\n",
    "    print(\"5 - это хорошо.\")\n",
    "except ValueError :\n",
    "    print(f\"Число введено некорректно: \\\"{num}\\\"\")\n",
    "except Exception as e:\n",
    "    print(e.args[0])"
   ]
  },
  {
   "cell_type": "markdown",
   "metadata": {},
   "source": [
    "#### Практика\n",
    "\n",
    "1. Напишите функцию, которая вычисляет среднее геометрическое двух чисел (квадратный корень из их произведения). В случае невозможности вычисления такого среднего (когда произведение чисел отрицательно) выбросите исключение. Обработайте исключение и выведите ответ в дружелюбной форме."
   ]
  },
  {
   "cell_type": "code",
   "execution_count": null,
   "metadata": {},
   "outputs": [],
   "source": [
    "# ваш код здесь\n"
   ]
  }
 ],
 "metadata": {
  "kernelspec": {
   "display_name": "Python 3",
   "language": "python",
   "name": "python3"
  },
  "language_info": {
   "codemirror_mode": {
    "name": "ipython",
    "version": 3
   },
   "file_extension": ".py",
   "mimetype": "text/x-python",
   "name": "python",
   "nbconvert_exporter": "python",
   "pygments_lexer": "ipython3",
   "version": "3.7.9"
  }
 },
 "nbformat": 4,
 "nbformat_minor": 4
}
