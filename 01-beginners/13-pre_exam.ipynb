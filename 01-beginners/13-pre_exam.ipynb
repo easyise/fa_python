{
 "cells": [
  {
   "cell_type": "markdown",
   "id": "finnish-comfort",
   "metadata": {},
   "source": [
    "\n",
    "# Алгоритмы и структуры данных в Python\n",
    "\n",
    "## Подготовительное занятие\n"
   ]
  },
  {
   "cell_type": "markdown",
   "id": "cardiovascular-upgrade",
   "metadata": {
    "tags": [
     "Билет 5"
    ]
   },
   "source": [
    "## Билет 5"
   ]
  },
  {
   "cell_type": "markdown",
   "id": "corrected-chamber",
   "metadata": {
    "tags": [
     "task_501",
     "Билет 5"
    ],
    "task_id": 501
   },
   "source": [
    "1. Напишите функцию, которая вычисляет сумму цифр трехзначного числа."
   ]
  },
  {
   "cell_type": "code",
   "execution_count": null,
   "id": "experienced-daily",
   "metadata": {
    "tags": [
     "task_501",
     "Билет 5"
    ],
    "task_id": 501
   },
   "outputs": [],
   "source": [
    "# ваш код здесь\n",
    "\n"
   ]
  },
  {
   "cell_type": "markdown",
   "id": "marine-alberta",
   "metadata": {
    "tags": [
     "task_502",
     "Билет 5"
    ],
    "task_id": 502
   },
   "source": [
    "2. Определить, сколько элементов заданного списка содержится в словаре. Пример: определить сколько элементов списка l1 содержится в словаре d1. (ответ: 2)\n",
    "l1=list('abcdef')\n",
    "d1=dict({'e': 1, 'f': 2, 'g': 3, 'h': 4, 'k': 5})\n"
   ]
  },
  {
   "cell_type": "code",
   "execution_count": null,
   "id": "knowing-secondary",
   "metadata": {
    "tags": [
     "task_502",
     "Билет 5"
    ],
    "task_id": 502
   },
   "outputs": [],
   "source": [
    "# ваш код здесь\n",
    "\n"
   ]
  },
  {
   "cell_type": "markdown",
   "id": "intelligent-berlin",
   "metadata": {
    "tags": [
     "task_503",
     "Билет 5"
    ],
    "task_id": 503
   },
   "source": [
    "3. Сформировать и вывести на экран список из 5 случайных целых чисел от -10 до 10. Для созданного списка: переставить элементы списка в обратном порядке."
   ]
  },
  {
   "cell_type": "code",
   "execution_count": null,
   "id": "graduate-haiti",
   "metadata": {
    "tags": [
     "task_503",
     "Билет 5"
    ],
    "task_id": 503
   },
   "outputs": [],
   "source": [
    "# ваш код здесь\n",
    "\n"
   ]
  },
  {
   "cell_type": "markdown",
   "id": "exposed-drain",
   "metadata": {
    "tags": [
     "Билет 22"
    ]
   },
   "source": [
    "## Билет 22"
   ]
  },
  {
   "cell_type": "markdown",
   "id": "composite-march",
   "metadata": {
    "tags": [
     "task_2201",
     "Билет 22"
    ],
    "task_id": 2201
   },
   "source": [
    "1. Пользователь поочередно вводит 2 строки. Определите, какая строка длиннее и на сколько символов, а какая строка стоит раньше в лексикографическом порядке. Собрать результирующую строку, которая бы содержала 1 и 2 строки, разделенные переносом строки."
   ]
  },
  {
   "cell_type": "code",
   "execution_count": null,
   "id": "strange-touch",
   "metadata": {
    "tags": [
     "task_2201",
     "Билет 22"
    ],
    "task_id": 2201
   },
   "outputs": [],
   "source": [
    "# ваш код здесь\n",
    "\n"
   ]
  },
  {
   "cell_type": "markdown",
   "id": "duplicate-charles",
   "metadata": {
    "tags": [
     "task_2202",
     "Билет 22"
    ],
    "task_id": 2202
   },
   "source": [
    "2. Напишите программу, которая переводит оценку из 100-балльной системы в пятибалльную по правилам, принятым в университете (100/20 = 5, 90/20 = 4,5 = 5, 80/20 = 4 и т.д.)."
   ]
  },
  {
   "cell_type": "code",
   "execution_count": null,
   "id": "certified-contrary",
   "metadata": {
    "tags": [
     "task_2202",
     "Билет 22"
    ],
    "task_id": 2202
   },
   "outputs": [],
   "source": [
    "# ваш код здесь\n",
    "\n"
   ]
  },
  {
   "cell_type": "markdown",
   "id": "continuous-liberty",
   "metadata": {
    "tags": [
     "task_2203",
     "Билет 22"
    ],
    "task_id": 2203
   },
   "source": [
    "3. По номеру года определите, является ли данный год високосным. (год является високосным, если его номер кратен 4, но не кратен 100, а также если он кратен 400)."
   ]
  },
  {
   "cell_type": "code",
   "execution_count": null,
   "id": "premium-reality",
   "metadata": {
    "tags": [
     "task_2203",
     "Билет 22"
    ],
    "task_id": 2203
   },
   "outputs": [],
   "source": [
    "# ваш код здесь\n",
    "\n"
   ]
  }
 ],
 "metadata": {},
 "nbformat": 4,
 "nbformat_minor": 5
}
