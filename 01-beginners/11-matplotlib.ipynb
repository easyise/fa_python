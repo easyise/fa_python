{
 "cells": [
  {
   "cell_type": "markdown",
   "metadata": {},
   "source": [
    "# Алгоритмы и структуры данных в Python\n",
    "\n",
    "## Модуль 11. Библиотека matplotlib\n",
    "\n",
    "1. Знакомство с matplotlib\n",
    "3. Различные типы графиков\n",
    "2. Настройка отображения графиков в jupyter notebook\n",
    "3. Оформление графиков\n",
    "5. Инфографика (круговые, столбчатые диаграммы и т.д.)\n"
   ]
  },
  {
   "cell_type": "code",
   "execution_count": null,
   "metadata": {},
   "outputs": [],
   "source": [
    "import numpy as np\n",
    "import pandas as pd\n",
    "\n",
    "import matplotlib.pyplot as plt\n",
    "%matplotlib inline"
   ]
  },
  {
   "cell_type": "markdown",
   "metadata": {},
   "source": [
    "Графики строятся функцией ```plot()```. Ей достаточно передать единственный параметр с вектором данных для отображения:"
   ]
  },
  {
   "cell_type": "code",
   "execution_count": null,
   "metadata": {},
   "outputs": [],
   "source": [
    "data = np.arange(10) ** 2\n",
    "print(data)\n",
    "plt.plot(data)"
   ]
  },
  {
   "cell_type": "markdown",
   "metadata": {},
   "source": [
    "Также ей можно передать матрицу:"
   ]
  },
  {
   "cell_type": "code",
   "execution_count": null,
   "metadata": {},
   "outputs": [],
   "source": [
    "a = np.array([[1, 2, 3, 4], [1, 4, 9, 16], [10, 40, 90, 160]])\n",
    "plt.plot(a)\n",
    "a"
   ]
  },
  {
   "cell_type": "markdown",
   "metadata": {},
   "source": [
    "Для построения полноценного графика функции $y = f(x)$ необходимо вызывать plot с двумя параметрами plot(x, f(x)). \n",
    "\n",
    "При этом удобно задавать диапазон переменной c помощью метода numpy.linspace."
   ]
  },
  {
   "cell_type": "code",
   "execution_count": null,
   "metadata": {},
   "outputs": [],
   "source": [
    "x = np.linspace(-5, 5, 50)\n",
    "print(x)"
   ]
  },
  {
   "cell_type": "markdown",
   "metadata": {},
   "source": [
    "Выведем график линейной зависимости:"
   ]
  },
  {
   "cell_type": "code",
   "execution_count": null,
   "metadata": {},
   "outputs": [],
   "source": [
    "plt.plot(x, x**2)\n",
    "plt.show()"
   ]
  },
  {
   "cell_type": "markdown",
   "metadata": {},
   "source": [
    "На одном поле можно строить несколько графиков:\n"
   ]
  },
  {
   "cell_type": "code",
   "execution_count": null,
   "metadata": {},
   "outputs": [],
   "source": [
    "x = np.linspace(0, 2, 100)\n",
    "plt.plot(x, x) # линейная зависимость\n",
    "plt.plot(x, x ** 2) # квардратичная зависимость\n",
    "plt.plot(x, x ** 3) # кубическая\n",
    "plt.plot(x, np.exp(x)) # экспоненциальная\n",
    "plt.show()"
   ]
  },
  {
   "cell_type": "markdown",
   "metadata": {},
   "source": [
    "Можно менять цвет линий и их стиль либо указывая их явно через соотв. параметры, либо через параметр ```fmt``` (третий параметр), например, так:"
   ]
  },
  {
   "cell_type": "code",
   "execution_count": null,
   "metadata": {},
   "outputs": [],
   "source": [
    "plt.plot(x, x, color=\"red\", linestyle=\"dotted\") # линейная зависимость - пунктиром, красным\n",
    "plt.plot(x, x ** 2, 'r--', linewidth=\"2\") # квардратичная зависимость - штрих-пунктиром, утолщенным, тоже красным\n",
    "plt.plot(x, x ** 3, 'g+') # кубическая - маркерами\n",
    "plt.plot(x, np.exp(x)) # экспоненциальная\n",
    "plt.show()"
   ]
  },
  {
   "cell_type": "markdown",
   "metadata": {},
   "source": [
    "Чтобы расставить на графике точки, используйте функцию ```.plot()``` с параметром ```fmt='o'```, например:"
   ]
  },
  {
   "cell_type": "code",
   "execution_count": null,
   "metadata": {},
   "outputs": [],
   "source": [
    "plt.plot(x, x ** 3)\n",
    "plt.plot(x[::10], x[::10] ** 3, 'o') # отметим каждую 10-ю точку зеленым маркером"
   ]
  },
  {
   "cell_type": "markdown",
   "metadata": {},
   "source": [
    "Для рисования стрелок используем функцию ```arrow()```."
   ]
  },
  {
   "cell_type": "code",
   "execution_count": null,
   "metadata": {},
   "outputs": [],
   "source": [
    "plt.arrow(0,0, 3,1, head_width=0.2, color='r', length_includes_head=True)\n",
    "plt.arrow(0,0, 1,3, head_width=0.2, color='g', length_includes_head=True)\n",
    "plt.arrow(0,0, 4,4, head_width=0.2, color='b', length_includes_head=True)\n",
    "plt.show()"
   ]
  },
  {
   "cell_type": "markdown",
   "metadata": {},
   "source": [
    "Другие полезные типы графиков:"
   ]
  },
  {
   "cell_type": "code",
   "execution_count": null,
   "metadata": {},
   "outputs": [],
   "source": [
    "x = np.linspace(-1, 1)\n",
    "\n",
    "fig, axes = plt.subplots(1, 3, figsize = (12, 4))\n",
    "\n",
    "# закрасить пространство между графиками\n",
    "axes[0].fill_between(x, np.sqrt(np.abs(x)), x**2, \n",
    "                     color=\"green\", alpha=0.5);\n",
    "axes[0].set_title(\"fill_between\");\n",
    "\n",
    "# столбчатая диаграмма\n",
    "axes[1].bar(np.arange(-5, 6), np.arange(-5, 6)**3, \n",
    "            align=\"center\", width=0.5, alpha=0.5)\n",
    "axes[1].set_title(\"bar\")\n",
    "\n",
    "# ступенчатый график\n",
    "axes[2].step(x, np.sqrt(np.abs(x)), lw=1)\n",
    "axes[2].set_title(\"step\")\n",
    "\n",
    "fig.tight_layout()"
   ]
  },
  {
   "cell_type": "markdown",
   "metadata": {},
   "source": [
    "#### Упражнение\n",
    "\n",
    "- Нарисуйте вектор [1, 2]:"
   ]
  },
  {
   "cell_type": "code",
   "execution_count": null,
   "metadata": {},
   "outputs": [],
   "source": [
    "# ваш код здесь\n"
   ]
  },
  {
   "cell_type": "markdown",
   "metadata": {},
   "source": [
    "- Нарисуйте график синусоиды в диапазоне от $-2\\pi$ до $2\\pi$"
   ]
  },
  {
   "cell_type": "code",
   "execution_count": null,
   "metadata": {},
   "outputs": [],
   "source": [
    "# ваш код здесь\n"
   ]
  },
  {
   "cell_type": "markdown",
   "metadata": {},
   "source": [
    "- Дано: матрица размера Nx2, она содержит случайные числа. Нарисуйте ее строки в виде векторов, исходящих из начала координат"
   ]
  },
  {
   "cell_type": "code",
   "execution_count": null,
   "metadata": {},
   "outputs": [],
   "source": [
    "N = 4\n",
    "M = np.random.random((N,2))\n",
    "# ваш код здесь\n",
    "\n"
   ]
  },
  {
   "cell_type": "markdown",
   "metadata": {},
   "source": [
    "__???__ Все ли вас устраивает в этих графиках?\n",
    "\n",
    "\n",
    "\n",
    "-"
   ]
  },
  {
   "cell_type": "markdown",
   "metadata": {},
   "source": [
    "###  Настройка пространства numpy и отображения графиков"
   ]
  },
  {
   "cell_type": "markdown",
   "metadata": {},
   "source": [
    "Размеры выводимых графиков могут быть настроены как глобально, так и для каждой иллюстрации отдельно.\n",
    "\n",
    "Снова построим линейный график и расстоимся из-за его непропорциональности (и других визуальных недостатков):"
   ]
  },
  {
   "cell_type": "code",
   "execution_count": null,
   "metadata": {},
   "outputs": [],
   "source": [
    "plt.plot(np.arange(10))"
   ]
  },
  {
   "cell_type": "markdown",
   "metadata": {},
   "source": [
    "Перед построением графика проинициализируйте иллюстрацию, вызвав функцию ```figure()``` с параметром ```figsize```, в котором можно передать размеры картинки в дюймах. Соотношение и будет пропорцией отображаемого графика."
   ]
  },
  {
   "cell_type": "code",
   "execution_count": null,
   "metadata": {},
   "outputs": [],
   "source": [
    "plt.figure(figsize=(10,10))\n",
    "plt.plot(np.arange(10))\n",
    "plt.show()"
   ]
  },
  {
   "cell_type": "markdown",
   "metadata": {},
   "source": [
    "Также можно задать нелинейные пропорции осей: логарифмическую, симметричную логарифмическую, логистическую и т.д."
   ]
  },
  {
   "cell_type": "code",
   "execution_count": null,
   "metadata": {},
   "outputs": [],
   "source": [
    "x = np.linspace(-2,2,40)\n",
    "plt.figure(figsize=(10,10))\n",
    "plt.plot(x, x+1)\n",
    "plt.plot(x, np.exp(x))\n",
    "plt.yscale('log')\n",
    "plt.show()"
   ]
  },
  {
   "cell_type": "markdown",
   "metadata": {},
   "source": [
    "Давайте оформим график:\n",
    " - зададим диапазон отображения аргументов и функции\n",
    " - отобразим координатную сетку и оси\n",
    " - зададим метки для осей и самой иллюстрации\n",
    " - выведем легенду.\n",
    "    "
   ]
  },
  {
   "cell_type": "code",
   "execution_count": null,
   "metadata": {},
   "outputs": [],
   "source": [
    "plt.figure(figsize=(10,10))\n",
    "\n",
    "# зададим диапазон по осям, с полями\n",
    "margin = .5\n",
    "plt.ylim((-1.5, 4.5))\n",
    "plt.xlim((x.min()-margin, x.max()+margin))\n",
    "\n",
    "# отобразим координатную сетку и оси\n",
    "plt.grid(color='grey', linestyle=':', linewidth=1)\n",
    "plt.axhline(0,color='black') # x = 0\n",
    "plt.axvline(0,color='black') # y = 0\n",
    "\n",
    "# зададим метки для осей и самой иллюстрации\n",
    "plt.xlabel(\"$x$, аргумент\") \n",
    "plt.ylabel(\"$f(x)$, функция\") # Label for y-axis.\n",
    "plt.title('Линейная и эскпоненциальная зависимости')\n",
    "\n",
    "# построим график\n",
    "plt.plot(x, x+1, label=\"$f(x) = x$\")\n",
    "plt.plot(x, np.exp(x), label=\"$f(x) = e^x$\")\n",
    "\n",
    "# разместим легенду\n",
    "plt.legend(loc='best')\n",
    "\n",
    "plt.show()"
   ]
  },
  {
   "cell_type": "markdown",
   "metadata": {},
   "source": [
    "Получилась довольно громоздкая конструкция. Если в вашей работе надо будет представлять все графики в одинаковом оформлении, ее можно убрать в отдельную функцию (а ее, в свою очередь, в модуль). Для этого нам надо ознакомиться с основными объектами matplotlib.\n",
    "\n",
    "### Основные объекты matplotlib\n",
    "\n",
    " - Объект ```figure``` - сама иллюстрация.\n",
    " - Объект ```axes``` - один из графиков на этой иллюстрации, именно к этому объекту мы будем применять все те методы, с которыми мы ознакомились выше:\n",
    "    - ```.plot()```\n",
    "    - ```.ylim()``` и ```.xlim()```\n",
    "    - ```.title()```, ```.xlabel()```, ```.ylabel()```\n",
    "    - и т.д.\n",
    "\n",
    "Получить экземпляр объекта ```figure``` и требуемое количество ```axes``` можно из функции ```subplots()```, ей надо передать количество графиков по горизонтали и по вертикали. Она возвращает кортеж из иллюстрации и подграфиков - если их несколько, она вернет их список вторым членом кортежа.\n",
    "\n",
    "Построим наши графики в соответствии с объектно-ориентированным подходом:"
   ]
  },
  {
   "cell_type": "code",
   "execution_count": null,
   "metadata": {},
   "outputs": [],
   "source": [
    "fig, ax = plt.subplots(1,1) # пока что нам нужен один график\n",
    "\n",
    "fig.set_size_inches(10,10)\n",
    "\n",
    "ax.plot(x, x+1, label=\"$f(x) = x$\")\n",
    "ax.plot(x, np.exp(x), label=\"$f(x) = e^x$\")\n",
    "\n",
    "plt.show()"
   ]
  },
  {
   "cell_type": "markdown",
   "metadata": {},
   "source": [
    "Перенесем все оформление в функцию:"
   ]
  },
  {
   "cell_type": "code",
   "execution_count": null,
   "metadata": {},
   "outputs": [],
   "source": [
    "def my_plotter(data1, data2, ax=None, xlim=None, ylim=None, **param_dict):\n",
    "    \n",
    "    if ax is None:\n",
    "        \n",
    "        fig, ax = plt.subplots(1,1)\n",
    "        \n",
    "        fig.set_size_inches(10,10)\n",
    "        \n",
    "        ax.axhline(0,color='black') # x = 0\n",
    "        ax.axvline(0,color='black') # y = 0\n",
    "\n",
    "        ax.grid(color='grey', linestyle='-', linewidth=1)\n",
    "\n",
    "        # зададим метки для осей и самой иллюстрации\n",
    "        ax.set_xlabel(\"$x$, аргумент\") \n",
    "        ax.set_ylabel(\"$f(x)$, функция\") # Label for y-axis.\n",
    "        \n",
    "        margin = .5\n",
    "        ax.set_xlim(xlim if xlim is not None else (data1.min()-margin, data1.max()+margin))\n",
    "        ax.set_ylim(ylim if ylim is not None else (data2.min()-margin, data2.max()+margin))\n",
    "\n",
    "    ax.plot(data1, data2, **param_dict)\n",
    "    \n",
    "    return ax"
   ]
  },
  {
   "cell_type": "code",
   "execution_count": null,
   "metadata": {},
   "outputs": [],
   "source": [
    "x = np.linspace(-2,2,40)\n",
    "\n",
    "# построим график\n",
    "ax = my_plotter(x, x+1, label=\"$f(x) = x$\")\n",
    "my_plotter(x, np.exp(x), ax, label=\"$f(x) = e^x$\")\n",
    "\n",
    "ax.set_title('Линейная и эскпоненциальная зависимости')\n",
    "\n",
    "# разместим легенду\n",
    "ax.legend(loc='best')\n",
    "\n",
    "plt.show()\n",
    "\n"
   ]
  },
  {
   "cell_type": "markdown",
   "metadata": {},
   "source": [
    "#### __ЗАДАНИЕ__ \n",
    "\n",
    "1. Используя ```my_plotter()``` выведите на ту же плоскость график функции $y = x^2 +1$ \n",
    "2. Вычислите и отметье точки пересечения графиков красными маркерами \"o\"\n"
   ]
  },
  {
   "cell_type": "code",
   "execution_count": null,
   "metadata": {},
   "outputs": [],
   "source": [
    "# ваш код здесь\n",
    "\n",
    "\n"
   ]
  },
  {
   "cell_type": "markdown",
   "metadata": {},
   "source": [
    "### Инфографика\n",
    "\n",
    "Круговая диаграмма (pie chart) строится функцией ```pie()```. Направление обхода по умолчанию - против часовой стрелки.\n",
    "Параметр ```explode``` позволяет задать смещение для некоторых элементов диаграммы. При этом в ```sizes``` могут быть совершенно любые числа, не обязательно процентное соотношение."
   ]
  },
  {
   "cell_type": "code",
   "execution_count": null,
   "metadata": {},
   "outputs": [],
   "source": [
    "# сделаем графики побольше\n",
    "plt.rcParams['figure.figsize'] = (7.0, 7.0)"
   ]
  },
  {
   "cell_type": "code",
   "execution_count": null,
   "metadata": {},
   "outputs": [],
   "source": [
    "labels = 'Для ежа', 'Для ужа', 'Для моржа', 'Для стрижа'\n",
    "sizes = [15, 30, 45, 10]\n",
    "explode = (0, 0.1, 0, 0) \n",
    "\n",
    "fig1, ax1 = plt.subplots()\n",
    "ax1.pie(sizes, explode=explode, labels=labels, autopct='%1.1f%%', counterclock=False,\n",
    "        shadow=True, startangle=90)\n",
    "\n",
    "plt.show()"
   ]
  },
  {
   "cell_type": "markdown",
   "metadata": {},
   "source": [
    "Столбчатые диаграммы с распределением по группам строятся той же функцией ```bar()```, но для построения \"надстройки\" ей надо передать параметр ```bottom```, который будет содержать данные для \"основной\" диаграммы:"
   ]
  },
  {
   "cell_type": "code",
   "execution_count": null,
   "metadata": {},
   "outputs": [],
   "source": [
    "N = 5\n",
    "menMeans = (20, 35, 30, 35, 27)\n",
    "womenMeans = (25, 32, 34, 20, 25)\n",
    "ind = np.arange(N)    # the x locations for the groups\n",
    "width = 0.35       # the width of the bars: can also be len(x) sequence\n",
    "\n",
    "p1 = plt.bar(ind, menMeans, width)\n",
    "p2 = plt.bar(ind, womenMeans, width,\n",
    "             bottom=menMeans)\n",
    "\n",
    "plt.ylabel('Баллы')\n",
    "plt.title('Баллы по группе и полу')\n",
    "plt.xticks(ind, ('Г1', 'Г2', 'Г3', 'Г4', 'Г5'))\n",
    "plt.yticks(np.arange(0, 81, 10))\n",
    "plt.legend((p1[0], p2[0]), ('М', 'Ж'))\n",
    "\n",
    "plt.show()"
   ]
  },
  {
   "cell_type": "code",
   "execution_count": null,
   "metadata": {},
   "outputs": [],
   "source": [
    "fig, ax = plt.subplots()\n",
    "\n",
    "people = ('Жан-Клод', 'Сильвестр', 'Чак', 'Брюс', 'Арнольд')\n",
    "y_pos = np.arange(len(people))\n",
    "performance = 3 + 10 * np.random.rand(len(people))\n",
    "\n",
    "ax.barh(y_pos, performance, align='center')\n",
    "ax.set_yticks(y_pos)\n",
    "ax.set_yticklabels(people)\n",
    "ax.invert_yaxis()\n",
    "ax.set_xlabel('Крутизна')\n",
    "\n",
    "\n",
    "plt.show()"
   ]
  },
  {
   "cell_type": "markdown",
   "metadata": {},
   "source": [
    "#### ЗАДАНИЕ\n",
    "\n",
    "Постройте столбчатую диаграмму, отражающую смысл пословицы \"за двумя зайцами погонишься - ни одного ни поймаешь\" для количества зайцев, от одного до трех."
   ]
  },
  {
   "cell_type": "code",
   "execution_count": null,
   "metadata": {},
   "outputs": [],
   "source": [
    "# ваш код здесь"
   ]
  }
 ],
 "metadata": {
  "kernelspec": {
   "display_name": "Python 3",
   "language": "python",
   "name": "python3"
  },
  "language_info": {
   "codemirror_mode": {
    "name": "ipython",
    "version": 3
   },
   "file_extension": ".py",
   "mimetype": "text/x-python",
   "name": "python",
   "nbconvert_exporter": "python",
   "pygments_lexer": "ipython3",
   "version": "3.7.9"
  }
 },
 "nbformat": 4,
 "nbformat_minor": 2
}
