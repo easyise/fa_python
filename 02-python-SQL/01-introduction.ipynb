{
 "cells": [
  {
   "cell_type": "markdown",
   "id": "63d48d89",
   "metadata": {},
   "source": [
    "# Системы Управления Базами Данных\n",
    "\n",
    "## Финансовый Университет при Правительстве РФ\n",
    "\n",
    "В данной тетради представлены примеры работы с данными в СУБД SQLite на языке программирования Python и с использованием встренных средств в Jupyter Notebook."
   ]
  },
  {
   "cell_type": "markdown",
   "id": "637239bc",
   "metadata": {},
   "source": [
    "### 1. Работа с данными через Jupyter Notebook\n",
    "\n",
    "В Jupyter Notebook есть встроенные средства для работы с СУБД - для этого нужно установить расширение sql:"
   ]
  },
  {
   "cell_type": "code",
   "execution_count": null,
   "id": "19d8726f",
   "metadata": {},
   "outputs": [],
   "source": [
    "!conda install -y ipython-sql"
   ]
  },
  {
   "cell_type": "markdown",
   "id": "47079e8c",
   "metadata": {},
   "source": [
    "Убедившись, что расширение установлено, следует загрузить его в среду Jupyter:"
   ]
  },
  {
   "cell_type": "code",
   "execution_count": null,
   "id": "613b5bc9",
   "metadata": {},
   "outputs": [],
   "source": [
    "%load_ext sql"
   ]
  },
  {
   "cell_type": "markdown",
   "id": "e67c561a",
   "metadata": {},
   "source": [
    "Данное расширение позволяет нам использовать \"магическую\" команду ```%sql```. Как и любая другая \"магия\" Jupyter, эта команда, запущенная с одним ```%``` - запускает только одну строку SQL-кода (но можно использовать символ переноса строки ```\\```), а ```%%sql``` - позволяет запустить сразу несколько SQL-выражений."
   ]
  },
  {
   "cell_type": "markdown",
   "id": "8da3bd4f",
   "metadata": {},
   "source": [
    "### 1.1 Создание/открытие базы данных\n",
    "\n",
    "Чтобы открыть базу данных, нужно выполнить \"магию\" ```%sql```, которой в качестве параметров следует передать наименование/тип СУБД и, в случае SQLite, наименование файла. Сам параметр выглядит как URL (он, собственно, им и является): тип СУБД - это тип взаимодействия, затем двоеточие и два символа ```/```, и после этого - путь к файлу как будто текущая директория - корневая.\n",
    "\n",
    "```\n",
    "sqlite:// - \"мне нужны данные из СУБД SQLite\"\n",
    "/musicians.db3 - \"вот из этого файла\"\n",
    "```"
   ]
  },
  {
   "cell_type": "code",
   "execution_count": null,
   "id": "745a34f8",
   "metadata": {},
   "outputs": [],
   "source": [
    "%sql sqlite:///musicians.db3"
   ]
  },
  {
   "cell_type": "markdown",
   "id": "55429245",
   "metadata": {},
   "source": [
    "### 1.2 Работа с таблицами\n",
    "\n",
    "Создадим таблицу:"
   ]
  },
  {
   "cell_type": "code",
   "execution_count": null,
   "id": "7e3b3e4b",
   "metadata": {},
   "outputs": [],
   "source": [
    "%%sql sqlite://\n",
    "CREATE TABLE tbl_musician(\n",
    "    musID INTEGER PRIMARY KEY AUTOINCREMENT, \n",
    "    musFirstName VARCHAR(50) NOT NULL,\n",
    "    musLastName VARCHAR(50) NOT NULL\n",
    ");"
   ]
  },
  {
   "cell_type": "markdown",
   "id": "4a7af824",
   "metadata": {},
   "source": [
    "Добавим данные в таблицу:"
   ]
  },
  {
   "cell_type": "code",
   "execution_count": null,
   "id": "63686370",
   "metadata": {},
   "outputs": [],
   "source": [
    "%%sql sqlite://\n",
    "INSERT INTO tbl_musician (musFirstName, musLastName) VALUES ('John', 'Lennon');\n",
    "INSERT INTO tbl_musician (musFirstName, musLastName) VALUES ('George', 'Harrison');\n",
    "INSERT INTO tbl_musician (musFirstName, musLastName) VALUES ('Paul', 'McCartney');\n",
    "INSERT INTO tbl_musician (musFirstName, musLastName) VALUES ('Ringo', 'Starr');\n",
    "INSERT INTO tbl_musician (musFirstName, musLastName) VALUES ('Jack', 'White');\n",
    "INSERT INTO tbl_musician (musFirstName, musLastName) VALUES ('Meg', 'White');\n",
    "INSERT INTO tbl_musician (musFirstName, musLastName) VALUES ('Robert', 'Plant');\n",
    "INSERT INTO tbl_musician (musFirstName, musLastName) VALUES ('Jimmy', 'Page');"
   ]
  },
  {
   "cell_type": "markdown",
   "id": "4f7fce09",
   "metadata": {},
   "source": [
    "Выведем данные на экран. Обратите внимание: результат выполнения ```SELECT```-запроса - pandas dataframe."
   ]
  },
  {
   "cell_type": "code",
   "execution_count": null,
   "id": "d27bca3d",
   "metadata": {},
   "outputs": [],
   "source": [
    "sqlres = %sql SELECT * from tbl_musician\n",
    "sqlres"
   ]
  },
  {
   "cell_type": "markdown",
   "id": "029e86db",
   "metadata": {},
   "source": [
    "Добавим признак принадлежности к группе:"
   ]
  },
  {
   "cell_type": "code",
   "execution_count": null,
   "id": "8a1b5e5f",
   "metadata": {},
   "outputs": [],
   "source": [
    "%sql ALTER TABLE tbl_musician ADD COLUMN musBandID INTEGER NULL DEFAULT NULL;"
   ]
  },
  {
   "cell_type": "code",
   "execution_count": null,
   "id": "d155ef51",
   "metadata": {},
   "outputs": [],
   "source": [
    "%%sql sqlite://\n",
    "CREATE TABLE tbl_band(\n",
    "    bndID INTEGER PRIMARY KEY AUTOINCREMENT, \n",
    "    bndName VARCHAR(50) NOT NULL,\n",
    "    bndCountry VARCHAR(50) NOT NULL\n",
    ");\n",
    "INSERT INTO tbl_band (bndName, bndCountry) VALUES ('The Beatles', 'UK');\n",
    "INSERT INTO tbl_band (bndName, bndCountry) VALUES ('The White Stripes', 'US');\n",
    "INSERT INTO tbl_band (bndName, bndCountry) VALUES ('Led Zeppelin', 'UK');"
   ]
  },
  {
   "cell_type": "code",
   "execution_count": null,
   "id": "fe093796",
   "metadata": {},
   "outputs": [],
   "source": [
    "%sql SELECT * FROM tbl_band"
   ]
  },
  {
   "cell_type": "markdown",
   "id": "5fa780b1",
   "metadata": {},
   "source": [
    "#### ЗАДАНИЕ\n",
    "\n",
    "Напишите и выполните ```UPDATE``` запросы с использованием команды ```%sql```, которые относят музыкантов к соответствующим группам: \n",
    "- Леннон, Харрисон, МакКартни и Старр - Битлз, \n",
    "- Джек и Мег Уайт - The White Stripes, \n",
    "- Плант и Пейдж - Led Zeppelin. "
   ]
  },
  {
   "cell_type": "code",
   "execution_count": null,
   "id": "224baf3e",
   "metadata": {},
   "outputs": [],
   "source": [
    "# подсказка: используйте выражение IN :\n",
    "%sql SELECT * FROM tbl_musician \\\n",
    "WHERE musID IN (1,2,3,4)"
   ]
  },
  {
   "cell_type": "code",
   "execution_count": null,
   "id": "ca948dda",
   "metadata": {},
   "outputs": [],
   "source": [
    "# ваш код здесь\n"
   ]
  },
  {
   "cell_type": "markdown",
   "id": "caeba9c3",
   "metadata": {},
   "source": [
    "## 2. Работа с SQLite из Python\n",
    "\n",
    "В Python есть стандарт взаимодействия с СУБД, он работает для всех СУБД (включая MySQL, MSSQL, Oracle и конечно, SQLite). Последовательность действий при чтении из СУБД следующая: \n",
    "1. Открыть соединение с СУБД\n",
    "2. Открыть курсор\n",
    "3. В рамках открытого курсора выполнить ```SELECT``` запрос\n",
    "4. Получить результаты в виде списка кортежей через функцию ```cursor.fetchall()``` или перебрать курсор в цикле ```for```"
   ]
  },
  {
   "cell_type": "code",
   "execution_count": null,
   "id": "061583d4",
   "metadata": {},
   "outputs": [],
   "source": [
    "import sqlite3"
   ]
  },
  {
   "cell_type": "code",
   "execution_count": null,
   "id": "11d42c27",
   "metadata": {},
   "outputs": [],
   "source": [
    "con = sqlite3.connect('musicians.db3') # соединение\n",
    "cursor = con.cursor() # курсор"
   ]
  },
  {
   "cell_type": "code",
   "execution_count": null,
   "id": "99726c3a",
   "metadata": {},
   "outputs": [],
   "source": [
    "cursor.execute(\"SELECT * FROM tbl_musician\")\n",
    "print(cursor.fetchall())"
   ]
  },
  {
   "cell_type": "code",
   "execution_count": null,
   "id": "4a0e6b20",
   "metadata": {},
   "outputs": [],
   "source": [
    "con.close() # закрыть соединение"
   ]
  },
  {
   "cell_type": "code",
   "execution_count": null,
   "id": "81cc0102",
   "metadata": {},
   "outputs": [],
   "source": [
    "# если нужно получить строки в виде словарей\n",
    "con = sqlite3.connect('musicians.db3')\n",
    "con.row_factory = sqlite3.Row\n",
    "cursor = con.cursor() \n",
    "cursor.execute(\"SELECT * FROM tbl_musician\")\n",
    "print([dict(row) for row in cursor.fetchall()])"
   ]
  },
  {
   "cell_type": "code",
   "execution_count": null,
   "id": "a7d168cb",
   "metadata": {},
   "outputs": [],
   "source": [
    "# можно просто перебрать содержимое курсора в цикле for\n",
    "res = cursor.execute(\"SELECT * FROM tbl_musician\")\n",
    "for row in res:\n",
    "    print(dict(row))"
   ]
  },
  {
   "cell_type": "code",
   "execution_count": null,
   "id": "f64edd96",
   "metadata": {},
   "outputs": [],
   "source": [
    "print(res)"
   ]
  },
  {
   "cell_type": "markdown",
   "id": "76afd4d1",
   "metadata": {},
   "source": [
    "Запрос на добавление записи выполняется также в функции ```execute()``` курсора. Посмотреть количество добавленных/измененных записей можно, обратившись к свойству ```cursor.rowcount```.\n"
   ]
  },
  {
   "cell_type": "code",
   "execution_count": null,
   "id": "794f537f",
   "metadata": {},
   "outputs": [],
   "source": [
    "cursor.execute(\"INSERT INTO tbl_musician (musFirstName, musLastName) VALUES ('Barry', 'White')\")\n",
    "con.commit()\n",
    "print(f\"{cursor.rowcount} rows added\")"
   ]
  },
  {
   "cell_type": "code",
   "execution_count": null,
   "id": "3ce911e2",
   "metadata": {},
   "outputs": [],
   "source": [
    "%sql SELECT * FROM tbl_musician"
   ]
  },
  {
   "cell_type": "markdown",
   "id": "d0a84df4",
   "metadata": {},
   "source": [
    "### ЗАДАНИЕ\n",
    "\n",
    "Выведите всех музыкантов всех групп в формате:\n",
    "```\n",
    "The Beatles are: Lennon, Harrison, McCartney, Starr\n",
    "The White Stripes are: ...\n",
    "и т.д.\n",
    "```"
   ]
  },
  {
   "cell_type": "code",
   "execution_count": null,
   "id": "eaa266d4",
   "metadata": {},
   "outputs": [],
   "source": [
    "# ваш код здесь\n"
   ]
  },
  {
   "cell_type": "markdown",
   "id": "4bc30bcf",
   "metadata": {},
   "source": [
    "### ЗАДАНИЕ НА ДОМ\n",
    "\n",
    "Создайте справочник tbl_occupation с содержимым 'singer' (певец), 'guitarist' (гитарист), 'bassist' (басист) и 'drummer' (ударник). Реализуйте связку многие-ко-многим через таблицу tbl_musician_occupation для вышеозначенных музыкантов и выведите списки всех музыкантов по их специальностям в виде:\n",
    "```\n",
    "Singers: Barry White, Jonh Lennon, ...\n",
    "Guitarists: George Harrison, Jack White, Jimmy Page\n",
    "...\n",
    "``` \n",
    "\n",
    "Для справки:\n",
    "```\n",
    "John Lennon - singer, guitarist\n",
    "George Harrison - singer, guitarist\n",
    "Paul McCartney - singer, bassist\n",
    "Ringo Starr - singer, durmmer\n",
    "Jack White - singer, guitarist\n",
    "Meg White - drummer\n",
    "Robert Plant - singer\n",
    "Jimmy Page - guitarist\n",
    "Barry White - singer\n",
    "```"
   ]
  },
  {
   "cell_type": "code",
   "execution_count": null,
   "id": "1f013a89",
   "metadata": {},
   "outputs": [],
   "source": [
    "# ваш код здесь\n"
   ]
  },
  {
   "cell_type": "code",
   "execution_count": null,
   "id": "c2d97f78",
   "metadata": {},
   "outputs": [],
   "source": []
  }
 ],
 "metadata": {
  "kernelspec": {
   "display_name": "Python 3 (ipykernel)",
   "language": "python",
   "name": "python3"
  },
  "language_info": {
   "codemirror_mode": {
    "name": "ipython",
    "version": 3
   },
   "file_extension": ".py",
   "mimetype": "text/x-python",
   "name": "python",
   "nbconvert_exporter": "python",
   "pygments_lexer": "ipython3",
   "version": "3.9.7"
  }
 },
 "nbformat": 4,
 "nbformat_minor": 5
}
